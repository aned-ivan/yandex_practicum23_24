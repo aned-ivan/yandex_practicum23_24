{
 "cells": [
  {
   "cell_type": "markdown",
   "id": "9f65d582",
   "metadata": {
    "toc": true
   },
   "source": [
    "<h1>Table of Contents<span class=\"tocSkip\"></span></h1>\n",
    "<div class=\"toc\"><ul class=\"toc-item\"><li><span><a href=\"#Задача:\" data-toc-modified-id=\"Задача:-1\"><span class=\"toc-item-num\">1&nbsp;&nbsp;</span>Задача:</a></span></li><li><span><a href=\"#Решение\" data-toc-modified-id=\"Решение-2\"><span class=\"toc-item-num\">2&nbsp;&nbsp;</span>Решение</a></span><ul class=\"toc-item\"><li><span><a href=\"#А)-Единичные-пропуски\" data-toc-modified-id=\"А)-Единичные-пропуски-2.1\"><span class=\"toc-item-num\">2.1&nbsp;&nbsp;</span>А) Единичные пропуски</a></span></li><li><span><a href=\"#B)-Все-пропуски\" data-toc-modified-id=\"B)-Все-пропуски-2.2\"><span class=\"toc-item-num\">2.2&nbsp;&nbsp;</span>B) Все пропуски</a></span></li></ul></li></ul></div>"
   ]
  },
  {
   "cell_type": "markdown",
   "id": "11fee8a2",
   "metadata": {},
   "source": [
    "### Задача:\n",
    "\n",
    "Дан столбец A:\n",
    "\n",
    "А\n",
    "\n",
    "1\n",
    "\n",
    "2\n",
    "\n",
    "3\n",
    "\n",
    "4\n",
    "\n",
    "6\n",
    "\n",
    "10\n",
    "\n",
    "12\n",
    "\n",
    "14\n",
    "\n",
    "16\n",
    "\n",
    "Необходимо:\n",
    "\n",
    "A)\tНаписать код в python, который выведет только ЕДИНИЧНЫЕ пропуски в данном столбце. Т.е. для исходного столбца, мы получим аутпут – [5,11,13,15]\n",
    "\n",
    "B)\tНаписать код в python, который выведет ВСЕ пропуски, т.е. для исходного столбца мы получим аутпут [5,7,8,9,11,13,15]\n"
   ]
  },
  {
   "cell_type": "markdown",
   "id": "909b07cc",
   "metadata": {},
   "source": [
    "### Решение"
   ]
  },
  {
   "cell_type": "code",
   "execution_count": 1,
   "id": "4dbbe6ec",
   "metadata": {},
   "outputs": [],
   "source": [
    "# импортируем библиотеку пандас\n",
    "import pandas as pd"
   ]
  },
  {
   "cell_type": "code",
   "execution_count": 2,
   "id": "6ab860b7",
   "metadata": {},
   "outputs": [
    {
     "data": {
      "text/html": [
       "<div>\n",
       "<style scoped>\n",
       "    .dataframe tbody tr th:only-of-type {\n",
       "        vertical-align: middle;\n",
       "    }\n",
       "\n",
       "    .dataframe tbody tr th {\n",
       "        vertical-align: top;\n",
       "    }\n",
       "\n",
       "    .dataframe thead th {\n",
       "        text-align: right;\n",
       "    }\n",
       "</style>\n",
       "<table border=\"1\" class=\"dataframe\">\n",
       "  <thead>\n",
       "    <tr style=\"text-align: right;\">\n",
       "      <th></th>\n",
       "      <th>A</th>\n",
       "    </tr>\n",
       "  </thead>\n",
       "  <tbody>\n",
       "    <tr>\n",
       "      <th>0</th>\n",
       "      <td>1</td>\n",
       "    </tr>\n",
       "    <tr>\n",
       "      <th>1</th>\n",
       "      <td>2</td>\n",
       "    </tr>\n",
       "    <tr>\n",
       "      <th>2</th>\n",
       "      <td>3</td>\n",
       "    </tr>\n",
       "    <tr>\n",
       "      <th>3</th>\n",
       "      <td>4</td>\n",
       "    </tr>\n",
       "    <tr>\n",
       "      <th>4</th>\n",
       "      <td>6</td>\n",
       "    </tr>\n",
       "    <tr>\n",
       "      <th>5</th>\n",
       "      <td>10</td>\n",
       "    </tr>\n",
       "    <tr>\n",
       "      <th>6</th>\n",
       "      <td>12</td>\n",
       "    </tr>\n",
       "    <tr>\n",
       "      <th>7</th>\n",
       "      <td>14</td>\n",
       "    </tr>\n",
       "    <tr>\n",
       "      <th>8</th>\n",
       "      <td>16</td>\n",
       "    </tr>\n",
       "  </tbody>\n",
       "</table>\n",
       "</div>"
      ],
      "text/plain": [
       "    A\n",
       "0   1\n",
       "1   2\n",
       "2   3\n",
       "3   4\n",
       "4   6\n",
       "5  10\n",
       "6  12\n",
       "7  14\n",
       "8  16"
      ]
     },
     "execution_count": 2,
     "metadata": {},
     "output_type": "execute_result"
    }
   ],
   "source": [
    "#создаем датафрейм как в условии задачи\n",
    "\n",
    "df = pd.DataFrame({'A': [1,2,3,4,6,10,12,14,16]}) \n",
    "df"
   ]
  },
  {
   "cell_type": "markdown",
   "id": "013d0993",
   "metadata": {},
   "source": [
    "#### А) Единичные пропуски"
   ]
  },
  {
   "cell_type": "code",
   "execution_count": 3,
   "id": "7af43fa0",
   "metadata": {},
   "outputs": [
    {
     "data": {
      "text/plain": [
       "[5, 11, 13, 15]"
      ]
     },
     "execution_count": 3,
     "metadata": {},
     "output_type": "execute_result"
    }
   ],
   "source": [
    "# Создаём множество из исходного датафрейма\n",
    "current_set = set(df['A'])\n",
    "current_set\n",
    "\n",
    "# Определим максимальное и минимальное число в исходном датафрейме\n",
    "min_number = min(df['A'])\n",
    "max_number = max(df['A'])\n",
    "\n",
    "# создаем пустой список для сохранения пропущеных чисел\n",
    "lost_numbers = []\n",
    "\n",
    "# создаем цикл, который будет пробегаться по диапазону от 1 до 16\n",
    "for item in range(min_number, max_number):\n",
    "    \n",
    "# Проверяем, что число из диапазона (item) отсутствует в множестве из исходного дамафрейма current_set,\n",
    "# а также проверяем наличие значений справа и слева от проверяемого числа (item - 1 и item + 1) — выявим единичные пропуски\n",
    "# если item соответствует обоим условиям, то добавляем его в список lost_numbers\n",
    "    if item not in current_set and (item - 1 in current_set and item + 1 in current_set):\n",
    "        lost_numbers.append(item)\n",
    "\n",
    "# печатает список с единичными пропусками на экран\n",
    "lost_numbers"
   ]
  },
  {
   "cell_type": "markdown",
   "id": "b5ee8fee",
   "metadata": {},
   "source": [
    "#### B) Все пропуски"
   ]
  },
  {
   "cell_type": "code",
   "execution_count": 4,
   "id": "d043cd63",
   "metadata": {},
   "outputs": [
    {
     "data": {
      "text/plain": [
       "range(1, 17)"
      ]
     },
     "execution_count": 4,
     "metadata": {},
     "output_type": "execute_result"
    }
   ],
   "source": [
    "# создаем диапазон из всех возможных чисел от 1 до 17 для сравления с исходным датафреймом  \n",
    "all_numbers = range(min(df['A']), max(df['A']) + 1) \n",
    "\n",
    "all_numbers"
   ]
  },
  {
   "cell_type": "markdown",
   "id": "455e5128",
   "metadata": {},
   "source": [
    "Далее находим разницу между множеством значений созданного диапазона all_numbers и множеством исходного столбца df['A']: \n",
    "\n",
    "(set(all_numbers) - set(df['A']) \n",
    "\n",
    "Таким образом получим значения диапазона all_numbers, которых нет в исходном диапазоне df['A'].\n",
    "\n",
    "Отсортируем полученный результат и запишем в переменную result."
   ]
  },
  {
   "cell_type": "code",
   "execution_count": 5,
   "id": "4dd1a078",
   "metadata": {},
   "outputs": [
    {
     "data": {
      "text/plain": [
       "[5, 7, 8, 9, 11, 13, 15]"
      ]
     },
     "execution_count": 5,
     "metadata": {},
     "output_type": "execute_result"
    }
   ],
   "source": [
    "result = sorted(list(set(all_numbers) - set(df['A'])))\n",
    "\n",
    "result"
   ]
  }
 ],
 "metadata": {
  "kernelspec": {
   "display_name": "Python 3 (ipykernel)",
   "language": "python",
   "name": "python3"
  },
  "language_info": {
   "codemirror_mode": {
    "name": "ipython",
    "version": 3
   },
   "file_extension": ".py",
   "mimetype": "text/x-python",
   "name": "python",
   "nbconvert_exporter": "python",
   "pygments_lexer": "ipython3",
   "version": "3.9.18"
  },
  "toc": {
   "base_numbering": 1,
   "nav_menu": {},
   "number_sections": true,
   "sideBar": true,
   "skip_h1_title": true,
   "title_cell": "Table of Contents",
   "title_sidebar": "Contents",
   "toc_cell": true,
   "toc_position": {
    "height": "calc(100% - 180px)",
    "left": "10px",
    "top": "150px",
    "width": "341.333px"
   },
   "toc_section_display": true,
   "toc_window_display": true
  }
 },
 "nbformat": 4,
 "nbformat_minor": 5
}
