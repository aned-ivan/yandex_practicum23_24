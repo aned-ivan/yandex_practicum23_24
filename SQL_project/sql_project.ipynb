{
 "cells": [
  {
   "cell_type": "markdown",
   "metadata": {},
   "source": [
    "<div style=\"background:#e5e5e5; color:#000; padding:10px\">\n",
    "\n",
    "Привет еще раз!\\\n",
    "Поздравляю с завершением финального спринта!\n",
    "    \n",
    "\n",
    "Для прокачки <code>SQL</code> и большего понимания как всё устроено, рекомендую <a href=\"https://www.youtube.com/playlist?list=PLkcP_moW_BpOs4gO6SrPrvXu0sPcTyUyp\">youtube лекции</a>\n",
    "\n",
    "\n",
    "</div>"
   ]
  },
  {
   "cell_type": "markdown",
   "metadata": {},
   "source": [
    "<div style=\"border:solid black 2px; padding: 20px\">\n",
    "Иван, привет!\n",
    "    \n",
    " \n",
    "Свои комментарии я буду выделять следующим образом:\n",
    "<div class=\"alert alert-danger\">\n",
    "    \n",
    "  <b>Комментарий тимлида</b>\n",
    "    \n",
    "  ❌ Так выделено то, что необходимо исправить, прежде чем я смогу принять твой проект.\n",
    "</div>\n",
    "    \n",
    "    \n",
    "<div class=\"alert alert-warning\">\n",
    "    \n",
    "  <b>Комментарий тимлида</b>\n",
    "    \n",
    "  ⚠️ Так отмечены не обязательные к доработке моменты. Mожешь учесть их при редактировании проекта. На твое усмотрение.\n",
    "</div>\n",
    "    \n",
    "    \n",
    "<div class=\"alert alert-success\">\n",
    "  \n",
    "  <b>Комментарий тимлида</b>\n",
    "    \n",
    "  ✔️ А так удачные решения и подходы, на которые стоит опираться в будущих проектах.\n",
    "</div>\n",
    "    \n",
    "    \n",
    "<div style=\"border:solid black 2px; padding: 20px\">\n",
    "  \n",
    "    \n",
    "  <b>Чек-лист доработок</b>\n",
    "    \n",
    "  📃 Такой комментарий будет в конце тетрадки. В нем будут еще раз указаны нюансы, требующие обязательного исправления.\n",
    "</div>\n",
    "\n",
    "Предлагаю работать над проектом в форме диалога: если ты <b>что-то меняешь</b> в работе по моим рекомендациям — <b>напиши об этом</b> в ячейке `Markdown` и помечай комментарий каким-то заметным цветом, например так:\n",
    "    \n",
    "    \n",
    "```\n",
    "<div class=\"alert alert-block alert-info\">\n",
    "  \n",
    "  <b>Комментарий cтудента</b>\n",
    "    \n",
    "  Текст комментария.\n",
    "</div>\n",
    "```\n",
    "    \n",
    "<div class=\"alert alert-block alert-info\">\n",
    "  \n",
    "  <b>Комментарий cтудента</b>\n",
    "    \n",
    "  Текст комментария.\n",
    "</div>\n",
    "    \n",
    "Пожалуйста, <b>не перемещай, не изменяй и не удаляй мои комментарии</b>. Такой формат работы поможет выполнить повторную проверку твоего проекта оперативнее.\n",
    "\n",
    "</div>"
   ]
  },
  {
   "cell_type": "markdown",
   "metadata": {},
   "source": [
    "# Анализ базы данных сервиса для чтения книг "
   ]
  },
  {
   "cell_type": "markdown",
   "metadata": {},
   "source": [
    "## Описание проекта\n",
    "Компания купила крупный стартап-сервис для чтения книг по подписке. Руководство компании поставило задачу проанализировать базу данных приобретенного сервиса. \n",
    "Известно, что база содержит информациию о книгах, издательствах, авторах, а также пользовательских обзорах книг. Подробное изучение этих данных поможет сформулировать ценностное предложение для нового продукта."
   ]
  },
  {
   "cell_type": "markdown",
   "metadata": {},
   "source": [
    "## Задачи исследования:\n",
    "1. Посчитать сколько книг вышло после 1 января 2000 года,\n",
    "2. Для каждой книги постичать количество обзоров и средню оценку,\n",
    "3. Определить издательство, которое выпустило наибольшее количество книг толще 50 страниц — так вы исключите из анализа брошюры.\n",
    "4. Определите автора с самой высокой средней оценкой книг — учитывайте только книги с 50 и более оценками.\n",
    "5. Посчитайте среднее количество обзоров от пользователей, которые поставили больше 48 оценок."
   ]
  },
  {
   "cell_type": "markdown",
   "metadata": {},
   "source": [
    "<div class=\"alert alert-success\">\n",
    "  \n",
    "  <b>Комментарий тимлида</b>\n",
    "    \n",
    "  ✔️ Хорошо, что есть описание проекта.\n",
    "</div>"
   ]
  },
  {
   "cell_type": "markdown",
   "metadata": {},
   "source": [
    "## Основная часть"
   ]
  },
  {
   "cell_type": "markdown",
   "metadata": {},
   "source": [
    "### Импорт библиотек и подключение базы данных"
   ]
  },
  {
   "cell_type": "code",
   "execution_count": 1,
   "metadata": {},
   "outputs": [],
   "source": [
    "# импортируем библиотеки\n",
    "import pandas as pd\n",
    "from sqlalchemy import text, create_engine"
   ]
  },
  {
   "cell_type": "code",
   "execution_count": 2,
   "metadata": {},
   "outputs": [],
   "source": [
    "# устанавливаем параметры\n",
    "db_config = {\n",
    "    'user': 'praktikum_student', # имя пользователя\n",
    "    'pwd': 'Sdf4$2;d-d30pp', # пароль\n",
    "    'host': 'rc1b-wcoijxj3yxfsf3fs.mdb.yandexcloud.net',\n",
    "    'port': 6432, # порт подключения\n",
    "    'db': 'data-analyst-final-project-db'} # название базы данных"
   ]
  },
  {
   "cell_type": "markdown",
   "metadata": {},
   "source": [
    "<div class=\"alert alert-warning\">\n",
    "    \n",
    "  <b>Комментарий тимлида</b>\n",
    "    \n",
    "  ⚠️ В будущем, при реальной работе не очень хорошо хранить пароли в явном виде. Можно использовать  разные методы, чтобы скрыть их, например, хранить в специальном скрытом файле .env используя библиотеку python-dotenv.\n",
    "</div>"
   ]
  },
  {
   "cell_type": "code",
   "execution_count": 3,
   "metadata": {},
   "outputs": [],
   "source": [
    "connection_string = 'postgresql://{user}:{pwd}@{host}:{port}/{db}'.format(**db_config)"
   ]
  },
  {
   "cell_type": "code",
   "execution_count": 4,
   "metadata": {},
   "outputs": [],
   "source": [
    "# сохраняем коннектор\n",
    "engine = create_engine(connection_string, connect_args={'sslmode':'require'})"
   ]
  },
  {
   "cell_type": "markdown",
   "metadata": {},
   "source": [
    "### Изучение таблицы book"
   ]
  },
  {
   "cell_type": "code",
   "execution_count": 5,
   "metadata": {},
   "outputs": [],
   "source": [
    "# Выводим 5 строк таблицы book\n",
    "query = '''SELECT * FROM books LIMIT 5'''"
   ]
  },
  {
   "cell_type": "code",
   "execution_count": 6,
   "metadata": {},
   "outputs": [
    {
     "data": {
      "text/html": [
       "<div>\n",
       "<style scoped>\n",
       "    .dataframe tbody tr th:only-of-type {\n",
       "        vertical-align: middle;\n",
       "    }\n",
       "\n",
       "    .dataframe tbody tr th {\n",
       "        vertical-align: top;\n",
       "    }\n",
       "\n",
       "    .dataframe thead th {\n",
       "        text-align: right;\n",
       "    }\n",
       "</style>\n",
       "<table border=\"1\" class=\"dataframe\">\n",
       "  <thead>\n",
       "    <tr style=\"text-align: right;\">\n",
       "      <th></th>\n",
       "      <th>book_id</th>\n",
       "      <th>author_id</th>\n",
       "      <th>title</th>\n",
       "      <th>num_pages</th>\n",
       "      <th>publication_date</th>\n",
       "      <th>publisher_id</th>\n",
       "    </tr>\n",
       "  </thead>\n",
       "  <tbody>\n",
       "    <tr>\n",
       "      <th>0</th>\n",
       "      <td>1</td>\n",
       "      <td>546</td>\n",
       "      <td>'Salem's Lot</td>\n",
       "      <td>594</td>\n",
       "      <td>2005-11-01</td>\n",
       "      <td>93</td>\n",
       "    </tr>\n",
       "    <tr>\n",
       "      <th>1</th>\n",
       "      <td>2</td>\n",
       "      <td>465</td>\n",
       "      <td>1 000 Places to See Before You Die</td>\n",
       "      <td>992</td>\n",
       "      <td>2003-05-22</td>\n",
       "      <td>336</td>\n",
       "    </tr>\n",
       "    <tr>\n",
       "      <th>2</th>\n",
       "      <td>3</td>\n",
       "      <td>407</td>\n",
       "      <td>13 Little Blue Envelopes (Little Blue Envelope...</td>\n",
       "      <td>322</td>\n",
       "      <td>2010-12-21</td>\n",
       "      <td>135</td>\n",
       "    </tr>\n",
       "    <tr>\n",
       "      <th>3</th>\n",
       "      <td>4</td>\n",
       "      <td>82</td>\n",
       "      <td>1491: New Revelations of the Americas Before C...</td>\n",
       "      <td>541</td>\n",
       "      <td>2006-10-10</td>\n",
       "      <td>309</td>\n",
       "    </tr>\n",
       "    <tr>\n",
       "      <th>4</th>\n",
       "      <td>5</td>\n",
       "      <td>125</td>\n",
       "      <td>1776</td>\n",
       "      <td>386</td>\n",
       "      <td>2006-07-04</td>\n",
       "      <td>268</td>\n",
       "    </tr>\n",
       "  </tbody>\n",
       "</table>\n",
       "</div>"
      ],
      "text/plain": [
       "   book_id  author_id                                              title  \\\n",
       "0        1        546                                       'Salem's Lot   \n",
       "1        2        465                 1 000 Places to See Before You Die   \n",
       "2        3        407  13 Little Blue Envelopes (Little Blue Envelope...   \n",
       "3        4         82  1491: New Revelations of the Americas Before C...   \n",
       "4        5        125                                               1776   \n",
       "\n",
       "   num_pages publication_date  publisher_id  \n",
       "0        594       2005-11-01            93  \n",
       "1        992       2003-05-22           336  \n",
       "2        322       2010-12-21           135  \n",
       "3        541       2006-10-10           309  \n",
       "4        386       2006-07-04           268  "
      ]
     },
     "execution_count": 6,
     "metadata": {},
     "output_type": "execute_result"
    }
   ],
   "source": [
    "con=engine.connect()\n",
    "pd.io.sql.read_sql(sql=text(query), con = con)"
   ]
  },
  {
   "cell_type": "code",
   "execution_count": 7,
   "metadata": {},
   "outputs": [],
   "source": [
    "#считаем количество строк таблицы book\n",
    "query = '''\n",
    "SELECT COUNT(book_id)\n",
    "FROM books AS b'''"
   ]
  },
  {
   "cell_type": "code",
   "execution_count": 8,
   "metadata": {},
   "outputs": [
    {
     "data": {
      "text/html": [
       "<div>\n",
       "<style scoped>\n",
       "    .dataframe tbody tr th:only-of-type {\n",
       "        vertical-align: middle;\n",
       "    }\n",
       "\n",
       "    .dataframe tbody tr th {\n",
       "        vertical-align: top;\n",
       "    }\n",
       "\n",
       "    .dataframe thead th {\n",
       "        text-align: right;\n",
       "    }\n",
       "</style>\n",
       "<table border=\"1\" class=\"dataframe\">\n",
       "  <thead>\n",
       "    <tr style=\"text-align: right;\">\n",
       "      <th></th>\n",
       "      <th>count</th>\n",
       "    </tr>\n",
       "  </thead>\n",
       "  <tbody>\n",
       "    <tr>\n",
       "      <th>0</th>\n",
       "      <td>1000</td>\n",
       "    </tr>\n",
       "  </tbody>\n",
       "</table>\n",
       "</div>"
      ],
      "text/plain": [
       "   count\n",
       "0   1000"
      ]
     },
     "execution_count": 8,
     "metadata": {},
     "output_type": "execute_result"
    }
   ],
   "source": [
    "con=engine.connect()\n",
    "pd.io.sql.read_sql(sql=text(query), con = con)"
   ]
  },
  {
   "cell_type": "markdown",
   "metadata": {},
   "source": [
    "### Изучение таблицы authors"
   ]
  },
  {
   "cell_type": "code",
   "execution_count": 9,
   "metadata": {},
   "outputs": [],
   "source": [
    "# Выводим 5 строк таблицы\n",
    "query = '''\n",
    "SELECT *\n",
    "FROM authors AS au\n",
    "LIMIT 5 '''"
   ]
  },
  {
   "cell_type": "code",
   "execution_count": 10,
   "metadata": {},
   "outputs": [
    {
     "data": {
      "text/html": [
       "<div>\n",
       "<style scoped>\n",
       "    .dataframe tbody tr th:only-of-type {\n",
       "        vertical-align: middle;\n",
       "    }\n",
       "\n",
       "    .dataframe tbody tr th {\n",
       "        vertical-align: top;\n",
       "    }\n",
       "\n",
       "    .dataframe thead th {\n",
       "        text-align: right;\n",
       "    }\n",
       "</style>\n",
       "<table border=\"1\" class=\"dataframe\">\n",
       "  <thead>\n",
       "    <tr style=\"text-align: right;\">\n",
       "      <th></th>\n",
       "      <th>author_id</th>\n",
       "      <th>author</th>\n",
       "    </tr>\n",
       "  </thead>\n",
       "  <tbody>\n",
       "    <tr>\n",
       "      <th>0</th>\n",
       "      <td>1</td>\n",
       "      <td>A.S. Byatt</td>\n",
       "    </tr>\n",
       "    <tr>\n",
       "      <th>1</th>\n",
       "      <td>2</td>\n",
       "      <td>Aesop/Laura Harris/Laura Gibbs</td>\n",
       "    </tr>\n",
       "    <tr>\n",
       "      <th>2</th>\n",
       "      <td>3</td>\n",
       "      <td>Agatha Christie</td>\n",
       "    </tr>\n",
       "    <tr>\n",
       "      <th>3</th>\n",
       "      <td>4</td>\n",
       "      <td>Alan Brennert</td>\n",
       "    </tr>\n",
       "    <tr>\n",
       "      <th>4</th>\n",
       "      <td>5</td>\n",
       "      <td>Alan Moore/David   Lloyd</td>\n",
       "    </tr>\n",
       "  </tbody>\n",
       "</table>\n",
       "</div>"
      ],
      "text/plain": [
       "   author_id                          author\n",
       "0          1                      A.S. Byatt\n",
       "1          2  Aesop/Laura Harris/Laura Gibbs\n",
       "2          3                 Agatha Christie\n",
       "3          4                   Alan Brennert\n",
       "4          5        Alan Moore/David   Lloyd"
      ]
     },
     "execution_count": 10,
     "metadata": {},
     "output_type": "execute_result"
    }
   ],
   "source": [
    "con=engine.connect()\n",
    "pd.io.sql.read_sql(sql=text(query), con = con)"
   ]
  },
  {
   "cell_type": "code",
   "execution_count": 11,
   "metadata": {},
   "outputs": [],
   "source": [
    "#считаем количество строк таблицы\n",
    "query = '''\n",
    "SELECT COUNT(author_id)\n",
    "FROM authors AS au '''"
   ]
  },
  {
   "cell_type": "code",
   "execution_count": 12,
   "metadata": {},
   "outputs": [
    {
     "data": {
      "text/html": [
       "<div>\n",
       "<style scoped>\n",
       "    .dataframe tbody tr th:only-of-type {\n",
       "        vertical-align: middle;\n",
       "    }\n",
       "\n",
       "    .dataframe tbody tr th {\n",
       "        vertical-align: top;\n",
       "    }\n",
       "\n",
       "    .dataframe thead th {\n",
       "        text-align: right;\n",
       "    }\n",
       "</style>\n",
       "<table border=\"1\" class=\"dataframe\">\n",
       "  <thead>\n",
       "    <tr style=\"text-align: right;\">\n",
       "      <th></th>\n",
       "      <th>count</th>\n",
       "    </tr>\n",
       "  </thead>\n",
       "  <tbody>\n",
       "    <tr>\n",
       "      <th>0</th>\n",
       "      <td>636</td>\n",
       "    </tr>\n",
       "  </tbody>\n",
       "</table>\n",
       "</div>"
      ],
      "text/plain": [
       "   count\n",
       "0    636"
      ]
     },
     "execution_count": 12,
     "metadata": {},
     "output_type": "execute_result"
    }
   ],
   "source": [
    "con=engine.connect()\n",
    "pd.io.sql.read_sql(sql=text(query), con = con)"
   ]
  },
  {
   "cell_type": "markdown",
   "metadata": {},
   "source": [
    "### Изучение таблицы publishers"
   ]
  },
  {
   "cell_type": "code",
   "execution_count": 13,
   "metadata": {},
   "outputs": [
    {
     "data": {
      "text/html": [
       "<div>\n",
       "<style scoped>\n",
       "    .dataframe tbody tr th:only-of-type {\n",
       "        vertical-align: middle;\n",
       "    }\n",
       "\n",
       "    .dataframe tbody tr th {\n",
       "        vertical-align: top;\n",
       "    }\n",
       "\n",
       "    .dataframe thead th {\n",
       "        text-align: right;\n",
       "    }\n",
       "</style>\n",
       "<table border=\"1\" class=\"dataframe\">\n",
       "  <thead>\n",
       "    <tr style=\"text-align: right;\">\n",
       "      <th></th>\n",
       "      <th>publisher_id</th>\n",
       "      <th>publisher</th>\n",
       "    </tr>\n",
       "  </thead>\n",
       "  <tbody>\n",
       "    <tr>\n",
       "      <th>0</th>\n",
       "      <td>1</td>\n",
       "      <td>Ace</td>\n",
       "    </tr>\n",
       "    <tr>\n",
       "      <th>1</th>\n",
       "      <td>2</td>\n",
       "      <td>Ace Book</td>\n",
       "    </tr>\n",
       "    <tr>\n",
       "      <th>2</th>\n",
       "      <td>3</td>\n",
       "      <td>Ace Books</td>\n",
       "    </tr>\n",
       "    <tr>\n",
       "      <th>3</th>\n",
       "      <td>4</td>\n",
       "      <td>Ace Hardcover</td>\n",
       "    </tr>\n",
       "    <tr>\n",
       "      <th>4</th>\n",
       "      <td>5</td>\n",
       "      <td>Addison Wesley Publishing Company</td>\n",
       "    </tr>\n",
       "  </tbody>\n",
       "</table>\n",
       "</div>"
      ],
      "text/plain": [
       "   publisher_id                          publisher\n",
       "0             1                                Ace\n",
       "1             2                           Ace Book\n",
       "2             3                          Ace Books\n",
       "3             4                      Ace Hardcover\n",
       "4             5  Addison Wesley Publishing Company"
      ]
     },
     "execution_count": 13,
     "metadata": {},
     "output_type": "execute_result"
    }
   ],
   "source": [
    "# Выводим 5 строк таблицы\n",
    "query = '''\n",
    "SELECT *\n",
    "FROM publishers AS pub\n",
    "LIMIT 5 '''\n",
    "\n",
    "con=engine.connect()\n",
    "pd.io.sql.read_sql(sql=text(query), con = con)"
   ]
  },
  {
   "cell_type": "code",
   "execution_count": 14,
   "metadata": {},
   "outputs": [
    {
     "data": {
      "text/html": [
       "<div>\n",
       "<style scoped>\n",
       "    .dataframe tbody tr th:only-of-type {\n",
       "        vertical-align: middle;\n",
       "    }\n",
       "\n",
       "    .dataframe tbody tr th {\n",
       "        vertical-align: top;\n",
       "    }\n",
       "\n",
       "    .dataframe thead th {\n",
       "        text-align: right;\n",
       "    }\n",
       "</style>\n",
       "<table border=\"1\" class=\"dataframe\">\n",
       "  <thead>\n",
       "    <tr style=\"text-align: right;\">\n",
       "      <th></th>\n",
       "      <th>count</th>\n",
       "    </tr>\n",
       "  </thead>\n",
       "  <tbody>\n",
       "    <tr>\n",
       "      <th>0</th>\n",
       "      <td>340</td>\n",
       "    </tr>\n",
       "  </tbody>\n",
       "</table>\n",
       "</div>"
      ],
      "text/plain": [
       "   count\n",
       "0    340"
      ]
     },
     "execution_count": 14,
     "metadata": {},
     "output_type": "execute_result"
    }
   ],
   "source": [
    "# считаем количество строк\n",
    "query = '''\n",
    "SELECT COUNT(publisher_id)\n",
    "FROM publishers AS pub '''\n",
    "\n",
    "con=engine.connect()\n",
    "pd.io.sql.read_sql(sql=text(query), con = con)"
   ]
  },
  {
   "cell_type": "markdown",
   "metadata": {},
   "source": [
    "### Изучение таблицы ratings"
   ]
  },
  {
   "cell_type": "code",
   "execution_count": 15,
   "metadata": {},
   "outputs": [
    {
     "data": {
      "text/html": [
       "<div>\n",
       "<style scoped>\n",
       "    .dataframe tbody tr th:only-of-type {\n",
       "        vertical-align: middle;\n",
       "    }\n",
       "\n",
       "    .dataframe tbody tr th {\n",
       "        vertical-align: top;\n",
       "    }\n",
       "\n",
       "    .dataframe thead th {\n",
       "        text-align: right;\n",
       "    }\n",
       "</style>\n",
       "<table border=\"1\" class=\"dataframe\">\n",
       "  <thead>\n",
       "    <tr style=\"text-align: right;\">\n",
       "      <th></th>\n",
       "      <th>rating_id</th>\n",
       "      <th>book_id</th>\n",
       "      <th>username</th>\n",
       "      <th>rating</th>\n",
       "    </tr>\n",
       "  </thead>\n",
       "  <tbody>\n",
       "    <tr>\n",
       "      <th>0</th>\n",
       "      <td>1</td>\n",
       "      <td>1</td>\n",
       "      <td>ryanfranco</td>\n",
       "      <td>4</td>\n",
       "    </tr>\n",
       "    <tr>\n",
       "      <th>1</th>\n",
       "      <td>2</td>\n",
       "      <td>1</td>\n",
       "      <td>grantpatricia</td>\n",
       "      <td>2</td>\n",
       "    </tr>\n",
       "    <tr>\n",
       "      <th>2</th>\n",
       "      <td>3</td>\n",
       "      <td>1</td>\n",
       "      <td>brandtandrea</td>\n",
       "      <td>5</td>\n",
       "    </tr>\n",
       "    <tr>\n",
       "      <th>3</th>\n",
       "      <td>4</td>\n",
       "      <td>2</td>\n",
       "      <td>lorichen</td>\n",
       "      <td>3</td>\n",
       "    </tr>\n",
       "    <tr>\n",
       "      <th>4</th>\n",
       "      <td>5</td>\n",
       "      <td>2</td>\n",
       "      <td>mariokeller</td>\n",
       "      <td>2</td>\n",
       "    </tr>\n",
       "  </tbody>\n",
       "</table>\n",
       "</div>"
      ],
      "text/plain": [
       "   rating_id  book_id       username  rating\n",
       "0          1        1     ryanfranco       4\n",
       "1          2        1  grantpatricia       2\n",
       "2          3        1   brandtandrea       5\n",
       "3          4        2       lorichen       3\n",
       "4          5        2    mariokeller       2"
      ]
     },
     "execution_count": 15,
     "metadata": {},
     "output_type": "execute_result"
    }
   ],
   "source": [
    "# Выводим 5 строк таблицы\n",
    "query = '''\n",
    "SELECT *\n",
    "FROM ratings AS r\n",
    "LIMIT 5 '''\n",
    "\n",
    "con=engine.connect()\n",
    "pd.io.sql.read_sql(sql=text(query), con = con)"
   ]
  },
  {
   "cell_type": "code",
   "execution_count": 16,
   "metadata": {},
   "outputs": [
    {
     "data": {
      "text/html": [
       "<div>\n",
       "<style scoped>\n",
       "    .dataframe tbody tr th:only-of-type {\n",
       "        vertical-align: middle;\n",
       "    }\n",
       "\n",
       "    .dataframe tbody tr th {\n",
       "        vertical-align: top;\n",
       "    }\n",
       "\n",
       "    .dataframe thead th {\n",
       "        text-align: right;\n",
       "    }\n",
       "</style>\n",
       "<table border=\"1\" class=\"dataframe\">\n",
       "  <thead>\n",
       "    <tr style=\"text-align: right;\">\n",
       "      <th></th>\n",
       "      <th>count</th>\n",
       "    </tr>\n",
       "  </thead>\n",
       "  <tbody>\n",
       "    <tr>\n",
       "      <th>0</th>\n",
       "      <td>6456</td>\n",
       "    </tr>\n",
       "  </tbody>\n",
       "</table>\n",
       "</div>"
      ],
      "text/plain": [
       "   count\n",
       "0   6456"
      ]
     },
     "execution_count": 16,
     "metadata": {},
     "output_type": "execute_result"
    }
   ],
   "source": [
    "# считаем количество строк\n",
    "query = '''\n",
    "SELECT COUNT(rating_id)\n",
    "FROM ratings AS r '''\n",
    "\n",
    "con=engine.connect()\n",
    "pd.io.sql.read_sql(sql=text(query), con = con)"
   ]
  },
  {
   "cell_type": "markdown",
   "metadata": {},
   "source": [
    "### Изучение таблицы reviews"
   ]
  },
  {
   "cell_type": "code",
   "execution_count": 17,
   "metadata": {},
   "outputs": [
    {
     "data": {
      "text/html": [
       "<div>\n",
       "<style scoped>\n",
       "    .dataframe tbody tr th:only-of-type {\n",
       "        vertical-align: middle;\n",
       "    }\n",
       "\n",
       "    .dataframe tbody tr th {\n",
       "        vertical-align: top;\n",
       "    }\n",
       "\n",
       "    .dataframe thead th {\n",
       "        text-align: right;\n",
       "    }\n",
       "</style>\n",
       "<table border=\"1\" class=\"dataframe\">\n",
       "  <thead>\n",
       "    <tr style=\"text-align: right;\">\n",
       "      <th></th>\n",
       "      <th>review_id</th>\n",
       "      <th>book_id</th>\n",
       "      <th>username</th>\n",
       "      <th>text</th>\n",
       "    </tr>\n",
       "  </thead>\n",
       "  <tbody>\n",
       "    <tr>\n",
       "      <th>0</th>\n",
       "      <td>1</td>\n",
       "      <td>1</td>\n",
       "      <td>brandtandrea</td>\n",
       "      <td>Mention society tell send professor analysis. ...</td>\n",
       "    </tr>\n",
       "    <tr>\n",
       "      <th>1</th>\n",
       "      <td>2</td>\n",
       "      <td>1</td>\n",
       "      <td>ryanfranco</td>\n",
       "      <td>Foot glass pretty audience hit themselves. Amo...</td>\n",
       "    </tr>\n",
       "    <tr>\n",
       "      <th>2</th>\n",
       "      <td>3</td>\n",
       "      <td>2</td>\n",
       "      <td>lorichen</td>\n",
       "      <td>Listen treat keep worry. Miss husband tax but ...</td>\n",
       "    </tr>\n",
       "    <tr>\n",
       "      <th>3</th>\n",
       "      <td>4</td>\n",
       "      <td>3</td>\n",
       "      <td>johnsonamanda</td>\n",
       "      <td>Finally month interesting blue could nature cu...</td>\n",
       "    </tr>\n",
       "    <tr>\n",
       "      <th>4</th>\n",
       "      <td>5</td>\n",
       "      <td>3</td>\n",
       "      <td>scotttamara</td>\n",
       "      <td>Nation purpose heavy give wait song will. List...</td>\n",
       "    </tr>\n",
       "  </tbody>\n",
       "</table>\n",
       "</div>"
      ],
      "text/plain": [
       "   review_id  book_id       username  \\\n",
       "0          1        1   brandtandrea   \n",
       "1          2        1     ryanfranco   \n",
       "2          3        2       lorichen   \n",
       "3          4        3  johnsonamanda   \n",
       "4          5        3    scotttamara   \n",
       "\n",
       "                                                text  \n",
       "0  Mention society tell send professor analysis. ...  \n",
       "1  Foot glass pretty audience hit themselves. Amo...  \n",
       "2  Listen treat keep worry. Miss husband tax but ...  \n",
       "3  Finally month interesting blue could nature cu...  \n",
       "4  Nation purpose heavy give wait song will. List...  "
      ]
     },
     "execution_count": 17,
     "metadata": {},
     "output_type": "execute_result"
    }
   ],
   "source": [
    "# Выводим 5 строк таблицы\n",
    "query = '''\n",
    "SELECT *\n",
    "FROM reviews AS rew\n",
    "LIMIT 5 '''\n",
    "\n",
    "con=engine.connect()\n",
    "pd.io.sql.read_sql(sql=text(query), con = con)"
   ]
  },
  {
   "cell_type": "code",
   "execution_count": 18,
   "metadata": {},
   "outputs": [
    {
     "data": {
      "text/html": [
       "<div>\n",
       "<style scoped>\n",
       "    .dataframe tbody tr th:only-of-type {\n",
       "        vertical-align: middle;\n",
       "    }\n",
       "\n",
       "    .dataframe tbody tr th {\n",
       "        vertical-align: top;\n",
       "    }\n",
       "\n",
       "    .dataframe thead th {\n",
       "        text-align: right;\n",
       "    }\n",
       "</style>\n",
       "<table border=\"1\" class=\"dataframe\">\n",
       "  <thead>\n",
       "    <tr style=\"text-align: right;\">\n",
       "      <th></th>\n",
       "      <th>count</th>\n",
       "    </tr>\n",
       "  </thead>\n",
       "  <tbody>\n",
       "    <tr>\n",
       "      <th>0</th>\n",
       "      <td>2793</td>\n",
       "    </tr>\n",
       "  </tbody>\n",
       "</table>\n",
       "</div>"
      ],
      "text/plain": [
       "   count\n",
       "0   2793"
      ]
     },
     "execution_count": 18,
     "metadata": {},
     "output_type": "execute_result"
    }
   ],
   "source": [
    "# считаем количество строк\n",
    "query = '''\n",
    "SELECT COUNT(review_id)\n",
    "FROM reviews AS rew '''\n",
    "\n",
    "con=engine.connect()\n",
    "pd.io.sql.read_sql(sql=text(query), con = con)"
   ]
  },
  {
   "cell_type": "markdown",
   "metadata": {},
   "source": [
    "<div class=\"alert alert-success\">\n",
    "  \n",
    "  <b>Комментарий тимлида</b>\n",
    "    \n",
    "  ✔️ Данные посмотрели. Здорово, что используем limit!\n",
    "</div>"
   ]
  },
  {
   "cell_type": "markdown",
   "metadata": {},
   "source": [
    "### Задание 1. Посчитайте, сколько книг вышло после 1 января 2000 года"
   ]
  },
  {
   "cell_type": "code",
   "execution_count": 19,
   "metadata": {},
   "outputs": [
    {
     "data": {
      "text/html": [
       "<div>\n",
       "<style scoped>\n",
       "    .dataframe tbody tr th:only-of-type {\n",
       "        vertical-align: middle;\n",
       "    }\n",
       "\n",
       "    .dataframe tbody tr th {\n",
       "        vertical-align: top;\n",
       "    }\n",
       "\n",
       "    .dataframe thead th {\n",
       "        text-align: right;\n",
       "    }\n",
       "</style>\n",
       "<table border=\"1\" class=\"dataframe\">\n",
       "  <thead>\n",
       "    <tr style=\"text-align: right;\">\n",
       "      <th></th>\n",
       "      <th>count</th>\n",
       "    </tr>\n",
       "  </thead>\n",
       "  <tbody>\n",
       "    <tr>\n",
       "      <th>0</th>\n",
       "      <td>819</td>\n",
       "    </tr>\n",
       "  </tbody>\n",
       "</table>\n",
       "</div>"
      ],
      "text/plain": [
       "   count\n",
       "0    819"
      ]
     },
     "execution_count": 19,
     "metadata": {},
     "output_type": "execute_result"
    }
   ],
   "source": [
    "query = '''\n",
    "SELECT COUNT(book_id)\n",
    "FROM books AS b\n",
    "WHERE publication_date > '2000-01-01'\n",
    "'''\n",
    "\n",
    "con=engine.connect()\n",
    "pd.io.sql.read_sql(sql=text(query), con = con)"
   ]
  },
  {
   "cell_type": "markdown",
   "metadata": {},
   "source": [
    "Ответ: После 1 января 2000 года вышло 819 книг."
   ]
  },
  {
   "cell_type": "markdown",
   "metadata": {},
   "source": [
    "<div class=\"alert alert-success\">\n",
    "  \n",
    "  <b>Комментарий тимлида</b>\n",
    "    \n",
    "  ✔️ Можно уточнить у заказчика, включаем мы 1 января или нет.\n",
    "</div>"
   ]
  },
  {
   "cell_type": "markdown",
   "metadata": {},
   "source": [
    "### Задание 2. Для каждой книги посчитайте количество обзоров и среднюю оценку"
   ]
  },
  {
   "cell_type": "code",
   "execution_count": 20,
   "metadata": {},
   "outputs": [
    {
     "data": {
      "text/html": [
       "<div>\n",
       "<style scoped>\n",
       "    .dataframe tbody tr th:only-of-type {\n",
       "        vertical-align: middle;\n",
       "    }\n",
       "\n",
       "    .dataframe tbody tr th {\n",
       "        vertical-align: top;\n",
       "    }\n",
       "\n",
       "    .dataframe thead th {\n",
       "        text-align: right;\n",
       "    }\n",
       "</style>\n",
       "<table border=\"1\" class=\"dataframe\">\n",
       "  <thead>\n",
       "    <tr style=\"text-align: right;\">\n",
       "      <th></th>\n",
       "      <th>book_id</th>\n",
       "      <th>title</th>\n",
       "      <th>count_review</th>\n",
       "      <th>avg_rating</th>\n",
       "    </tr>\n",
       "  </thead>\n",
       "  <tbody>\n",
       "    <tr>\n",
       "      <th>0</th>\n",
       "      <td>948</td>\n",
       "      <td>Twilight (Twilight  #1)</td>\n",
       "      <td>7</td>\n",
       "      <td>3.662500</td>\n",
       "    </tr>\n",
       "    <tr>\n",
       "      <th>1</th>\n",
       "      <td>207</td>\n",
       "      <td>Eat  Pray  Love</td>\n",
       "      <td>6</td>\n",
       "      <td>3.395833</td>\n",
       "    </tr>\n",
       "    <tr>\n",
       "      <th>2</th>\n",
       "      <td>299</td>\n",
       "      <td>Harry Potter and the Chamber of Secrets (Harry...</td>\n",
       "      <td>6</td>\n",
       "      <td>4.287500</td>\n",
       "    </tr>\n",
       "    <tr>\n",
       "      <th>3</th>\n",
       "      <td>302</td>\n",
       "      <td>Harry Potter and the Prisoner of Azkaban (Harr...</td>\n",
       "      <td>6</td>\n",
       "      <td>4.414634</td>\n",
       "    </tr>\n",
       "    <tr>\n",
       "      <th>4</th>\n",
       "      <td>497</td>\n",
       "      <td>Outlander (Outlander  #1)</td>\n",
       "      <td>6</td>\n",
       "      <td>4.125000</td>\n",
       "    </tr>\n",
       "    <tr>\n",
       "      <th>...</th>\n",
       "      <td>...</td>\n",
       "      <td>...</td>\n",
       "      <td>...</td>\n",
       "      <td>...</td>\n",
       "    </tr>\n",
       "    <tr>\n",
       "      <th>995</th>\n",
       "      <td>191</td>\n",
       "      <td>Disney's Beauty and the Beast (A Little Golden...</td>\n",
       "      <td>0</td>\n",
       "      <td>NaN</td>\n",
       "    </tr>\n",
       "    <tr>\n",
       "      <th>996</th>\n",
       "      <td>221</td>\n",
       "      <td>Essential Tales and Poems</td>\n",
       "      <td>0</td>\n",
       "      <td>NaN</td>\n",
       "    </tr>\n",
       "    <tr>\n",
       "      <th>997</th>\n",
       "      <td>387</td>\n",
       "      <td>Leonardo's Notebooks</td>\n",
       "      <td>0</td>\n",
       "      <td>NaN</td>\n",
       "    </tr>\n",
       "    <tr>\n",
       "      <th>998</th>\n",
       "      <td>672</td>\n",
       "      <td>The Cat in the Hat and Other Dr. Seuss Favorites</td>\n",
       "      <td>0</td>\n",
       "      <td>NaN</td>\n",
       "    </tr>\n",
       "    <tr>\n",
       "      <th>999</th>\n",
       "      <td>808</td>\n",
       "      <td>The Natural Way to Draw</td>\n",
       "      <td>0</td>\n",
       "      <td>NaN</td>\n",
       "    </tr>\n",
       "  </tbody>\n",
       "</table>\n",
       "<p>1000 rows × 4 columns</p>\n",
       "</div>"
      ],
      "text/plain": [
       "     book_id                                              title  count_review  \\\n",
       "0        948                            Twilight (Twilight  #1)             7   \n",
       "1        207                                    Eat  Pray  Love             6   \n",
       "2        299  Harry Potter and the Chamber of Secrets (Harry...             6   \n",
       "3        302  Harry Potter and the Prisoner of Azkaban (Harr...             6   \n",
       "4        497                          Outlander (Outlander  #1)             6   \n",
       "..       ...                                                ...           ...   \n",
       "995      191  Disney's Beauty and the Beast (A Little Golden...             0   \n",
       "996      221                          Essential Tales and Poems             0   \n",
       "997      387                               Leonardo's Notebooks             0   \n",
       "998      672   The Cat in the Hat and Other Dr. Seuss Favorites             0   \n",
       "999      808                            The Natural Way to Draw             0   \n",
       "\n",
       "     avg_rating  \n",
       "0      3.662500  \n",
       "1      3.395833  \n",
       "2      4.287500  \n",
       "3      4.414634  \n",
       "4      4.125000  \n",
       "..          ...  \n",
       "995         NaN  \n",
       "996         NaN  \n",
       "997         NaN  \n",
       "998         NaN  \n",
       "999         NaN  \n",
       "\n",
       "[1000 rows x 4 columns]"
      ]
     },
     "execution_count": 20,
     "metadata": {},
     "output_type": "execute_result"
    }
   ],
   "source": [
    "query = '''\n",
    "SELECT DISTINCT b.book_id,\n",
    "       b.title,\n",
    "       COUNT(DISTINCT r.review_id) AS count_review,\n",
    "       AVG(rg.rating) AS avg_rating\n",
    "FROM books AS b \n",
    "LEFT OUTER JOIN reviews AS r ON b.book_id=r.book_id \n",
    "LEFT OUTER JOIN ratings AS rg ON r.book_id=rg.book_id\n",
    "GROUP BY DISTINCT b.book_id, b.title\n",
    "ORDER BY COUNT(DISTINCT r.review_id) DESC\n",
    "'''\n",
    "\n",
    "con=engine.connect()\n",
    "pd.io.sql.read_sql(sql=text(query), con = con)"
   ]
  },
  {
   "cell_type": "markdown",
   "metadata": {},
   "source": [
    "Ответ: Для каждой книги посчитано количество обзоров и средняя оценка. Есть книги, на которые нет ни одного обзора и оценки. "
   ]
  },
  {
   "cell_type": "markdown",
   "metadata": {},
   "source": [
    "<div class=\"alert alert-danger\">\n",
    "    \n",
    "  <b>Комментарий тимлида</b>\n",
    "    \n",
    "  ❌ У нас очень большое число отзывов, например, по Сумеркам (Twilight). Попробуй сделать проверку: сравни сумму по столбцу reviews_count с общим числом отзывов в базе.\n",
    "</div>"
   ]
  },
  {
   "cell_type": "markdown",
   "metadata": {},
   "source": [
    "<div class=\"alert alert-block alert-info\">\n",
    "  \n",
    "<b>Комментарий cтудента</b>\n",
    "    \n",
    "Применил оператор distinct. Теперь сумма обзоров в моем запросе соответствует общему количеству запросов в исходной таблице reviews — 2793. Добавил в запрос вывод названия книги.\n",
    "</div>\n",
    "<div class=\"alert alert-success\">\n",
    "  \n",
    "  <b>Комментарий тимлида v.2</b>\n",
    "    \n",
    "  ✔️ Обзоров на Сумерки больше всего.\n",
    "</div>"
   ]
  },
  {
   "cell_type": "markdown",
   "metadata": {},
   "source": [
    "### Задание 3. Определите издательство, которое выпустило наибольшее число книг толще 50 страниц — так вы исключите из анализа брошюры"
   ]
  },
  {
   "cell_type": "code",
   "execution_count": 21,
   "metadata": {},
   "outputs": [
    {
     "data": {
      "text/html": [
       "<div>\n",
       "<style scoped>\n",
       "    .dataframe tbody tr th:only-of-type {\n",
       "        vertical-align: middle;\n",
       "    }\n",
       "\n",
       "    .dataframe tbody tr th {\n",
       "        vertical-align: top;\n",
       "    }\n",
       "\n",
       "    .dataframe thead th {\n",
       "        text-align: right;\n",
       "    }\n",
       "</style>\n",
       "<table border=\"1\" class=\"dataframe\">\n",
       "  <thead>\n",
       "    <tr style=\"text-align: right;\">\n",
       "      <th></th>\n",
       "      <th>publisher_id</th>\n",
       "      <th>publisher</th>\n",
       "      <th>count_book</th>\n",
       "    </tr>\n",
       "  </thead>\n",
       "  <tbody>\n",
       "    <tr>\n",
       "      <th>0</th>\n",
       "      <td>212</td>\n",
       "      <td>Penguin Books</td>\n",
       "      <td>42</td>\n",
       "    </tr>\n",
       "  </tbody>\n",
       "</table>\n",
       "</div>"
      ],
      "text/plain": [
       "   publisher_id      publisher  count_book\n",
       "0           212  Penguin Books          42"
      ]
     },
     "execution_count": 21,
     "metadata": {},
     "output_type": "execute_result"
    }
   ],
   "source": [
    "query = '''\n",
    "SELECT p.publisher_id,\n",
    "       p.publisher,\n",
    "    COUNT(b.book_id) AS count_book\n",
    "FROM publishers AS p \n",
    "LEFT JOIN books AS b ON p.publisher_id = b.publisher_id \n",
    "WHERE num_pages > 50\n",
    "GROUP BY p.publisher_id\n",
    "ORDER BY COUNT(b.book_id) DESC\n",
    "LIMIT 1\n",
    "'''\n",
    "\n",
    "con=engine.connect()\n",
    "pd.io.sql.read_sql(sql=text(query), con = con)"
   ]
  },
  {
   "cell_type": "markdown",
   "metadata": {},
   "source": [
    "Ответ: Наибольшее число книг толще 50 страниц выпустило издательство Penguin Books под id-номером 212 (42 книги)."
   ]
  },
  {
   "cell_type": "markdown",
   "metadata": {},
   "source": [
    "<div class=\"alert alert-success\">\n",
    "  \n",
    "  <b>Комментарий тимлида</b>\n",
    "    \n",
    "  ✔️ Выявили издательство.\n",
    "</div>"
   ]
  },
  {
   "cell_type": "markdown",
   "metadata": {},
   "source": [
    "### Задание 4. Определите автора с самой высокой средней оценкой книг — учитывайте только книги с 50 и более оценками"
   ]
  },
  {
   "cell_type": "code",
   "execution_count": 22,
   "metadata": {},
   "outputs": [
    {
     "data": {
      "text/html": [
       "<div>\n",
       "<style scoped>\n",
       "    .dataframe tbody tr th:only-of-type {\n",
       "        vertical-align: middle;\n",
       "    }\n",
       "\n",
       "    .dataframe tbody tr th {\n",
       "        vertical-align: top;\n",
       "    }\n",
       "\n",
       "    .dataframe thead th {\n",
       "        text-align: right;\n",
       "    }\n",
       "</style>\n",
       "<table border=\"1\" class=\"dataframe\">\n",
       "  <thead>\n",
       "    <tr style=\"text-align: right;\">\n",
       "      <th></th>\n",
       "      <th>author</th>\n",
       "    </tr>\n",
       "  </thead>\n",
       "  <tbody>\n",
       "    <tr>\n",
       "      <th>0</th>\n",
       "      <td>J.K. Rowling/Mary GrandPré</td>\n",
       "    </tr>\n",
       "  </tbody>\n",
       "</table>\n",
       "</div>"
      ],
      "text/plain": [
       "                       author\n",
       "0  J.K. Rowling/Mary GrandPré"
      ]
     },
     "execution_count": 22,
     "metadata": {},
     "output_type": "execute_result"
    }
   ],
   "source": [
    "query = '''\n",
    "SELECT a.author\n",
    "FROM authors a \n",
    "WHERE a.author_id IN (SELECT b.author_id\n",
    "                      FROM books b\n",
    "                      WHERE b.book_id IN (SELECT book_id_new\n",
    "                                          FROM (SELECT book_id AS book_id_new,\n",
    "                                                       AVG(r2.rating) AS avg_rating\n",
    "                                                 FROM (SELECT count(r.rating_id) AS count_rating,\n",
    "                                                              b.book_id AS bk\n",
    "                                                       FROM ratings AS r \n",
    "                                                       LEFT JOIN books AS b ON r.book_id = b.book_id\n",
    "                                                       GROUP BY b.book_id\n",
    "                                                       HAVING count(r.rating_id) >= 50) AS t1\n",
    "                                                 LEFT JOIN ratings r2 ON t1.bk = r2.book_id\n",
    "                                                 GROUP BY book_id\n",
    "                                                 ORDER BY AVG(r2.rating) DESC\n",
    "                                                 LIMIT 1) AS only_book))\n",
    "'''\n",
    "\n",
    "con=engine.connect()\n",
    "pd.io.sql.read_sql(sql=text(query), con = con)"
   ]
  },
  {
   "cell_type": "markdown",
   "metadata": {},
   "source": [
    "Ответ: J.K. Rowling/Mary GrandPré — автор с самой высокой средней оценкой книг, если учитывать книги, которые имеют 50 и более оценок."
   ]
  },
  {
   "cell_type": "markdown",
   "metadata": {},
   "source": [
    "<div class=\"alert alert-success\">\n",
    "  \n",
    "  <b>Комментарий тимлида</b>\n",
    "    \n",
    "  ✔️ Да, у Джоан Роулинг рейтинг самый высокий.\n",
    "</div>"
   ]
  },
  {
   "cell_type": "markdown",
   "metadata": {},
   "source": [
    "### Задание 5. Посчитайте среднее количество обзоров от пользователей, которые поставили больше 48 оценок"
   ]
  },
  {
   "cell_type": "code",
   "execution_count": 23,
   "metadata": {},
   "outputs": [
    {
     "data": {
      "text/html": [
       "<div>\n",
       "<style scoped>\n",
       "    .dataframe tbody tr th:only-of-type {\n",
       "        vertical-align: middle;\n",
       "    }\n",
       "\n",
       "    .dataframe tbody tr th {\n",
       "        vertical-align: top;\n",
       "    }\n",
       "\n",
       "    .dataframe thead th {\n",
       "        text-align: right;\n",
       "    }\n",
       "</style>\n",
       "<table border=\"1\" class=\"dataframe\">\n",
       "  <thead>\n",
       "    <tr style=\"text-align: right;\">\n",
       "      <th></th>\n",
       "      <th>avg</th>\n",
       "    </tr>\n",
       "  </thead>\n",
       "  <tbody>\n",
       "    <tr>\n",
       "      <th>0</th>\n",
       "      <td>24.0</td>\n",
       "    </tr>\n",
       "  </tbody>\n",
       "</table>\n",
       "</div>"
      ],
      "text/plain": [
       "    avg\n",
       "0  24.0"
      ]
     },
     "execution_count": 23,
     "metadata": {},
     "output_type": "execute_result"
    }
   ],
   "source": [
    "query = '''\n",
    "SELECT AVG(count_reviews)\n",
    "FROM (SELECT rev.username,\n",
    "             COUNT(rev.review_id) AS count_reviews\n",
    "      FROM reviews AS rev\n",
    "      WHERE rev.username IN (SELECT t1.username AS username\n",
    "                             FROM (SELECT r.username,\n",
    "                                           COUNT(r.rating_id) AS count_comment\n",
    "                                   FROM ratings AS r\n",
    "                                   GROUP BY r.username\n",
    "                                   HAVING COUNT(r.rating_id) > 48) AS t1)\n",
    "      GROUP BY rev.username) AS final_t\n",
    "'''\n",
    "\n",
    "con=engine.connect()\n",
    "pd.io.sql.read_sql(sql=text(query), con = con)"
   ]
  },
  {
   "cell_type": "markdown",
   "metadata": {},
   "source": [
    "Ответ: Cреднее количество обзоров от пользователей, которые поставили больше 48 оценок равно 24."
   ]
  },
  {
   "cell_type": "markdown",
   "metadata": {},
   "source": [
    "<div class=\"alert alert-success\">\n",
    "  \n",
    "  <b>Комментарий тимлида</b>\n",
    "    \n",
    "  ✔️ Верно!\n",
    "</div>"
   ]
  },
  {
   "cell_type": "markdown",
   "metadata": {},
   "source": [
    "## Выводы по проекту"
   ]
  },
  {
   "cell_type": "markdown",
   "metadata": {},
   "source": [
    "###### Количество строк в таблицах:\n",
    "* book - 1000,\n",
    "* authors - 636,\n",
    "* publishers - 340,\n",
    "* ratings - 6456,\n",
    "* reviews - 2793.\n",
    "\n",
    "###### Задания\n",
    "1. После 1 января 2000 года вышло 819 книг.\n",
    "2. Для каждой книги посчитано количество обзоров и средняя оценка. Есть книги, на которые нет ни одного обзора и оценки.\n",
    "3. Наибольшее число книг толще 50 страниц выпустило издательство Penguin Books под id-номером 212 (42 книги).\n",
    "4. J.K. Rowling/Mary GrandPré — автор с самой высокой средней оценкой книг, если учитывать книги, которые имеют 50 и более оценок.\n",
    "5. Cреднее количество обзоров от пользователей, которые поставили больше 48 оценок равно 24."
   ]
  },
  {
   "cell_type": "markdown",
   "metadata": {},
   "source": [
    "<div style=\"border:solid black 2px; padding: 20px\">\n",
    "  \n",
    "    \n",
    "  <b>Чек-лист доработок</b>\n",
    "    \n",
    "    \n",
    "  📃 Проверить количество обзоров и среднюю оценку для каждой книги.\n",
    "  \n",
    " \n",
    "Жду твой проект на повторное ревью. Не стесняйся оставлять комментарии и задавать вопросы. Удачи! Все получится.\n",
    "</div>"
   ]
  }
 ],
 "metadata": {
  "ExecuteTimeLog": [
   {
    "duration": 423,
    "start_time": "2024-06-14T05:48:54.962Z"
   },
   {
    "duration": 2,
    "start_time": "2024-06-14T05:49:04.126Z"
   },
   {
    "duration": 2,
    "start_time": "2024-06-14T05:49:10.763Z"
   },
   {
    "duration": 6349,
    "start_time": "2024-06-14T05:49:21.095Z"
   },
   {
    "duration": 2,
    "start_time": "2024-06-14T05:49:29.123Z"
   },
   {
    "duration": 169,
    "start_time": "2024-06-14T05:49:39.271Z"
   },
   {
    "duration": 51,
    "start_time": "2024-06-14T05:49:45.332Z"
   },
   {
    "duration": 2,
    "start_time": "2024-06-14T06:36:17.914Z"
   },
   {
    "duration": 2,
    "start_time": "2024-06-14T06:36:18.616Z"
   },
   {
    "duration": 82,
    "start_time": "2024-06-14T06:36:19.249Z"
   },
   {
    "duration": 41,
    "start_time": "2024-06-14T06:36:21.471Z"
   },
   {
    "duration": 2,
    "start_time": "2024-06-14T06:36:46.165Z"
   },
   {
    "duration": 49,
    "start_time": "2024-06-14T06:36:46.581Z"
   },
   {
    "duration": 2,
    "start_time": "2024-06-14T06:36:59.177Z"
   },
   {
    "duration": 49,
    "start_time": "2024-06-14T06:36:59.534Z"
   },
   {
    "duration": 29,
    "start_time": "2024-06-14T06:36:59.958Z"
   },
   {
    "duration": 2,
    "start_time": "2024-06-14T06:37:00.495Z"
   },
   {
    "duration": 2,
    "start_time": "2024-06-14T06:37:17.632Z"
   },
   {
    "duration": 50,
    "start_time": "2024-06-14T06:37:17.998Z"
   },
   {
    "duration": 2,
    "start_time": "2024-06-14T06:37:18.631Z"
   },
   {
    "duration": 51,
    "start_time": "2024-06-14T06:37:19.254Z"
   },
   {
    "duration": 2,
    "start_time": "2024-06-14T06:40:59.880Z"
   },
   {
    "duration": 47,
    "start_time": "2024-06-14T06:41:00.412Z"
   },
   {
    "duration": 2,
    "start_time": "2024-06-14T06:41:34.551Z"
   },
   {
    "duration": 48,
    "start_time": "2024-06-14T06:41:34.718Z"
   },
   {
    "duration": 2,
    "start_time": "2024-06-14T06:41:34.942Z"
   },
   {
    "duration": 47,
    "start_time": "2024-06-14T06:41:35.438Z"
   },
   {
    "duration": 46,
    "start_time": "2024-06-14T06:45:58.026Z"
   },
   {
    "duration": 48,
    "start_time": "2024-06-14T06:46:47.570Z"
   },
   {
    "duration": 50,
    "start_time": "2024-06-14T06:46:48.930Z"
   },
   {
    "duration": 47,
    "start_time": "2024-06-14T06:47:46.067Z"
   },
   {
    "duration": 47,
    "start_time": "2024-06-14T06:48:30.720Z"
   },
   {
    "duration": 50,
    "start_time": "2024-06-14T06:49:12.740Z"
   },
   {
    "duration": 48,
    "start_time": "2024-06-14T06:49:37.467Z"
   },
   {
    "duration": 122,
    "start_time": "2024-06-14T06:51:41.714Z"
   },
   {
    "duration": 38,
    "start_time": "2024-06-14T06:51:59.068Z"
   },
   {
    "duration": 63,
    "start_time": "2024-06-14T06:52:25.567Z"
   },
   {
    "duration": 147,
    "start_time": "2024-06-14T06:53:45.125Z"
   },
   {
    "duration": 59,
    "start_time": "2024-06-14T06:55:40.497Z"
   },
   {
    "duration": 49,
    "start_time": "2024-06-14T06:56:52.441Z"
   },
   {
    "duration": 50,
    "start_time": "2024-06-14T06:59:23.966Z"
   },
   {
    "duration": 49,
    "start_time": "2024-06-14T08:17:44.846Z"
   },
   {
    "duration": 51,
    "start_time": "2024-06-14T10:18:30.125Z"
   },
   {
    "duration": 64,
    "start_time": "2024-06-14T10:48:39.998Z"
   },
   {
    "duration": 40,
    "start_time": "2024-06-14T10:58:33.997Z"
   },
   {
    "duration": 533,
    "start_time": "2024-06-14T17:24:16.841Z"
   },
   {
    "duration": 6,
    "start_time": "2024-06-14T17:24:17.376Z"
   },
   {
    "duration": 10,
    "start_time": "2024-06-14T17:24:17.383Z"
   },
   {
    "duration": 6284,
    "start_time": "2024-06-14T17:24:17.395Z"
   },
   {
    "duration": 3,
    "start_time": "2024-06-14T17:24:23.681Z"
   },
   {
    "duration": 235,
    "start_time": "2024-06-14T17:24:23.686Z"
   },
   {
    "duration": 3,
    "start_time": "2024-06-14T17:24:23.922Z"
   },
   {
    "duration": 122,
    "start_time": "2024-06-14T17:24:23.926Z"
   },
   {
    "duration": 2,
    "start_time": "2024-06-14T17:24:24.049Z"
   },
   {
    "duration": 50,
    "start_time": "2024-06-14T17:24:24.053Z"
   },
   {
    "duration": 2,
    "start_time": "2024-06-14T17:24:24.105Z"
   },
   {
    "duration": 53,
    "start_time": "2024-06-14T17:24:24.108Z"
   },
   {
    "duration": 49,
    "start_time": "2024-06-14T17:24:24.163Z"
   },
   {
    "duration": 49,
    "start_time": "2024-06-14T17:24:24.213Z"
   },
   {
    "duration": 51,
    "start_time": "2024-06-14T17:24:24.264Z"
   },
   {
    "duration": 50,
    "start_time": "2024-06-14T17:24:24.316Z"
   },
   {
    "duration": 53,
    "start_time": "2024-06-14T17:24:24.367Z"
   },
   {
    "duration": 53,
    "start_time": "2024-06-14T17:24:24.422Z"
   },
   {
    "duration": 53,
    "start_time": "2024-06-14T17:24:24.477Z"
   },
   {
    "duration": 77,
    "start_time": "2024-06-14T17:24:24.532Z"
   },
   {
    "duration": 55,
    "start_time": "2024-06-14T17:24:24.610Z"
   },
   {
    "duration": 53,
    "start_time": "2024-06-14T17:24:24.667Z"
   },
   {
    "duration": 52,
    "start_time": "2024-06-14T17:24:24.721Z"
   },
   {
    "duration": 537,
    "start_time": "2024-06-15T02:09:28.092Z"
   },
   {
    "duration": 3,
    "start_time": "2024-06-15T02:09:28.631Z"
   },
   {
    "duration": 8,
    "start_time": "2024-06-15T02:09:28.635Z"
   },
   {
    "duration": 8160,
    "start_time": "2024-06-15T02:09:28.645Z"
   },
   {
    "duration": 3,
    "start_time": "2024-06-15T02:09:36.807Z"
   },
   {
    "duration": 248,
    "start_time": "2024-06-15T02:09:36.811Z"
   },
   {
    "duration": 3,
    "start_time": "2024-06-15T02:09:37.061Z"
   },
   {
    "duration": 149,
    "start_time": "2024-06-15T02:09:37.067Z"
   },
   {
    "duration": 3,
    "start_time": "2024-06-15T02:09:37.218Z"
   },
   {
    "duration": 95,
    "start_time": "2024-06-15T02:09:37.224Z"
   },
   {
    "duration": 2,
    "start_time": "2024-06-15T02:09:37.321Z"
   },
   {
    "duration": 68,
    "start_time": "2024-06-15T02:09:37.325Z"
   },
   {
    "duration": 54,
    "start_time": "2024-06-15T02:09:37.395Z"
   },
   {
    "duration": 53,
    "start_time": "2024-06-15T02:09:37.451Z"
   },
   {
    "duration": 53,
    "start_time": "2024-06-15T02:09:37.506Z"
   },
   {
    "duration": 52,
    "start_time": "2024-06-15T02:09:37.561Z"
   },
   {
    "duration": 55,
    "start_time": "2024-06-15T02:09:37.615Z"
   },
   {
    "duration": 53,
    "start_time": "2024-06-15T02:09:37.672Z"
   },
   {
    "duration": 52,
    "start_time": "2024-06-15T02:09:37.727Z"
   },
   {
    "duration": 102,
    "start_time": "2024-06-15T02:09:37.780Z"
   },
   {
    "duration": 53,
    "start_time": "2024-06-15T02:09:37.884Z"
   },
   {
    "duration": 57,
    "start_time": "2024-06-15T02:09:37.939Z"
   },
   {
    "duration": 55,
    "start_time": "2024-06-15T02:09:37.999Z"
   },
   {
    "duration": 3226,
    "start_time": "2024-06-15T02:19:23.436Z"
   },
   {
    "duration": 530,
    "start_time": "2024-06-15T02:23:37.408Z"
   },
   {
    "duration": 4,
    "start_time": "2024-06-15T02:23:37.940Z"
   },
   {
    "duration": 16,
    "start_time": "2024-06-15T02:23:37.946Z"
   },
   {
    "duration": 6805,
    "start_time": "2024-06-15T02:23:37.964Z"
   },
   {
    "duration": 4,
    "start_time": "2024-06-15T02:23:44.771Z"
   },
   {
    "duration": 251,
    "start_time": "2024-06-15T02:23:44.777Z"
   },
   {
    "duration": 2,
    "start_time": "2024-06-15T02:23:45.030Z"
   },
   {
    "duration": 172,
    "start_time": "2024-06-15T02:23:45.034Z"
   },
   {
    "duration": 3,
    "start_time": "2024-06-15T02:23:45.208Z"
   },
   {
    "duration": 77,
    "start_time": "2024-06-15T02:23:45.213Z"
   },
   {
    "duration": 3,
    "start_time": "2024-06-15T02:23:45.292Z"
   },
   {
    "duration": 106,
    "start_time": "2024-06-15T02:23:45.296Z"
   },
   {
    "duration": 53,
    "start_time": "2024-06-15T02:23:45.404Z"
   },
   {
    "duration": 52,
    "start_time": "2024-06-15T02:23:45.459Z"
   },
   {
    "duration": 54,
    "start_time": "2024-06-15T02:23:45.512Z"
   },
   {
    "duration": 54,
    "start_time": "2024-06-15T02:23:45.567Z"
   },
   {
    "duration": 56,
    "start_time": "2024-06-15T02:23:45.622Z"
   },
   {
    "duration": 53,
    "start_time": "2024-06-15T02:23:45.679Z"
   },
   {
    "duration": 51,
    "start_time": "2024-06-15T02:23:45.733Z"
   },
   {
    "duration": 100,
    "start_time": "2024-06-15T02:23:45.786Z"
   },
   {
    "duration": 54,
    "start_time": "2024-06-15T02:23:45.888Z"
   },
   {
    "duration": 57,
    "start_time": "2024-06-15T02:23:45.943Z"
   },
   {
    "duration": 56,
    "start_time": "2024-06-15T02:23:46.003Z"
   },
   {
    "duration": 118,
    "start_time": "2024-06-15T02:38:37.099Z"
   },
   {
    "duration": 135,
    "start_time": "2024-06-15T02:39:31.339Z"
   },
   {
    "duration": 64,
    "start_time": "2024-06-15T02:39:49.227Z"
   },
   {
    "duration": 175,
    "start_time": "2024-06-15T02:40:05.307Z"
   },
   {
    "duration": 543,
    "start_time": "2024-06-15T02:42:44.853Z"
   },
   {
    "duration": 4,
    "start_time": "2024-06-15T02:42:45.398Z"
   },
   {
    "duration": 8,
    "start_time": "2024-06-15T02:42:45.403Z"
   },
   {
    "duration": 6620,
    "start_time": "2024-06-15T02:42:45.413Z"
   },
   {
    "duration": 3,
    "start_time": "2024-06-15T02:42:52.034Z"
   },
   {
    "duration": 234,
    "start_time": "2024-06-15T02:42:52.039Z"
   },
   {
    "duration": 3,
    "start_time": "2024-06-15T02:42:52.274Z"
   },
   {
    "duration": 132,
    "start_time": "2024-06-15T02:42:52.278Z"
   },
   {
    "duration": 3,
    "start_time": "2024-06-15T02:42:52.411Z"
   },
   {
    "duration": 68,
    "start_time": "2024-06-15T02:42:52.417Z"
   },
   {
    "duration": 3,
    "start_time": "2024-06-15T02:42:52.486Z"
   },
   {
    "duration": 60,
    "start_time": "2024-06-15T02:42:52.491Z"
   },
   {
    "duration": 53,
    "start_time": "2024-06-15T02:42:52.553Z"
   },
   {
    "duration": 53,
    "start_time": "2024-06-15T02:42:52.608Z"
   },
   {
    "duration": 54,
    "start_time": "2024-06-15T02:42:52.663Z"
   },
   {
    "duration": 53,
    "start_time": "2024-06-15T02:42:52.719Z"
   },
   {
    "duration": 55,
    "start_time": "2024-06-15T02:42:52.773Z"
   },
   {
    "duration": 54,
    "start_time": "2024-06-15T02:42:52.829Z"
   },
   {
    "duration": 54,
    "start_time": "2024-06-15T02:42:52.885Z"
   },
   {
    "duration": 98,
    "start_time": "2024-06-15T02:42:52.940Z"
   },
   {
    "duration": 54,
    "start_time": "2024-06-15T02:42:53.040Z"
   },
   {
    "duration": 55,
    "start_time": "2024-06-15T02:42:53.096Z"
   },
   {
    "duration": 56,
    "start_time": "2024-06-15T02:42:53.153Z"
   },
   {
    "duration": 529,
    "start_time": "2024-06-15T05:40:39.265Z"
   },
   {
    "duration": 3,
    "start_time": "2024-06-15T05:40:39.796Z"
   },
   {
    "duration": 9,
    "start_time": "2024-06-15T05:40:39.801Z"
   },
   {
    "duration": 7317,
    "start_time": "2024-06-15T05:40:39.811Z"
   },
   {
    "duration": 2,
    "start_time": "2024-06-15T05:40:47.131Z"
   },
   {
    "duration": 74,
    "start_time": "2024-06-15T05:40:47.135Z"
   },
   {
    "duration": 2,
    "start_time": "2024-06-15T05:40:47.211Z"
   },
   {
    "duration": 68,
    "start_time": "2024-06-15T05:40:47.214Z"
   },
   {
    "duration": 2,
    "start_time": "2024-06-15T05:40:47.284Z"
   },
   {
    "duration": 41,
    "start_time": "2024-06-15T05:40:47.288Z"
   },
   {
    "duration": 10,
    "start_time": "2024-06-15T05:40:47.330Z"
   },
   {
    "duration": 16,
    "start_time": "2024-06-15T05:40:47.342Z"
   },
   {
    "duration": 11,
    "start_time": "2024-06-15T05:40:47.359Z"
   },
   {
    "duration": 9,
    "start_time": "2024-06-15T05:40:47.372Z"
   },
   {
    "duration": 16,
    "start_time": "2024-06-15T05:40:47.382Z"
   },
   {
    "duration": 9,
    "start_time": "2024-06-15T05:40:47.400Z"
   },
   {
    "duration": 49,
    "start_time": "2024-06-15T05:40:47.411Z"
   },
   {
    "duration": 10,
    "start_time": "2024-06-15T05:40:47.461Z"
   },
   {
    "duration": 9,
    "start_time": "2024-06-15T05:40:47.473Z"
   },
   {
    "duration": 82,
    "start_time": "2024-06-15T05:40:47.483Z"
   },
   {
    "duration": 13,
    "start_time": "2024-06-15T05:40:47.566Z"
   },
   {
    "duration": 15,
    "start_time": "2024-06-15T05:40:47.581Z"
   },
   {
    "duration": 62,
    "start_time": "2024-06-15T05:40:47.597Z"
   }
  ],
  "kernelspec": {
   "display_name": "Python 3 (ipykernel)",
   "language": "python",
   "name": "python3"
  },
  "language_info": {
   "codemirror_mode": {
    "name": "ipython",
    "version": 3
   },
   "file_extension": ".py",
   "mimetype": "text/x-python",
   "name": "python",
   "nbconvert_exporter": "python",
   "pygments_lexer": "ipython3",
   "version": "3.9.5"
  },
  "toc": {
   "base_numbering": 1,
   "nav_menu": {},
   "number_sections": true,
   "sideBar": true,
   "skip_h1_title": true,
   "title_cell": "Table of Contents",
   "title_sidebar": "Contents",
   "toc_cell": false,
   "toc_position": {
    "height": "calc(100% - 180px)",
    "left": "10px",
    "top": "150px",
    "width": "165px"
   },
   "toc_section_display": true,
   "toc_window_display": true
  }
 },
 "nbformat": 4,
 "nbformat_minor": 2
}
