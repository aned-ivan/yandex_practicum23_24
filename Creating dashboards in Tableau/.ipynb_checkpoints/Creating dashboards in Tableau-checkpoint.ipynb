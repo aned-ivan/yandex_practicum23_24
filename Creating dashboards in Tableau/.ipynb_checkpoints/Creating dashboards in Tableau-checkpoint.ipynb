{
 "cells": [
  {
   "cell_type": "markdown",
   "id": "35e7b463",
   "metadata": {},
   "source": [
    "Ссылка на дашборды: https://public.tableau.com/views/Book5_17162919734750/__1?:language=en-US&publish=yes&:sid=&:display_count=n&:origin=viz_share_link "
   ]
  },
  {
   "cell_type": "code",
   "execution_count": null,
   "id": "5ce16dae",
   "metadata": {},
   "outputs": [],
   "source": []
  }
 ],
 "metadata": {
  "ExecuteTimeLog": [
   {
    "duration": 66,
    "start_time": "2024-05-26T10:21:51.252Z"
   }
  ],
  "kernelspec": {
   "display_name": "Python 3 (ipykernel)",
   "language": "python",
   "name": "python3"
  },
  "language_info": {
   "codemirror_mode": {
    "name": "ipython",
    "version": 3
   },
   "file_extension": ".py",
   "mimetype": "text/x-python",
   "name": "python",
   "nbconvert_exporter": "python",
   "pygments_lexer": "ipython3",
   "version": "3.9.18"
  },
  "toc": {
   "base_numbering": 1,
   "nav_menu": {},
   "number_sections": true,
   "sideBar": true,
   "skip_h1_title": true,
   "title_cell": "Table of Contents",
   "title_sidebar": "Contents",
   "toc_cell": true,
   "toc_position": {},
   "toc_section_display": true,
   "toc_window_display": false
  }
 },
 "nbformat": 4,
 "nbformat_minor": 5
}
