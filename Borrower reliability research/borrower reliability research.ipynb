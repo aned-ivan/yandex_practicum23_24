{
 "cells": [
  {
   "cell_type": "markdown",
   "id": "386f2ae7",
   "metadata": {
    "deletable": false,
    "editable": false,
    "id": "386f2ae7"
   },
   "source": [
    "# Исследование надежности заемщиков\n"
   ]
  },
  {
   "cell_type": "markdown",
   "id": "87624d78",
   "metadata": {},
   "source": [
    "## Введение"
   ]
  },
  {
   "cell_type": "markdown",
   "id": "59057420",
   "metadata": {},
   "source": [
    "### Название проекта\n",
    "Исследование надежности заемщиков"
   ]
  },
  {
   "cell_type": "markdown",
   "id": "b8ef3db7",
   "metadata": {},
   "source": [
    "### Описание проекта\n",
    "\n",
    "Заказчик — кредитный отдел банка. Входные данные от банка — статистика о платёжеспособности клиентов.\n",
    "Результаты исследования будут учтены при построении модели кредитного скоринга — специальной системы, которая оценивает способность потенциального заёмщика вернуть кредит банку."
   ]
  },
  {
   "cell_type": "markdown",
   "id": "3c725892",
   "metadata": {},
   "source": [
    "### Цель проекта\n",
    "\n",
    "Выяснить, влияет ли на факт погашения кредита в срок семейное положение и количество детей клиента, его уровень дохода и цель займа."
   ]
  },
  {
   "cell_type": "markdown",
   "id": "8c689515",
   "metadata": {},
   "source": [
    "### Описание данных\n",
    "\n",
    "Данные для исследования представляют собой csv-файл, который содержит следующие столбцы:\n",
    "* children — количество детей в семье\n",
    "* days_employed — общий трудовой стаж в днях\n",
    "* dob_years — возраст клиента в годах\n",
    "* education — уровень образования клиента\n",
    "* education_id — идентификатор уровня образования\n",
    "* family_status — семейное положение\n",
    "* family_status_id — идентификатор семейного положения\n",
    "* gender — пол клиента\n",
    "* income_type — тип занятости\n",
    "* debt — имел ли задолженность по возврату кредитов\n",
    "* total_income — ежемесячный доход\n",
    "* purpose — цель получения кредита"
   ]
  },
  {
   "cell_type": "markdown",
   "id": "5799fbaf",
   "metadata": {},
   "source": [
    "### План работы\n",
    "1) Выполнить контрольные задания первой части исследования\n",
    "\n",
    "а) Открыть таблицу и изучить общую информацию о данных \n",
    "\n",
    "б) Провести предобработку данных: удаление пропусков, обработка аномальных значений, изменение типов данных, обработка дубликатов, категоризация данных. \n",
    "\n",
    "2) Исследовать данные и ответить на вопросы исследования.\n",
    "\n",
    "3) Сформулипровать выводы"
   ]
  },
  {
   "cell_type": "markdown",
   "id": "26613308",
   "metadata": {
    "deletable": false,
    "editable": false,
    "id": "26613308"
   },
   "source": [
    "## Откройте таблицу и изучите общую информацию о данных"
   ]
  },
  {
   "cell_type": "markdown",
   "id": "3c9f838e",
   "metadata": {
    "deletable": false,
    "editable": false,
    "id": "3c9f838e"
   },
   "source": [
    "**Задание 1. Импортируйте библиотеку pandas. Считайте данные из csv-файла в датафрейм и сохраните в переменную `data`. Путь к файлу:**\n",
    "\n",
    "`/datasets/data.csv`"
   ]
  },
  {
   "cell_type": "code",
   "execution_count": 1,
   "id": "77a68a90",
   "metadata": {
    "deletable": false,
    "id": "77a68a90"
   },
   "outputs": [],
   "source": [
    "import pandas as pd\n",
    "\n",
    "data = pd.read_csv('/datasets/data.csv')"
   ]
  },
  {
   "cell_type": "markdown",
   "id": "45365635",
   "metadata": {
    "deletable": false,
    "editable": false,
    "id": "45365635"
   },
   "source": [
    "**Задание 2. Выведите первые 20 строчек датафрейма `data` на экран.**"
   ]
  },
  {
   "cell_type": "code",
   "execution_count": 2,
   "id": "b0451a9a",
   "metadata": {
    "deletable": false,
    "id": "b0451a9a",
    "outputId": "1a8f3ef2-d323-4ec2-ddf7-89670b5944c4"
   },
   "outputs": [
    {
     "data": {
      "text/html": [
       "<div>\n",
       "<style scoped>\n",
       "    .dataframe tbody tr th:only-of-type {\n",
       "        vertical-align: middle;\n",
       "    }\n",
       "\n",
       "    .dataframe tbody tr th {\n",
       "        vertical-align: top;\n",
       "    }\n",
       "\n",
       "    .dataframe thead th {\n",
       "        text-align: right;\n",
       "    }\n",
       "</style>\n",
       "<table border=\"1\" class=\"dataframe\">\n",
       "  <thead>\n",
       "    <tr style=\"text-align: right;\">\n",
       "      <th></th>\n",
       "      <th>children</th>\n",
       "      <th>days_employed</th>\n",
       "      <th>dob_years</th>\n",
       "      <th>education</th>\n",
       "      <th>education_id</th>\n",
       "      <th>family_status</th>\n",
       "      <th>family_status_id</th>\n",
       "      <th>gender</th>\n",
       "      <th>income_type</th>\n",
       "      <th>debt</th>\n",
       "      <th>total_income</th>\n",
       "      <th>purpose</th>\n",
       "    </tr>\n",
       "  </thead>\n",
       "  <tbody>\n",
       "    <tr>\n",
       "      <th>0</th>\n",
       "      <td>1</td>\n",
       "      <td>-8437.673028</td>\n",
       "      <td>42</td>\n",
       "      <td>высшее</td>\n",
       "      <td>0</td>\n",
       "      <td>женат / замужем</td>\n",
       "      <td>0</td>\n",
       "      <td>F</td>\n",
       "      <td>сотрудник</td>\n",
       "      <td>0</td>\n",
       "      <td>253875.639453</td>\n",
       "      <td>покупка жилья</td>\n",
       "    </tr>\n",
       "    <tr>\n",
       "      <th>1</th>\n",
       "      <td>1</td>\n",
       "      <td>-4024.803754</td>\n",
       "      <td>36</td>\n",
       "      <td>среднее</td>\n",
       "      <td>1</td>\n",
       "      <td>женат / замужем</td>\n",
       "      <td>0</td>\n",
       "      <td>F</td>\n",
       "      <td>сотрудник</td>\n",
       "      <td>0</td>\n",
       "      <td>112080.014102</td>\n",
       "      <td>приобретение автомобиля</td>\n",
       "    </tr>\n",
       "    <tr>\n",
       "      <th>2</th>\n",
       "      <td>0</td>\n",
       "      <td>-5623.422610</td>\n",
       "      <td>33</td>\n",
       "      <td>Среднее</td>\n",
       "      <td>1</td>\n",
       "      <td>женат / замужем</td>\n",
       "      <td>0</td>\n",
       "      <td>M</td>\n",
       "      <td>сотрудник</td>\n",
       "      <td>0</td>\n",
       "      <td>145885.952297</td>\n",
       "      <td>покупка жилья</td>\n",
       "    </tr>\n",
       "    <tr>\n",
       "      <th>3</th>\n",
       "      <td>3</td>\n",
       "      <td>-4124.747207</td>\n",
       "      <td>32</td>\n",
       "      <td>среднее</td>\n",
       "      <td>1</td>\n",
       "      <td>женат / замужем</td>\n",
       "      <td>0</td>\n",
       "      <td>M</td>\n",
       "      <td>сотрудник</td>\n",
       "      <td>0</td>\n",
       "      <td>267628.550329</td>\n",
       "      <td>дополнительное образование</td>\n",
       "    </tr>\n",
       "    <tr>\n",
       "      <th>4</th>\n",
       "      <td>0</td>\n",
       "      <td>340266.072047</td>\n",
       "      <td>53</td>\n",
       "      <td>среднее</td>\n",
       "      <td>1</td>\n",
       "      <td>гражданский брак</td>\n",
       "      <td>1</td>\n",
       "      <td>F</td>\n",
       "      <td>пенсионер</td>\n",
       "      <td>0</td>\n",
       "      <td>158616.077870</td>\n",
       "      <td>сыграть свадьбу</td>\n",
       "    </tr>\n",
       "    <tr>\n",
       "      <th>5</th>\n",
       "      <td>0</td>\n",
       "      <td>-926.185831</td>\n",
       "      <td>27</td>\n",
       "      <td>высшее</td>\n",
       "      <td>0</td>\n",
       "      <td>гражданский брак</td>\n",
       "      <td>1</td>\n",
       "      <td>M</td>\n",
       "      <td>компаньон</td>\n",
       "      <td>0</td>\n",
       "      <td>255763.565419</td>\n",
       "      <td>покупка жилья</td>\n",
       "    </tr>\n",
       "    <tr>\n",
       "      <th>6</th>\n",
       "      <td>0</td>\n",
       "      <td>-2879.202052</td>\n",
       "      <td>43</td>\n",
       "      <td>высшее</td>\n",
       "      <td>0</td>\n",
       "      <td>женат / замужем</td>\n",
       "      <td>0</td>\n",
       "      <td>F</td>\n",
       "      <td>компаньон</td>\n",
       "      <td>0</td>\n",
       "      <td>240525.971920</td>\n",
       "      <td>операции с жильем</td>\n",
       "    </tr>\n",
       "    <tr>\n",
       "      <th>7</th>\n",
       "      <td>0</td>\n",
       "      <td>-152.779569</td>\n",
       "      <td>50</td>\n",
       "      <td>СРЕДНЕЕ</td>\n",
       "      <td>1</td>\n",
       "      <td>женат / замужем</td>\n",
       "      <td>0</td>\n",
       "      <td>M</td>\n",
       "      <td>сотрудник</td>\n",
       "      <td>0</td>\n",
       "      <td>135823.934197</td>\n",
       "      <td>образование</td>\n",
       "    </tr>\n",
       "    <tr>\n",
       "      <th>8</th>\n",
       "      <td>2</td>\n",
       "      <td>-6929.865299</td>\n",
       "      <td>35</td>\n",
       "      <td>ВЫСШЕЕ</td>\n",
       "      <td>0</td>\n",
       "      <td>гражданский брак</td>\n",
       "      <td>1</td>\n",
       "      <td>F</td>\n",
       "      <td>сотрудник</td>\n",
       "      <td>0</td>\n",
       "      <td>95856.832424</td>\n",
       "      <td>на проведение свадьбы</td>\n",
       "    </tr>\n",
       "    <tr>\n",
       "      <th>9</th>\n",
       "      <td>0</td>\n",
       "      <td>-2188.756445</td>\n",
       "      <td>41</td>\n",
       "      <td>среднее</td>\n",
       "      <td>1</td>\n",
       "      <td>женат / замужем</td>\n",
       "      <td>0</td>\n",
       "      <td>M</td>\n",
       "      <td>сотрудник</td>\n",
       "      <td>0</td>\n",
       "      <td>144425.938277</td>\n",
       "      <td>покупка жилья для семьи</td>\n",
       "    </tr>\n",
       "    <tr>\n",
       "      <th>10</th>\n",
       "      <td>2</td>\n",
       "      <td>-4171.483647</td>\n",
       "      <td>36</td>\n",
       "      <td>высшее</td>\n",
       "      <td>0</td>\n",
       "      <td>женат / замужем</td>\n",
       "      <td>0</td>\n",
       "      <td>M</td>\n",
       "      <td>компаньон</td>\n",
       "      <td>0</td>\n",
       "      <td>113943.491460</td>\n",
       "      <td>покупка недвижимости</td>\n",
       "    </tr>\n",
       "    <tr>\n",
       "      <th>11</th>\n",
       "      <td>0</td>\n",
       "      <td>-792.701887</td>\n",
       "      <td>40</td>\n",
       "      <td>среднее</td>\n",
       "      <td>1</td>\n",
       "      <td>женат / замужем</td>\n",
       "      <td>0</td>\n",
       "      <td>F</td>\n",
       "      <td>сотрудник</td>\n",
       "      <td>0</td>\n",
       "      <td>77069.234271</td>\n",
       "      <td>покупка коммерческой недвижимости</td>\n",
       "    </tr>\n",
       "    <tr>\n",
       "      <th>12</th>\n",
       "      <td>0</td>\n",
       "      <td>NaN</td>\n",
       "      <td>65</td>\n",
       "      <td>среднее</td>\n",
       "      <td>1</td>\n",
       "      <td>гражданский брак</td>\n",
       "      <td>1</td>\n",
       "      <td>M</td>\n",
       "      <td>пенсионер</td>\n",
       "      <td>0</td>\n",
       "      <td>NaN</td>\n",
       "      <td>сыграть свадьбу</td>\n",
       "    </tr>\n",
       "    <tr>\n",
       "      <th>13</th>\n",
       "      <td>0</td>\n",
       "      <td>-1846.641941</td>\n",
       "      <td>54</td>\n",
       "      <td>неоконченное высшее</td>\n",
       "      <td>2</td>\n",
       "      <td>женат / замужем</td>\n",
       "      <td>0</td>\n",
       "      <td>F</td>\n",
       "      <td>сотрудник</td>\n",
       "      <td>0</td>\n",
       "      <td>130458.228857</td>\n",
       "      <td>приобретение автомобиля</td>\n",
       "    </tr>\n",
       "    <tr>\n",
       "      <th>14</th>\n",
       "      <td>0</td>\n",
       "      <td>-1844.956182</td>\n",
       "      <td>56</td>\n",
       "      <td>высшее</td>\n",
       "      <td>0</td>\n",
       "      <td>гражданский брак</td>\n",
       "      <td>1</td>\n",
       "      <td>F</td>\n",
       "      <td>компаньон</td>\n",
       "      <td>1</td>\n",
       "      <td>165127.911772</td>\n",
       "      <td>покупка жилой недвижимости</td>\n",
       "    </tr>\n",
       "    <tr>\n",
       "      <th>15</th>\n",
       "      <td>1</td>\n",
       "      <td>-972.364419</td>\n",
       "      <td>26</td>\n",
       "      <td>среднее</td>\n",
       "      <td>1</td>\n",
       "      <td>женат / замужем</td>\n",
       "      <td>0</td>\n",
       "      <td>F</td>\n",
       "      <td>сотрудник</td>\n",
       "      <td>0</td>\n",
       "      <td>116820.904450</td>\n",
       "      <td>строительство собственной недвижимости</td>\n",
       "    </tr>\n",
       "    <tr>\n",
       "      <th>16</th>\n",
       "      <td>0</td>\n",
       "      <td>-1719.934226</td>\n",
       "      <td>35</td>\n",
       "      <td>среднее</td>\n",
       "      <td>1</td>\n",
       "      <td>женат / замужем</td>\n",
       "      <td>0</td>\n",
       "      <td>F</td>\n",
       "      <td>сотрудник</td>\n",
       "      <td>0</td>\n",
       "      <td>289202.704229</td>\n",
       "      <td>недвижимость</td>\n",
       "    </tr>\n",
       "    <tr>\n",
       "      <th>17</th>\n",
       "      <td>0</td>\n",
       "      <td>-2369.999720</td>\n",
       "      <td>33</td>\n",
       "      <td>высшее</td>\n",
       "      <td>0</td>\n",
       "      <td>гражданский брак</td>\n",
       "      <td>1</td>\n",
       "      <td>M</td>\n",
       "      <td>сотрудник</td>\n",
       "      <td>0</td>\n",
       "      <td>90410.586745</td>\n",
       "      <td>строительство недвижимости</td>\n",
       "    </tr>\n",
       "    <tr>\n",
       "      <th>18</th>\n",
       "      <td>0</td>\n",
       "      <td>400281.136913</td>\n",
       "      <td>53</td>\n",
       "      <td>среднее</td>\n",
       "      <td>1</td>\n",
       "      <td>вдовец / вдова</td>\n",
       "      <td>2</td>\n",
       "      <td>F</td>\n",
       "      <td>пенсионер</td>\n",
       "      <td>0</td>\n",
       "      <td>56823.777243</td>\n",
       "      <td>на покупку подержанного автомобиля</td>\n",
       "    </tr>\n",
       "    <tr>\n",
       "      <th>19</th>\n",
       "      <td>0</td>\n",
       "      <td>-10038.818549</td>\n",
       "      <td>48</td>\n",
       "      <td>СРЕДНЕЕ</td>\n",
       "      <td>1</td>\n",
       "      <td>в разводе</td>\n",
       "      <td>3</td>\n",
       "      <td>F</td>\n",
       "      <td>сотрудник</td>\n",
       "      <td>0</td>\n",
       "      <td>242831.107982</td>\n",
       "      <td>на покупку своего автомобиля</td>\n",
       "    </tr>\n",
       "  </tbody>\n",
       "</table>\n",
       "</div>"
      ],
      "text/plain": [
       "    children  days_employed  dob_years            education  education_id  \\\n",
       "0          1   -8437.673028         42               высшее             0   \n",
       "1          1   -4024.803754         36              среднее             1   \n",
       "2          0   -5623.422610         33              Среднее             1   \n",
       "3          3   -4124.747207         32              среднее             1   \n",
       "4          0  340266.072047         53              среднее             1   \n",
       "5          0    -926.185831         27               высшее             0   \n",
       "6          0   -2879.202052         43               высшее             0   \n",
       "7          0    -152.779569         50              СРЕДНЕЕ             1   \n",
       "8          2   -6929.865299         35               ВЫСШЕЕ             0   \n",
       "9          0   -2188.756445         41              среднее             1   \n",
       "10         2   -4171.483647         36               высшее             0   \n",
       "11         0    -792.701887         40              среднее             1   \n",
       "12         0            NaN         65              среднее             1   \n",
       "13         0   -1846.641941         54  неоконченное высшее             2   \n",
       "14         0   -1844.956182         56               высшее             0   \n",
       "15         1    -972.364419         26              среднее             1   \n",
       "16         0   -1719.934226         35              среднее             1   \n",
       "17         0   -2369.999720         33               высшее             0   \n",
       "18         0  400281.136913         53              среднее             1   \n",
       "19         0  -10038.818549         48              СРЕДНЕЕ             1   \n",
       "\n",
       "       family_status  family_status_id gender income_type  debt  \\\n",
       "0    женат / замужем                 0      F   сотрудник     0   \n",
       "1    женат / замужем                 0      F   сотрудник     0   \n",
       "2    женат / замужем                 0      M   сотрудник     0   \n",
       "3    женат / замужем                 0      M   сотрудник     0   \n",
       "4   гражданский брак                 1      F   пенсионер     0   \n",
       "5   гражданский брак                 1      M   компаньон     0   \n",
       "6    женат / замужем                 0      F   компаньон     0   \n",
       "7    женат / замужем                 0      M   сотрудник     0   \n",
       "8   гражданский брак                 1      F   сотрудник     0   \n",
       "9    женат / замужем                 0      M   сотрудник     0   \n",
       "10   женат / замужем                 0      M   компаньон     0   \n",
       "11   женат / замужем                 0      F   сотрудник     0   \n",
       "12  гражданский брак                 1      M   пенсионер     0   \n",
       "13   женат / замужем                 0      F   сотрудник     0   \n",
       "14  гражданский брак                 1      F   компаньон     1   \n",
       "15   женат / замужем                 0      F   сотрудник     0   \n",
       "16   женат / замужем                 0      F   сотрудник     0   \n",
       "17  гражданский брак                 1      M   сотрудник     0   \n",
       "18    вдовец / вдова                 2      F   пенсионер     0   \n",
       "19         в разводе                 3      F   сотрудник     0   \n",
       "\n",
       "     total_income                                 purpose  \n",
       "0   253875.639453                           покупка жилья  \n",
       "1   112080.014102                 приобретение автомобиля  \n",
       "2   145885.952297                           покупка жилья  \n",
       "3   267628.550329              дополнительное образование  \n",
       "4   158616.077870                         сыграть свадьбу  \n",
       "5   255763.565419                           покупка жилья  \n",
       "6   240525.971920                       операции с жильем  \n",
       "7   135823.934197                             образование  \n",
       "8    95856.832424                   на проведение свадьбы  \n",
       "9   144425.938277                 покупка жилья для семьи  \n",
       "10  113943.491460                    покупка недвижимости  \n",
       "11   77069.234271       покупка коммерческой недвижимости  \n",
       "12            NaN                         сыграть свадьбу  \n",
       "13  130458.228857                 приобретение автомобиля  \n",
       "14  165127.911772              покупка жилой недвижимости  \n",
       "15  116820.904450  строительство собственной недвижимости  \n",
       "16  289202.704229                            недвижимость  \n",
       "17   90410.586745              строительство недвижимости  \n",
       "18   56823.777243      на покупку подержанного автомобиля  \n",
       "19  242831.107982            на покупку своего автомобиля  "
      ]
     },
     "execution_count": 2,
     "metadata": {},
     "output_type": "execute_result"
    }
   ],
   "source": [
    "data.head(20)"
   ]
  },
  {
   "cell_type": "markdown",
   "id": "0ed8f27f",
   "metadata": {
    "deletable": false,
    "editable": false,
    "id": "0ed8f27f"
   },
   "source": [
    "**Задание 3. Выведите основную информацию о датафрейме с помощью метода `info()`.**"
   ]
  },
  {
   "cell_type": "code",
   "execution_count": 3,
   "id": "ab3f863b",
   "metadata": {
    "deletable": false,
    "id": "ab3f863b",
    "outputId": "15376089-8dad-46c9-b520-c05248d43158"
   },
   "outputs": [
    {
     "name": "stdout",
     "output_type": "stream",
     "text": [
      "<class 'pandas.core.frame.DataFrame'>\n",
      "RangeIndex: 21525 entries, 0 to 21524\n",
      "Data columns (total 12 columns):\n",
      " #   Column            Non-Null Count  Dtype  \n",
      "---  ------            --------------  -----  \n",
      " 0   children          21525 non-null  int64  \n",
      " 1   days_employed     19351 non-null  float64\n",
      " 2   dob_years         21525 non-null  int64  \n",
      " 3   education         21525 non-null  object \n",
      " 4   education_id      21525 non-null  int64  \n",
      " 5   family_status     21525 non-null  object \n",
      " 6   family_status_id  21525 non-null  int64  \n",
      " 7   gender            21525 non-null  object \n",
      " 8   income_type       21525 non-null  object \n",
      " 9   debt              21525 non-null  int64  \n",
      " 10  total_income      19351 non-null  float64\n",
      " 11  purpose           21525 non-null  object \n",
      "dtypes: float64(2), int64(5), object(5)\n",
      "memory usage: 2.0+ MB\n"
     ]
    }
   ],
   "source": [
    "data.info()"
   ]
  },
  {
   "cell_type": "markdown",
   "id": "60e3e22d",
   "metadata": {
    "deletable": false,
    "editable": false,
    "id": "60e3e22d"
   },
   "source": [
    "## Предобработка данных"
   ]
  },
  {
   "cell_type": "markdown",
   "id": "03dc170c",
   "metadata": {
    "deletable": false,
    "editable": false,
    "id": "03dc170c"
   },
   "source": [
    "### Удаление пропусков"
   ]
  },
  {
   "cell_type": "markdown",
   "id": "a4f54eef",
   "metadata": {
    "deletable": false,
    "editable": false,
    "id": "a4f54eef"
   },
   "source": [
    "**Задание 4. Выведите количество пропущенных значений для каждого столбца. Используйте комбинацию двух методов.**"
   ]
  },
  {
   "cell_type": "code",
   "execution_count": 4,
   "id": "2dc372b2",
   "metadata": {
    "deletable": false,
    "id": "2dc372b2",
    "outputId": "81f4d817-781c-465c-ed15-91ce4446810d"
   },
   "outputs": [
    {
     "data": {
      "text/plain": [
       "children               0\n",
       "days_employed       2174\n",
       "dob_years              0\n",
       "education              0\n",
       "education_id           0\n",
       "family_status          0\n",
       "family_status_id       0\n",
       "gender                 0\n",
       "income_type            0\n",
       "debt                   0\n",
       "total_income        2174\n",
       "purpose                0\n",
       "dtype: int64"
      ]
     },
     "execution_count": 4,
     "metadata": {},
     "output_type": "execute_result"
    }
   ],
   "source": [
    "data.isna().sum()"
   ]
  },
  {
   "cell_type": "markdown",
   "id": "14f011b1",
   "metadata": {
    "deletable": false,
    "editable": false,
    "id": "14f011b1"
   },
   "source": [
    "**Задание 5. В двух столбцах есть пропущенные значения. Один из них — `days_employed`. Пропуски в этом столбце вы обработаете на следующем этапе. Другой столбец с пропущенными значениями — `total_income` — хранит данные о доходах. На сумму дохода сильнее всего влияет тип занятости, поэтому заполнить пропуски в этом столбце нужно медианным значением по каждому типу из столбца `income_type`. Например, у человека с типом занятости `сотрудник` пропуск в столбце `total_income` должен быть заполнен медианным доходом среди всех записей с тем же типом.**"
   ]
  },
  {
   "cell_type": "code",
   "execution_count": 5,
   "id": "bdabfb6e",
   "metadata": {
    "deletable": false,
    "id": "bdabfb6e"
   },
   "outputs": [],
   "source": [
    "for t in data['income_type'].unique():\n",
    "    data.loc[(data['income_type'] == t) & (data['total_income'].isna()), 'total_income'] = \\\n",
    "    data.loc[(data['income_type'] == t), 'total_income'].median()"
   ]
  },
  {
   "cell_type": "markdown",
   "id": "5be34059",
   "metadata": {
    "deletable": false,
    "editable": false,
    "id": "5be34059"
   },
   "source": [
    "### Обработка аномальных значений"
   ]
  },
  {
   "cell_type": "markdown",
   "id": "a87606cb",
   "metadata": {
    "deletable": false,
    "editable": false,
    "id": "a87606cb"
   },
   "source": [
    "**Задание 6. В данных могут встречаться артефакты (аномалии) — значения, которые не отражают действительность и появились по какой-то ошибке. таким артефактом будет отрицательное количество дней трудового стажа в столбце `days_employed`. Для реальных данных это нормально. Обработайте значения в этом столбце: замените все отрицательные значения положительными с помощью метода `abs()`.**"
   ]
  },
  {
   "cell_type": "code",
   "execution_count": 6,
   "id": "020c46cc",
   "metadata": {
    "deletable": false,
    "id": "020c46cc"
   },
   "outputs": [],
   "source": [
    "data['days_employed'] = data['days_employed'].abs()"
   ]
  },
  {
   "cell_type": "markdown",
   "id": "45538a3a",
   "metadata": {
    "deletable": false,
    "editable": false,
    "id": "45538a3a"
   },
   "source": [
    "**Задание 7. Для каждого типа занятости выведите медианное значение трудового стажа `days_employed` в днях.**"
   ]
  },
  {
   "cell_type": "code",
   "execution_count": 7,
   "id": "cd3e6328",
   "metadata": {
    "deletable": false,
    "id": "cd3e6328",
    "outputId": "801ef80e-522b-4668-f34e-565af7432bcf"
   },
   "outputs": [
    {
     "data": {
      "text/plain": [
       "income_type\n",
       "безработный        366413.652744\n",
       "в декрете            3296.759962\n",
       "госслужащий          2689.368353\n",
       "компаньон            1547.382223\n",
       "пенсионер          365213.306266\n",
       "предприниматель       520.848083\n",
       "сотрудник            1574.202821\n",
       "студент               578.751554\n",
       "Name: days_employed, dtype: float64"
      ]
     },
     "execution_count": 7,
     "metadata": {},
     "output_type": "execute_result"
    }
   ],
   "source": [
    "data.groupby('income_type')['days_employed'].agg('median')"
   ]
  },
  {
   "cell_type": "markdown",
   "id": "90c5f058",
   "metadata": {
    "deletable": false,
    "editable": false,
    "id": "90c5f058"
   },
   "source": [
    "У двух типов (безработные и пенсионеры) получатся аномально большие значения. Исправить такие значения сложно, поэтому оставьте их как есть."
   ]
  },
  {
   "cell_type": "markdown",
   "id": "9652e50d",
   "metadata": {
    "deletable": false,
    "editable": false,
    "id": "9652e50d"
   },
   "source": [
    "**Задание 8. Выведите перечень уникальных значений столбца `children`.**"
   ]
  },
  {
   "cell_type": "code",
   "execution_count": 8,
   "id": "dbb37b8e",
   "metadata": {
    "deletable": false,
    "id": "dbb37b8e",
    "outputId": "6975b15c-7f95-4697-d16d-a0c79b657b03"
   },
   "outputs": [
    {
     "data": {
      "text/plain": [
       "array([ 1,  0,  3,  2, -1,  4, 20,  5])"
      ]
     },
     "execution_count": 8,
     "metadata": {},
     "output_type": "execute_result"
    }
   ],
   "source": [
    "data['children'].unique()"
   ]
  },
  {
   "cell_type": "markdown",
   "id": "2b8b0715",
   "metadata": {
    "deletable": false,
    "editable": false,
    "id": "2b8b0715"
   },
   "source": [
    "**Задание 9. В столбце `children` есть два аномальных значения. Удалите строки, в которых встречаются такие аномальные значения из датафрейма `data`.**"
   ]
  },
  {
   "cell_type": "code",
   "execution_count": 9,
   "id": "20009df8",
   "metadata": {
    "deletable": false,
    "id": "20009df8"
   },
   "outputs": [],
   "source": [
    "data = data[(data['children'] != -1) & (data['children'] != 20)]"
   ]
  },
  {
   "cell_type": "markdown",
   "id": "8c6ac9f1",
   "metadata": {
    "deletable": false,
    "editable": false,
    "id": "8c6ac9f1"
   },
   "source": [
    "**Задание 10. Ещё раз выведите перечень уникальных значений столбца `children`, чтобы убедиться, что артефакты удалены.**"
   ]
  },
  {
   "cell_type": "code",
   "execution_count": 10,
   "id": "07337b81",
   "metadata": {
    "deletable": false,
    "id": "07337b81",
    "outputId": "b2097101-d49d-44d9-901b-32a65c9463d1"
   },
   "outputs": [
    {
     "data": {
      "text/plain": [
       "array([1, 0, 3, 2, 4, 5])"
      ]
     },
     "execution_count": 10,
     "metadata": {},
     "output_type": "execute_result"
    }
   ],
   "source": [
    "data['children'].unique()"
   ]
  },
  {
   "cell_type": "markdown",
   "id": "ee3f52d4",
   "metadata": {
    "deletable": false,
    "editable": false,
    "id": "ee3f52d4"
   },
   "source": [
    "### Удаление пропусков (продолжение)"
   ]
  },
  {
   "cell_type": "markdown",
   "id": "a700b0e4",
   "metadata": {
    "deletable": false,
    "editable": false,
    "id": "a700b0e4"
   },
   "source": [
    "**Задание 11. Заполните пропуски в столбце `days_employed` медианными значениями по каждого типа занятости `income_type`.**"
   ]
  },
  {
   "cell_type": "code",
   "execution_count": 11,
   "id": "61946b83",
   "metadata": {
    "deletable": false,
    "id": "61946b83"
   },
   "outputs": [],
   "source": [
    "for t in data['income_type'].unique():\n",
    "    data.loc[(data['income_type'] == t) & (data['days_employed'].isna()), 'days_employed'] = \\\n",
    "    data.loc[(data['income_type'] == t), 'days_employed'].median()"
   ]
  },
  {
   "cell_type": "markdown",
   "id": "550dcd9b",
   "metadata": {
    "deletable": false,
    "editable": false,
    "id": "550dcd9b"
   },
   "source": [
    "**Задание 12. Убедитесь, что все пропуски заполнены. Проверьте себя и ещё раз выведите количество пропущенных значений для каждого столбца с помощью двух методов.**"
   ]
  },
  {
   "cell_type": "code",
   "execution_count": 12,
   "id": "937c7014",
   "metadata": {
    "deletable": false,
    "id": "937c7014",
    "outputId": "8da1e4e1-358e-4e87-98c9-f261bce0a7b2"
   },
   "outputs": [
    {
     "data": {
      "text/plain": [
       "children            0\n",
       "days_employed       0\n",
       "dob_years           0\n",
       "education           0\n",
       "education_id        0\n",
       "family_status       0\n",
       "family_status_id    0\n",
       "gender              0\n",
       "income_type         0\n",
       "debt                0\n",
       "total_income        0\n",
       "purpose             0\n",
       "dtype: int64"
      ]
     },
     "execution_count": 12,
     "metadata": {},
     "output_type": "execute_result"
    }
   ],
   "source": [
    "data.isna().sum()"
   ]
  },
  {
   "cell_type": "markdown",
   "id": "d522e295",
   "metadata": {
    "deletable": false,
    "editable": false,
    "id": "d522e295"
   },
   "source": [
    "### Изменение типов данных"
   ]
  },
  {
   "cell_type": "markdown",
   "id": "c229c581",
   "metadata": {
    "deletable": false,
    "editable": false,
    "id": "c229c581"
   },
   "source": [
    "**Задание 13. Замените вещественный тип данных в столбце `total_income` на целочисленный с помощью метода `astype()`.**"
   ]
  },
  {
   "cell_type": "code",
   "execution_count": 13,
   "id": "31036462",
   "metadata": {
    "deletable": false,
    "id": "31036462"
   },
   "outputs": [],
   "source": [
    "data['total_income'] = data['total_income'].astype(int)"
   ]
  },
  {
   "cell_type": "markdown",
   "id": "b8e3d1d9",
   "metadata": {
    "deletable": false,
    "editable": false,
    "id": "b8e3d1d9"
   },
   "source": [
    "### Обработка дубликатов"
   ]
  },
  {
   "cell_type": "markdown",
   "id": "9be53c49",
   "metadata": {
    "deletable": false,
    "editable": false,
    "id": "9be53c49"
   },
   "source": [
    "**Задание 14. Обработайте неявные дубликаты в столбце `education`. В этом столбце есть одни и те же значения, но записанные по-разному: с использованием заглавных и строчных букв. Приведите их к нижнему регистру.**"
   ]
  },
  {
   "cell_type": "code",
   "execution_count": 14,
   "id": "d89e73e1",
   "metadata": {
    "deletable": false,
    "id": "d89e73e1"
   },
   "outputs": [],
   "source": [
    "data['education'] = data['education'].str.lower()"
   ]
  },
  {
   "cell_type": "markdown",
   "id": "01d4500e",
   "metadata": {
    "deletable": false,
    "editable": false,
    "id": "01d4500e"
   },
   "source": [
    "**Задание 15. Выведите на экран количество строк-дубликатов в данных. Если такие строки присутствуют, удалите их.**"
   ]
  },
  {
   "cell_type": "code",
   "execution_count": 15,
   "id": "e10efb23",
   "metadata": {
    "deletable": false,
    "id": "e10efb23",
    "outputId": "9684deba-1934-42d1-99e1-cda61740f822"
   },
   "outputs": [
    {
     "data": {
      "text/plain": [
       "71"
      ]
     },
     "execution_count": 15,
     "metadata": {},
     "output_type": "execute_result"
    }
   ],
   "source": [
    "data.duplicated().sum()"
   ]
  },
  {
   "cell_type": "code",
   "execution_count": 16,
   "id": "df853f20",
   "metadata": {
    "deletable": false,
    "id": "df853f20"
   },
   "outputs": [],
   "source": [
    "data = data.drop_duplicates()"
   ]
  },
  {
   "cell_type": "markdown",
   "id": "627be38f",
   "metadata": {
    "deletable": false,
    "editable": false,
    "id": "627be38f"
   },
   "source": [
    "### Категоризация данных"
   ]
  },
  {
   "cell_type": "markdown",
   "id": "4684c3e0",
   "metadata": {
    "deletable": false,
    "editable": false,
    "id": "4684c3e0"
   },
   "source": [
    "**Задание 16. На основании диапазонов, указанных ниже, создайте в датафрейме `data` столбец `total_income_category` с категориями:**\n",
    "\n",
    "- 0–30000 — `'E'`;\n",
    "- 30001–50000 — `'D'`;\n",
    "- 50001–200000 — `'C'`;\n",
    "- 200001–1000000 — `'B'`;\n",
    "- 1000001 и выше — `'A'`.\n",
    "\n",
    "\n",
    "**Например, кредитополучателю с доходом 25000 нужно назначить категорию `'E'`, а клиенту, получающему 235000, — `'B'`. Используйте собственную функцию с именем `categorize_income()` и метод `apply()`.**"
   ]
  },
  {
   "cell_type": "code",
   "execution_count": 17,
   "id": "78965238",
   "metadata": {
    "deletable": false,
    "id": "78965238"
   },
   "outputs": [],
   "source": [
    "def categorize_income(income):\n",
    "    try:\n",
    "        if 0 <= income <= 30000:\n",
    "            return 'E'\n",
    "        elif 30001 <= income <= 50000:\n",
    "            return 'D'\n",
    "        elif 50001 <= income <= 200000:\n",
    "            return 'C'\n",
    "        elif 200001 <= income <= 1000000:\n",
    "            return 'B'\n",
    "        elif income >= 1000001:\n",
    "            return 'A'\n",
    "    except:\n",
    "        pass"
   ]
  },
  {
   "cell_type": "code",
   "execution_count": 18,
   "id": "0980ada1",
   "metadata": {
    "deletable": false,
    "id": "0980ada1"
   },
   "outputs": [],
   "source": [
    "data['total_income_category'] = data['total_income'].apply(categorize_income)"
   ]
  },
  {
   "cell_type": "markdown",
   "id": "9917bba0",
   "metadata": {
    "deletable": false,
    "editable": false,
    "id": "9917bba0"
   },
   "source": [
    "**Задание 17. Выведите на экран перечень уникальных целей взятия кредита из столбца `purpose`.**"
   ]
  },
  {
   "cell_type": "code",
   "execution_count": 19,
   "id": "ee07b65e",
   "metadata": {
    "deletable": false,
    "id": "ee07b65e",
    "outputId": "673c12d9-7d7e-4ae0-9812-c622c89dd244"
   },
   "outputs": [
    {
     "data": {
      "text/plain": [
       "array(['покупка жилья', 'приобретение автомобиля',\n",
       "       'дополнительное образование', 'сыграть свадьбу',\n",
       "       'операции с жильем', 'образование', 'на проведение свадьбы',\n",
       "       'покупка жилья для семьи', 'покупка недвижимости',\n",
       "       'покупка коммерческой недвижимости', 'покупка жилой недвижимости',\n",
       "       'строительство собственной недвижимости', 'недвижимость',\n",
       "       'строительство недвижимости', 'на покупку подержанного автомобиля',\n",
       "       'на покупку своего автомобиля',\n",
       "       'операции с коммерческой недвижимостью',\n",
       "       'строительство жилой недвижимости', 'жилье',\n",
       "       'операции со своей недвижимостью', 'автомобили',\n",
       "       'заняться образованием', 'сделка с подержанным автомобилем',\n",
       "       'получение образования', 'автомобиль', 'свадьба',\n",
       "       'получение дополнительного образования', 'покупка своего жилья',\n",
       "       'операции с недвижимостью', 'получение высшего образования',\n",
       "       'свой автомобиль', 'сделка с автомобилем',\n",
       "       'профильное образование', 'высшее образование',\n",
       "       'покупка жилья для сдачи', 'на покупку автомобиля', 'ремонт жилью',\n",
       "       'заняться высшим образованием'], dtype=object)"
      ]
     },
     "execution_count": 19,
     "metadata": {},
     "output_type": "execute_result"
    }
   ],
   "source": [
    "data['purpose'].unique()"
   ]
  },
  {
   "cell_type": "markdown",
   "id": "52b79d56",
   "metadata": {
    "deletable": false,
    "editable": false,
    "id": "52b79d56"
   },
   "source": [
    "**Задание 18. Создайте функцию, которая на основании данных из столбца `purpose` сформирует новый столбец `purpose_category`, в который войдут следующие категории:**\n",
    "\n",
    "- `'операции с автомобилем'`,\n",
    "- `'операции с недвижимостью'`,\n",
    "- `'проведение свадьбы'`,\n",
    "- `'получение образования'`.\n",
    "\n",
    "**Например, если в столбце `purpose` находится подстрока `'на покупку автомобиля'`, то в столбце `purpose_category` должна появиться строка `'операции с автомобилем'`.**\n",
    "\n",
    "**Используйте собственную функцию с именем `categorize_purpose()` и метод `apply()`. Изучите данные в столбце `purpose` и определите, какие подстроки помогут вам правильно определить категорию.**"
   ]
  },
  {
   "cell_type": "code",
   "execution_count": 20,
   "id": "be41da5d",
   "metadata": {
    "deletable": false,
    "id": "be41da5d"
   },
   "outputs": [],
   "source": [
    "def categorize_purpose(row):\n",
    "    try:\n",
    "        if 'автом' in row:\n",
    "            return 'операции с автомобилем'\n",
    "        elif 'жил' in row or 'недвиж' in row:\n",
    "            return 'операции с недвижимостью'\n",
    "        elif 'свад' in row:\n",
    "            return 'проведение свадьбы'\n",
    "        elif 'образов' in row:\n",
    "            return 'получение образования'\n",
    "    except:\n",
    "        return 'нет категории'"
   ]
  },
  {
   "cell_type": "code",
   "execution_count": 21,
   "id": "94c4a19a",
   "metadata": {
    "deletable": false,
    "id": "94c4a19a"
   },
   "outputs": [],
   "source": [
    "data['purpose_category'] = data['purpose'].apply(categorize_purpose)"
   ]
  },
  {
   "cell_type": "markdown",
   "id": "3d596c34",
   "metadata": {
    "deletable": false,
    "editable": false,
    "id": "3d596c34"
   },
   "source": [
    "### Шаг 3. Исследуйте данные и ответьте на вопросы"
   ]
  },
  {
   "cell_type": "markdown",
   "id": "648db036",
   "metadata": {
    "deletable": false,
    "editable": false,
    "id": "648db036"
   },
   "source": [
    "#### 3.1 Есть ли зависимость между количеством детей и возвратом кредита в срок?"
   ]
  },
  {
   "cell_type": "code",
   "execution_count": 22,
   "id": "49b64b62",
   "metadata": {},
   "outputs": [
    {
     "name": "stdout",
     "output_type": "stream",
     "text": [
      "Колонка dob_years: [42 36 33 32 53 27 43 50 35 41 40 65 54 56 26 48 24 21 57 67 28 63 62 47\n",
      " 34 68 25 31 30 20 49 37 45 61 64 44 52 46 23 38 39 51  0 59 29 60 55 58\n",
      " 71 22 73 66 69 19 72 70 74 75]\n",
      "Колонка education: ['высшее' 'среднее' 'неоконченное высшее' 'начальное' 'ученая степень']\n",
      "Колонка education_id: [0 1 2 3 4]\n"
     ]
    }
   ],
   "source": [
    "# Проверим уникальные значения в столбцах, которые еще не проверяли в предыдущих заданиях \n",
    "\n",
    "print('Колонка dob_years:', data['dob_years'].unique())\n",
    "print('Колонка education:', data['education'].unique())\n",
    "print('Колонка education_id:', data['education_id'].unique())"
   ]
  },
  {
   "cell_type": "markdown",
   "id": "a7dea722",
   "metadata": {},
   "source": [
    "В колонках dob_years, education и education_id аномальных значений не наблюдается."
   ]
  },
  {
   "cell_type": "code",
   "execution_count": 23,
   "id": "e1870290",
   "metadata": {},
   "outputs": [
    {
     "name": "stdout",
     "output_type": "stream",
     "text": [
      "Колонка family_status ['женат / замужем' 'гражданский брак' 'вдовец / вдова' 'в разводе'\n",
      " 'Не женат / не замужем']\n",
      "Колонка family_status_id [0 1 2 3 4]\n",
      "Колонка gender ['F' 'M' 'XNA']\n"
     ]
    }
   ],
   "source": [
    "print('Колонка family_status', data['family_status'].unique())\n",
    "print('Колонка family_status_id', data['family_status_id'].unique())\n",
    "print('Колонка gender', data['gender'].unique())"
   ]
  },
  {
   "cell_type": "markdown",
   "id": "9aed63db",
   "metadata": {},
   "source": [
    "В колонках family_status и family_status_id аномальных значений не обнаружено. \n",
    "В колонке gender обнаружено аномальное значение XNA. Посмотрим в какой строке располагаются эти значения."
   ]
  },
  {
   "cell_type": "code",
   "execution_count": 24,
   "id": "5f673ec7",
   "metadata": {},
   "outputs": [
    {
     "data": {
      "text/html": [
       "<div>\n",
       "<style scoped>\n",
       "    .dataframe tbody tr th:only-of-type {\n",
       "        vertical-align: middle;\n",
       "    }\n",
       "\n",
       "    .dataframe tbody tr th {\n",
       "        vertical-align: top;\n",
       "    }\n",
       "\n",
       "    .dataframe thead th {\n",
       "        text-align: right;\n",
       "    }\n",
       "</style>\n",
       "<table border=\"1\" class=\"dataframe\">\n",
       "  <thead>\n",
       "    <tr style=\"text-align: right;\">\n",
       "      <th></th>\n",
       "      <th>children</th>\n",
       "      <th>days_employed</th>\n",
       "      <th>dob_years</th>\n",
       "      <th>education</th>\n",
       "      <th>education_id</th>\n",
       "      <th>family_status</th>\n",
       "      <th>family_status_id</th>\n",
       "      <th>gender</th>\n",
       "      <th>income_type</th>\n",
       "      <th>debt</th>\n",
       "      <th>total_income</th>\n",
       "      <th>purpose</th>\n",
       "      <th>total_income_category</th>\n",
       "      <th>purpose_category</th>\n",
       "    </tr>\n",
       "  </thead>\n",
       "  <tbody>\n",
       "    <tr>\n",
       "      <th>10701</th>\n",
       "      <td>0</td>\n",
       "      <td>2358.600502</td>\n",
       "      <td>24</td>\n",
       "      <td>неоконченное высшее</td>\n",
       "      <td>2</td>\n",
       "      <td>гражданский брак</td>\n",
       "      <td>1</td>\n",
       "      <td>XNA</td>\n",
       "      <td>компаньон</td>\n",
       "      <td>0</td>\n",
       "      <td>203905</td>\n",
       "      <td>покупка недвижимости</td>\n",
       "      <td>B</td>\n",
       "      <td>операции с недвижимостью</td>\n",
       "    </tr>\n",
       "  </tbody>\n",
       "</table>\n",
       "</div>"
      ],
      "text/plain": [
       "       children  days_employed  dob_years            education  education_id  \\\n",
       "10701         0    2358.600502         24  неоконченное высшее             2   \n",
       "\n",
       "          family_status  family_status_id gender income_type  debt  \\\n",
       "10701  гражданский брак                 1    XNA   компаньон     0   \n",
       "\n",
       "       total_income               purpose total_income_category  \\\n",
       "10701        203905  покупка недвижимости                     B   \n",
       "\n",
       "               purpose_category  \n",
       "10701  операции с недвижимостью  "
      ]
     },
     "execution_count": 24,
     "metadata": {},
     "output_type": "execute_result"
    }
   ],
   "source": [
    "data.loc[data['gender'] == 'XNA']"
   ]
  },
  {
   "cell_type": "markdown",
   "id": "c32d3d74",
   "metadata": {},
   "source": [
    "Аномальное значение 'XNA' встречается только в одной строке датафрейма (№ 10701) — видимо при заполнении данных заемщик не указал свой пол.\n",
    "Заполнить пропущенное значение, например медианным, мы не сможем. Имеет смысл удалить эту строку совсем. Но сначала оценим повлияет ли удаление этой строки на выборку других колонках. Посчитаем как часто в датафрейме встречаются категориальные значения из других колонок строки 10701."
   ]
  },
  {
   "cell_type": "code",
   "execution_count": 25,
   "id": "567c96b4",
   "metadata": {},
   "outputs": [
    {
     "name": "stdout",
     "output_type": "stream",
     "text": [
      "741\n",
      "4134\n",
      "14091\n",
      "5047\n",
      "10751\n"
     ]
    }
   ],
   "source": [
    "print(data.loc[data['education'] == 'неоконченное высшее']['education'].count())\n",
    "print(data.loc[data['family_status'] == 'гражданский брак']['family_status'].count())\n",
    "print(data.loc[data['children'] == 0]['children'].count())\n",
    "print(data.loc[data['income_type'] == 'компаньон']['income_type'].count())\n",
    "print(data.loc[data['purpose_category'] == 'операции с недвижимостью']['purpose_category'].count())"
   ]
  },
  {
   "cell_type": "markdown",
   "id": "30a07a8b",
   "metadata": {},
   "source": [
    "Одна строка составляет меньше 1% от каждого выше указанного набора данных, поэтому ее удаление не повлияет на точность расчетов."
   ]
  },
  {
   "cell_type": "code",
   "execution_count": 26,
   "id": "f2bceb89",
   "metadata": {},
   "outputs": [],
   "source": [
    "#Удалим строку 10701 с аномальным значением XNA.\n",
    "data = data[data['gender'] != 'XNA']"
   ]
  },
  {
   "cell_type": "code",
   "execution_count": 27,
   "id": "c77ce6d2",
   "metadata": {},
   "outputs": [
    {
     "data": {
      "text/plain": [
       "children                 0\n",
       "days_employed            0\n",
       "dob_years                0\n",
       "education                0\n",
       "education_id             0\n",
       "family_status            0\n",
       "family_status_id         0\n",
       "gender                   0\n",
       "income_type              0\n",
       "debt                     0\n",
       "total_income             0\n",
       "purpose                  0\n",
       "total_income_category    0\n",
       "purpose_category         0\n",
       "dtype: int64"
      ]
     },
     "execution_count": 27,
     "metadata": {},
     "output_type": "execute_result"
    }
   ],
   "source": [
    "#Проверим, что строка с аномальным значением XNA удалена\n",
    "data.loc[data['gender'] == 'XNA'].count()"
   ]
  },
  {
   "cell_type": "code",
   "execution_count": 28,
   "id": "067387eb",
   "metadata": {},
   "outputs": [
    {
     "name": "stdout",
     "output_type": "stream",
     "text": [
      "Колонка income_type: ['сотрудник' 'пенсионер' 'компаньон' 'госслужащий' 'безработный'\n",
      " 'предприниматель' 'студент' 'в декрете']\n",
      "Колонка debt: [0 1]\n"
     ]
    }
   ],
   "source": [
    "# Продолжим проверку уникальных значений в столбцах датафрейма\n",
    "\n",
    "print('Колонка income_type:', data['income_type'].unique())\n",
    "print('Колонка debt:', data['debt'].unique())"
   ]
  },
  {
   "cell_type": "markdown",
   "id": "d46d598b",
   "metadata": {},
   "source": [
    "В колонках income_type и debt аномальных значений не наблюдается. \n",
    "Больше аномалий в значениях столбцов не обнаружено, переходим к поиску зависимости между количеством детей и возвратом кредита в срок."
   ]
  },
  {
   "cell_type": "code",
   "execution_count": 29,
   "id": "e66ac77c",
   "metadata": {},
   "outputs": [
    {
     "name": "stdout",
     "output_type": "stream",
     "text": [
      "children\n",
      "0    1063\n",
      "1     444\n",
      "2     194\n",
      "3      27\n",
      "4       4\n",
      "5       0\n",
      "Name: debt, dtype: int64\n"
     ]
    }
   ],
   "source": [
    "# Посмотрим общие данные о количестве случаев задолжености по кредитам у бездетных заемщиков и заемщиков с детьми \n",
    "\n",
    "sum_group_debt = data.groupby('children')['debt'].sum()\n",
    "print(sum_group_debt)"
   ]
  },
  {
   "cell_type": "markdown",
   "id": "bcf93e7a",
   "metadata": {},
   "source": [
    "Абслютные цифры показывают, что больше всего заемщиков допустивших задолженности - среди бездетных. \n",
    "С увеличением количества детей уменьшается количество случаев задолженности по кредитам. Можно предположить, что с появлением детей заемщики становятся более ответственными.\n",
    "Однако в процентром соотношении (кол-во заемщиков с просрочкой к общему кол-ву заемщиков в группе) ситуация может выглядеть иначе. Найдем долю заемщики с задолженностью по каждой группе (бездетные, с одним ребенком, с двумя и т.д).  "
   ]
  },
  {
   "cell_type": "code",
   "execution_count": 30,
   "id": "826d2a08",
   "metadata": {},
   "outputs": [
    {
     "data": {
      "text/html": [
       "<style  type=\"text/css\" >\n",
       "#T_92169_row0_col3{\n",
       "            background-color:  #fff5f0;\n",
       "            color:  #000000;\n",
       "        }#T_92169_row1_col3{\n",
       "            background-color:  #c4161c;\n",
       "            color:  #f1f1f1;\n",
       "        }#T_92169_row2_col3{\n",
       "            background-color:  #b01217;\n",
       "            color:  #f1f1f1;\n",
       "        }#T_92169_row3_col3{\n",
       "            background-color:  #800610;\n",
       "            color:  #f1f1f1;\n",
       "        }#T_92169_row4_col3{\n",
       "            background-color:  #75030f;\n",
       "            color:  #f1f1f1;\n",
       "        }#T_92169_row5_col3{\n",
       "            background-color:  #67000d;\n",
       "            color:  #f1f1f1;\n",
       "        }</style><table id=\"T_92169_\" ><thead>    <tr>        <th class=\"blank level0\" ></th>        <th class=\"col_heading level0 col0\" >children</th>        <th class=\"col_heading level0 col1\" >sum_debt</th>        <th class=\"col_heading level0 col2\" >count_family</th>        <th class=\"col_heading level0 col3\" >result</th>    </tr></thead><tbody>\n",
       "                <tr>\n",
       "                        <th id=\"T_92169_level0_row0\" class=\"row_heading level0 row0\" >5</th>\n",
       "                        <td id=\"T_92169_row0_col0\" class=\"data row0 col0\" >5</td>\n",
       "                        <td id=\"T_92169_row0_col1\" class=\"data row0 col1\" >0</td>\n",
       "                        <td id=\"T_92169_row0_col2\" class=\"data row0 col2\" >9</td>\n",
       "                        <td id=\"T_92169_row0_col3\" class=\"data row0 col3\" >0.00%</td>\n",
       "            </tr>\n",
       "            <tr>\n",
       "                        <th id=\"T_92169_level0_row1\" class=\"row_heading level0 row1\" >0</th>\n",
       "                        <td id=\"T_92169_row1_col0\" class=\"data row1 col0\" >0</td>\n",
       "                        <td id=\"T_92169_row1_col1\" class=\"data row1 col1\" >1063</td>\n",
       "                        <td id=\"T_92169_row1_col2\" class=\"data row1 col2\" >14090</td>\n",
       "                        <td id=\"T_92169_row1_col3\" class=\"data row1 col3\" >7.54%</td>\n",
       "            </tr>\n",
       "            <tr>\n",
       "                        <th id=\"T_92169_level0_row2\" class=\"row_heading level0 row2\" >3</th>\n",
       "                        <td id=\"T_92169_row2_col0\" class=\"data row2 col0\" >3</td>\n",
       "                        <td id=\"T_92169_row2_col1\" class=\"data row2 col1\" >27</td>\n",
       "                        <td id=\"T_92169_row2_col2\" class=\"data row2 col2\" >330</td>\n",
       "                        <td id=\"T_92169_row2_col3\" class=\"data row2 col3\" >8.18%</td>\n",
       "            </tr>\n",
       "            <tr>\n",
       "                        <th id=\"T_92169_level0_row3\" class=\"row_heading level0 row3\" >1</th>\n",
       "                        <td id=\"T_92169_row3_col0\" class=\"data row3 col0\" >1</td>\n",
       "                        <td id=\"T_92169_row3_col1\" class=\"data row3 col1\" >444</td>\n",
       "                        <td id=\"T_92169_row3_col2\" class=\"data row3 col2\" >4808</td>\n",
       "                        <td id=\"T_92169_row3_col3\" class=\"data row3 col3\" >9.23%</td>\n",
       "            </tr>\n",
       "            <tr>\n",
       "                        <th id=\"T_92169_level0_row4\" class=\"row_heading level0 row4\" >2</th>\n",
       "                        <td id=\"T_92169_row4_col0\" class=\"data row4 col0\" >2</td>\n",
       "                        <td id=\"T_92169_row4_col1\" class=\"data row4 col1\" >194</td>\n",
       "                        <td id=\"T_92169_row4_col2\" class=\"data row4 col2\" >2052</td>\n",
       "                        <td id=\"T_92169_row4_col3\" class=\"data row4 col3\" >9.45%</td>\n",
       "            </tr>\n",
       "            <tr>\n",
       "                        <th id=\"T_92169_level0_row5\" class=\"row_heading level0 row5\" >4</th>\n",
       "                        <td id=\"T_92169_row5_col0\" class=\"data row5 col0\" >4</td>\n",
       "                        <td id=\"T_92169_row5_col1\" class=\"data row5 col1\" >4</td>\n",
       "                        <td id=\"T_92169_row5_col2\" class=\"data row5 col2\" >41</td>\n",
       "                        <td id=\"T_92169_row5_col3\" class=\"data row5 col3\" >9.76%</td>\n",
       "            </tr>\n",
       "    </tbody></table>"
      ],
      "text/plain": [
       "<pandas.io.formats.style.Styler at 0x7ff0fa241760>"
      ]
     },
     "execution_count": 30,
     "metadata": {},
     "output_type": "execute_result"
    }
   ],
   "source": [
    "# Построим сводную таблицу для расчета средней задолженности по каждой группе детей в семье\n",
    "# Cгруппируем сводную таблицу по столбцу \"children\", значения выведем по столбцу debt \n",
    "# и применим к ним три функции - сумму, счёт количества и расчет среднего. С \n",
    "\n",
    "children_group_pivot = data.pivot_table(index='children', values='debt', aggfunc=['sum', 'count', 'mean']).reset_index()\n",
    "    \n",
    "# Для удобства переименуем колонки сводной таблицы.\n",
    "children_group_pivot = children_group_pivot.set_axis(['children', 'sum_debt', 'count_family', 'result'], axis='columns')\n",
    "    \n",
    "# Напечатаем сводную таблицу, сортируем по возрастанию и выделяем цветом доли задолженности\n",
    "children_group_pivot.sort_values('result').style.format({'result': '{:.2%}'}) \\\n",
    "    .background_gradient(cmap='Reds',subset='result')"
   ]
  },
  {
   "cell_type": "code",
   "execution_count": 33,
   "id": "9745b0cd",
   "metadata": {},
   "outputs": [
    {
     "data": {
      "image/png": "[encoded data removed]",
      "text/plain": [
       "<Figure size 432x288 with 1 Axes>"
      ]
     },
     "metadata": {
      "needs_background": "light"
     },
     "output_type": "display_data"
    }
   ],
   "source": [
    "# Импортируем библиотеку для визуализации данных. \n",
    "# Построим график для наглядного сравнения доли случаев задолженности по группам. \n",
    "\n",
    "import matplotlib.pyplot as plt\n",
    "children_group_pivot[['children', 'result']].sort_values('result')\\\n",
    "    .plot(x='children', kind='bar', xlabel='Количество детей', ylabel='Доля случаев задолженности')\n",
    "\n",
    "# Добавим заголовок для графика\n",
    "plt.title('Доля задолженности в группах по количеству детей')\n",
    "\n",
    "# Изменим наклон цифр-категорий на оси Х.\n",
    "# Ноль - это верикально. 90 - это горизонтально.\n",
    "plt.xticks(rotation=0) \n",
    "\n",
    "#удалим технические записи (<AxesSubplot:...) графика из результата кода\n",
    "plt.show()"
   ]
  },
  {
   "cell_type": "markdown",
   "id": "43949f8a",
   "metadata": {},
   "source": [
    "На графике мы видим, что с увеличением количества детей растет доля случаев задолженности.\n",
    "\n",
    "Бездетные заемщики в процентном отношении допускают даже меньше задолженностей, чем заемщики с детьми. Хотя в абсолютных числах именно среди них больше всего должников.\n",
    "\n",
    "Среди заемщиков с пятью детьми должников нет. Однако таких клиентов всего 9 человек, данных очень мало, поэтому не стоит делать вывод, что они являются самыми надежными заемщиками.\n",
    "\n",
    "В целом виден тренд: больше детей - больше задолженностей. Для более точных расчетов нужна более равная выборка по группам.\n",
    "\n",
    "Посмотрим связь количества детей и возврат кредита в разрезе пола заемщика. Возможно многодетные мужчины-заемщики чаще допускают неплатежи, или наоборот многодетные-женщины. "
   ]
  },
  {
   "cell_type": "code",
   "execution_count": 34,
   "id": "6f3b6b4b",
   "metadata": {},
   "outputs": [
    {
     "data": {
      "text/html": [
       "<div>\n",
       "<style scoped>\n",
       "    .dataframe tbody tr th:only-of-type {\n",
       "        vertical-align: middle;\n",
       "    }\n",
       "\n",
       "    .dataframe tbody tr th {\n",
       "        vertical-align: top;\n",
       "    }\n",
       "\n",
       "    .dataframe thead th {\n",
       "        text-align: right;\n",
       "    }\n",
       "</style>\n",
       "<table border=\"1\" class=\"dataframe\">\n",
       "  <thead>\n",
       "    <tr style=\"text-align: right;\">\n",
       "      <th></th>\n",
       "      <th>children</th>\n",
       "      <th>days_employed</th>\n",
       "      <th>dob_years</th>\n",
       "      <th>education</th>\n",
       "      <th>education_id</th>\n",
       "      <th>family_status</th>\n",
       "      <th>family_status_id</th>\n",
       "      <th>gender</th>\n",
       "      <th>income_type</th>\n",
       "      <th>debt</th>\n",
       "      <th>total_income</th>\n",
       "      <th>purpose</th>\n",
       "      <th>total_income_category</th>\n",
       "      <th>purpose_category</th>\n",
       "    </tr>\n",
       "  </thead>\n",
       "  <tbody>\n",
       "    <tr>\n",
       "      <th>0</th>\n",
       "      <td>1</td>\n",
       "      <td>8437.673028</td>\n",
       "      <td>42</td>\n",
       "      <td>высшее</td>\n",
       "      <td>0</td>\n",
       "      <td>женат / замужем</td>\n",
       "      <td>0</td>\n",
       "      <td>F</td>\n",
       "      <td>сотрудник</td>\n",
       "      <td>0</td>\n",
       "      <td>253875</td>\n",
       "      <td>покупка жилья</td>\n",
       "      <td>B</td>\n",
       "      <td>операции с недвижимостью</td>\n",
       "    </tr>\n",
       "    <tr>\n",
       "      <th>1</th>\n",
       "      <td>1</td>\n",
       "      <td>4024.803754</td>\n",
       "      <td>36</td>\n",
       "      <td>среднее</td>\n",
       "      <td>1</td>\n",
       "      <td>женат / замужем</td>\n",
       "      <td>0</td>\n",
       "      <td>F</td>\n",
       "      <td>сотрудник</td>\n",
       "      <td>0</td>\n",
       "      <td>112080</td>\n",
       "      <td>приобретение автомобиля</td>\n",
       "      <td>C</td>\n",
       "      <td>операции с автомобилем</td>\n",
       "    </tr>\n",
       "    <tr>\n",
       "      <th>2</th>\n",
       "      <td>0</td>\n",
       "      <td>5623.422610</td>\n",
       "      <td>33</td>\n",
       "      <td>среднее</td>\n",
       "      <td>1</td>\n",
       "      <td>женат / замужем</td>\n",
       "      <td>0</td>\n",
       "      <td>M</td>\n",
       "      <td>сотрудник</td>\n",
       "      <td>0</td>\n",
       "      <td>145885</td>\n",
       "      <td>покупка жилья</td>\n",
       "      <td>C</td>\n",
       "      <td>операции с недвижимостью</td>\n",
       "    </tr>\n",
       "    <tr>\n",
       "      <th>3</th>\n",
       "      <td>3</td>\n",
       "      <td>4124.747207</td>\n",
       "      <td>32</td>\n",
       "      <td>среднее</td>\n",
       "      <td>1</td>\n",
       "      <td>женат / замужем</td>\n",
       "      <td>0</td>\n",
       "      <td>M</td>\n",
       "      <td>сотрудник</td>\n",
       "      <td>0</td>\n",
       "      <td>267628</td>\n",
       "      <td>дополнительное образование</td>\n",
       "      <td>B</td>\n",
       "      <td>получение образования</td>\n",
       "    </tr>\n",
       "    <tr>\n",
       "      <th>4</th>\n",
       "      <td>0</td>\n",
       "      <td>340266.072047</td>\n",
       "      <td>53</td>\n",
       "      <td>среднее</td>\n",
       "      <td>1</td>\n",
       "      <td>гражданский брак</td>\n",
       "      <td>1</td>\n",
       "      <td>F</td>\n",
       "      <td>пенсионер</td>\n",
       "      <td>0</td>\n",
       "      <td>158616</td>\n",
       "      <td>сыграть свадьбу</td>\n",
       "      <td>C</td>\n",
       "      <td>проведение свадьбы</td>\n",
       "    </tr>\n",
       "  </tbody>\n",
       "</table>\n",
       "</div>"
      ],
      "text/plain": [
       "   children  days_employed  dob_years education  education_id  \\\n",
       "0         1    8437.673028         42    высшее             0   \n",
       "1         1    4024.803754         36   среднее             1   \n",
       "2         0    5623.422610         33   среднее             1   \n",
       "3         3    4124.747207         32   среднее             1   \n",
       "4         0  340266.072047         53   среднее             1   \n",
       "\n",
       "      family_status  family_status_id gender income_type  debt  total_income  \\\n",
       "0   женат / замужем                 0      F   сотрудник     0        253875   \n",
       "1   женат / замужем                 0      F   сотрудник     0        112080   \n",
       "2   женат / замужем                 0      M   сотрудник     0        145885   \n",
       "3   женат / замужем                 0      M   сотрудник     0        267628   \n",
       "4  гражданский брак                 1      F   пенсионер     0        158616   \n",
       "\n",
       "                      purpose total_income_category          purpose_category  \n",
       "0               покупка жилья                     B  операции с недвижимостью  \n",
       "1     приобретение автомобиля                     C    операции с автомобилем  \n",
       "2               покупка жилья                     C  операции с недвижимостью  \n",
       "3  дополнительное образование                     B     получение образования  \n",
       "4             сыграть свадьбу                     C        проведение свадьбы  "
      ]
     },
     "execution_count": 34,
     "metadata": {},
     "output_type": "execute_result"
    }
   ],
   "source": [
    "#выведем пять строк исходной таблицы, чтобы ориентироваться при фильтрафии \n",
    "\n",
    "data.head(5)"
   ]
  },
  {
   "cell_type": "code",
   "execution_count": 35,
   "id": "72e1e082",
   "metadata": {},
   "outputs": [
    {
     "data": {
      "text/html": [
       "<style  type=\"text/css\" >\n",
       "#T_cde0c_row0_col3{\n",
       "            background-color:  #fff5f0;\n",
       "            color:  #000000;\n",
       "        }#T_cde0c_row1_col3{\n",
       "            background-color:  #c4161c;\n",
       "            color:  #f1f1f1;\n",
       "        }#T_cde0c_row2_col3{\n",
       "            background-color:  #b01217;\n",
       "            color:  #f1f1f1;\n",
       "        }#T_cde0c_row3_col3{\n",
       "            background-color:  #800610;\n",
       "            color:  #f1f1f1;\n",
       "        }#T_cde0c_row4_col3{\n",
       "            background-color:  #75030f;\n",
       "            color:  #f1f1f1;\n",
       "        }#T_cde0c_row5_col3{\n",
       "            background-color:  #67000d;\n",
       "            color:  #f1f1f1;\n",
       "        }</style><table id=\"T_cde0c_\" ><thead>    <tr>        <th class=\"blank level0\" ></th>        <th class=\"col_heading level0 col0\" >children</th>        <th class=\"col_heading level0 col1\" >ratio_debt_male</th>        <th class=\"col_heading level0 col2\" >ratio_debt_female</th>        <th class=\"col_heading level0 col3\" >ratio_all_gender</th>    </tr></thead><tbody>\n",
       "                <tr>\n",
       "                        <th id=\"T_cde0c_level0_row0\" class=\"row_heading level0 row0\" >5</th>\n",
       "                        <td id=\"T_cde0c_row0_col0\" class=\"data row0 col0\" >5</td>\n",
       "                        <td id=\"T_cde0c_row0_col1\" class=\"data row0 col1\" >0.00%</td>\n",
       "                        <td id=\"T_cde0c_row0_col2\" class=\"data row0 col2\" >0.00%</td>\n",
       "                        <td id=\"T_cde0c_row0_col3\" class=\"data row0 col3\" >0.00%</td>\n",
       "            </tr>\n",
       "            <tr>\n",
       "                        <th id=\"T_cde0c_level0_row1\" class=\"row_heading level0 row1\" >0</th>\n",
       "                        <td id=\"T_cde0c_row1_col0\" class=\"data row1 col0\" >1</td>\n",
       "                        <td id=\"T_cde0c_row1_col1\" class=\"data row1 col1\" >10.31%</td>\n",
       "                        <td id=\"T_cde0c_row1_col2\" class=\"data row1 col2\" >6.22%</td>\n",
       "                        <td id=\"T_cde0c_row1_col3\" class=\"data row1 col3\" >7.54%</td>\n",
       "            </tr>\n",
       "            <tr>\n",
       "                        <th id=\"T_cde0c_level0_row2\" class=\"row_heading level0 row2\" >3</th>\n",
       "                        <td id=\"T_cde0c_row2_col0\" class=\"data row2 col0\" >2</td>\n",
       "                        <td id=\"T_cde0c_row2_col1\" class=\"data row2 col1\" >7.46%</td>\n",
       "                        <td id=\"T_cde0c_row2_col2\" class=\"data row2 col2\" >8.67%</td>\n",
       "                        <td id=\"T_cde0c_row2_col3\" class=\"data row2 col3\" >8.18%</td>\n",
       "            </tr>\n",
       "            <tr>\n",
       "                        <th id=\"T_cde0c_level0_row3\" class=\"row_heading level0 row3\" >1</th>\n",
       "                        <td id=\"T_cde0c_row3_col0\" class=\"data row3 col0\" >0</td>\n",
       "                        <td id=\"T_cde0c_row3_col1\" class=\"data row3 col1\" >11.55%</td>\n",
       "                        <td id=\"T_cde0c_row3_col2\" class=\"data row3 col2\" >7.94%</td>\n",
       "                        <td id=\"T_cde0c_row3_col3\" class=\"data row3 col3\" >9.23%</td>\n",
       "            </tr>\n",
       "            <tr>\n",
       "                        <th id=\"T_cde0c_level0_row4\" class=\"row_heading level0 row4\" >2</th>\n",
       "                        <td id=\"T_cde0c_row4_col0\" class=\"data row4 col0\" >3</td>\n",
       "                        <td id=\"T_cde0c_row4_col1\" class=\"data row4 col1\" >7.54%</td>\n",
       "                        <td id=\"T_cde0c_row4_col2\" class=\"data row4 col2\" >10.67%</td>\n",
       "                        <td id=\"T_cde0c_row4_col3\" class=\"data row4 col3\" >9.45%</td>\n",
       "            </tr>\n",
       "            <tr>\n",
       "                        <th id=\"T_cde0c_level0_row5\" class=\"row_heading level0 row5\" >4</th>\n",
       "                        <td id=\"T_cde0c_row5_col0\" class=\"data row5 col0\" >4</td>\n",
       "                        <td id=\"T_cde0c_row5_col1\" class=\"data row5 col1\" >23.08%</td>\n",
       "                        <td id=\"T_cde0c_row5_col2\" class=\"data row5 col2\" >3.57%</td>\n",
       "                        <td id=\"T_cde0c_row5_col3\" class=\"data row5 col3\" >9.76%</td>\n",
       "            </tr>\n",
       "    </tbody></table>"
      ],
      "text/plain": [
       "<pandas.io.formats.style.Styler at 0x7ff0f0392a00>"
      ]
     },
     "execution_count": 35,
     "metadata": {},
     "output_type": "execute_result"
    }
   ],
   "source": [
    "# Сделаем выборку заемщиков-мужчин и посчитаем в ней среднее количество задолженностей \n",
    "\n",
    "data_gender_male = data.loc[data['gender'] == 'M']\n",
    "data_gender_male = data_gender_male.groupby('children')['debt'].mean()\n",
    "\n",
    "# Сделаем выборку заемщиков-женщин и посчитаем в ней среднее количество задолженностей \n",
    "\n",
    "data_gender_female = data.loc[data['gender'] == 'F']\n",
    "data_gender_female = data_gender_female.groupby('children')['debt'].mean()\n",
    "\n",
    "# Создадим датафрейм и передадим в него среднюю задолженность заемщиков мужчин и женщин,\n",
    "# а также среднее количество задолженностей обоих полов из предыдущего шага. \n",
    "\n",
    "gender_debt_for_children = pd.DataFrame()\n",
    "gender_debt_for_children['children'] = data['children'].unique()\n",
    "gender_debt_for_children['ratio_debt_male'] = data_gender_male\n",
    "gender_debt_for_children['ratio_debt_female'] = data_gender_female\n",
    "gender_debt_for_children['ratio_all_gender'] = children_group_pivot.loc[:, ['result']]\n",
    "\n",
    "# Отсортируем новую таблицу как в предыдущем шаге по среднему количеству задолженности обоих полов.\n",
    "\n",
    "gender_debt_for_children = gender_debt_for_children.sort_values('ratio_all_gender')\n",
    "\n",
    "# Выведем общую таблицу на экран, выделим цветом средние значения по группам\n",
    "\n",
    "gender_debt_for_children \\\n",
    "    .style.format({'ratio_all_gender': '{:.2%}', 'ratio_debt_female': '{:.2%}', 'ratio_debt_male': '{:.2%}'})\\\n",
    "    .background_gradient(cmap='Reds',subset='ratio_all_gender')"
   ]
  },
  {
   "cell_type": "code",
   "execution_count": 36,
   "id": "7af4dbec",
   "metadata": {},
   "outputs": [
    {
     "data": {
      "image/png": "[encoded data removed]",
      "text/plain": [
       "<Figure size 432x288 with 1 Axes>"
      ]
     },
     "metadata": {
      "needs_background": "light"
     },
     "output_type": "display_data"
    }
   ],
   "source": [
    "# Построим диаграмму для наглядного изучения данных\n",
    "\n",
    "gender_debt_for_children[['children', 'ratio_debt_male', 'ratio_debt_female', 'ratio_all_gender']]\\\n",
    "    .plot(x='children', kind='bar', xlabel='Количество детей', ylabel='Доля случаев задолженности')\n",
    "\n",
    "# Добавим заголовок для графика\n",
    "plt.title('Доля задолженности в группах по количеству детей в разрезе пола заемщика')\n",
    "\n",
    "# Изменим наклон цифр-категорий на оси Х.\n",
    "# Ноль - это верикально. 90 - это горизонтально.\n",
    "plt.xticks(rotation=0) \n",
    "\n",
    "#удалим технические записи (<AxesSubplot:...) графика из результата кода\n",
    "plt.show()"
   ]
  },
  {
   "cell_type": "markdown",
   "id": "e4f9b836",
   "metadata": {
    "deletable": false,
    "id": "7fcff25e"
   },
   "source": [
    "Мужчины-заемщики (как бездетные, так и с детьми) чаще допускают задолженности, чем женщины. Особенно явно это видно по группе с 4 детьми, где частота просрочек у мужчин почти в три раза больше. Мужчины вносят основной вклад в рост задолженности в группах бездетных, с 1 и 4 детьми. Женщины немного чаще являются должниками в группах с 2 и 3 детьми."
   ]
  },
  {
   "cell_type": "markdown",
   "id": "2eb9088e",
   "metadata": {
    "deletable": false,
    "id": "2eb9088e"
   },
   "source": [
    "**Вывод:** С ростом количества детей в семье, растет количество задолженностей по кредитам. Мужчины чаще имеют долги в трех из пяти групп, женщины - в двух из пяти. Для страхования риска невозврата кредита возможно будет полезно ввести повышающие коэффициенты. \n",
    "Например, для женщин с 1 ребенком коэффициент 1,02, для мужчин с одним ребенком - 1,025, т.к. они чаще допускают задолженности в этой группе."
   ]
  },
  {
   "cell_type": "markdown",
   "id": "74c9b3a7",
   "metadata": {
    "deletable": false,
    "editable": false,
    "id": "74c9b3a7"
   },
   "source": [
    "#### 3.2 Есть ли зависимость между семейным положением и возвратом кредита в срок?"
   ]
  },
  {
   "cell_type": "code",
   "execution_count": 37,
   "id": "8098ab3b",
   "metadata": {
    "deletable": false,
    "id": "8098ab3b",
    "scrolled": true
   },
   "outputs": [
    {
     "data": {
      "text/html": [
       "<style  type=\"text/css\" >\n",
       "#T_8ffac_row0_col3{\n",
       "            background-color:  #fff5f0;\n",
       "            color:  #000000;\n",
       "        }#T_8ffac_row1_col3{\n",
       "            background-color:  #fedccd;\n",
       "            color:  #000000;\n",
       "        }#T_8ffac_row2_col3{\n",
       "            background-color:  #fcab8f;\n",
       "            color:  #000000;\n",
       "        }#T_8ffac_row3_col3{\n",
       "            background-color:  #aa1016;\n",
       "            color:  #f1f1f1;\n",
       "        }#T_8ffac_row4_col3{\n",
       "            background-color:  #67000d;\n",
       "            color:  #f1f1f1;\n",
       "        }</style><table id=\"T_8ffac_\" ><thead>    <tr>        <th class=\"blank level0\" ></th>        <th class=\"col_heading level0 col0\" >family_status</th>        <th class=\"col_heading level0 col1\" >sum_debt</th>        <th class=\"col_heading level0 col2\" >count_family</th>        <th class=\"col_heading level0 col3\" >result</th>    </tr></thead><tbody>\n",
       "                <tr>\n",
       "                        <th id=\"T_8ffac_level0_row0\" class=\"row_heading level0 row0\" >2</th>\n",
       "                        <td id=\"T_8ffac_row0_col0\" class=\"data row0 col0\" >вдовец / вдова</td>\n",
       "                        <td id=\"T_8ffac_row0_col1\" class=\"data row0 col1\" >63</td>\n",
       "                        <td id=\"T_8ffac_row0_col2\" class=\"data row0 col2\" >951</td>\n",
       "                        <td id=\"T_8ffac_row0_col3\" class=\"data row0 col3\" >6.62%</td>\n",
       "            </tr>\n",
       "            <tr>\n",
       "                        <th id=\"T_8ffac_level0_row1\" class=\"row_heading level0 row1\" >1</th>\n",
       "                        <td id=\"T_8ffac_row1_col0\" class=\"data row1 col0\" >в разводе</td>\n",
       "                        <td id=\"T_8ffac_row1_col1\" class=\"data row1 col1\" >84</td>\n",
       "                        <td id=\"T_8ffac_row1_col2\" class=\"data row1 col2\" >1189</td>\n",
       "                        <td id=\"T_8ffac_row1_col3\" class=\"data row1 col3\" >7.06%</td>\n",
       "            </tr>\n",
       "            <tr>\n",
       "                        <th id=\"T_8ffac_level0_row2\" class=\"row_heading level0 row2\" >4</th>\n",
       "                        <td id=\"T_8ffac_row2_col0\" class=\"data row2 col0\" >женат / замужем</td>\n",
       "                        <td id=\"T_8ffac_row2_col1\" class=\"data row2 col1\" >927</td>\n",
       "                        <td id=\"T_8ffac_row2_col2\" class=\"data row2 col2\" >12261</td>\n",
       "                        <td id=\"T_8ffac_row2_col3\" class=\"data row2 col3\" >7.56%</td>\n",
       "            </tr>\n",
       "            <tr>\n",
       "                        <th id=\"T_8ffac_level0_row3\" class=\"row_heading level0 row3\" >3</th>\n",
       "                        <td id=\"T_8ffac_row3_col0\" class=\"data row3 col0\" >гражданский брак</td>\n",
       "                        <td id=\"T_8ffac_row3_col1\" class=\"data row3 col1\" >385</td>\n",
       "                        <td id=\"T_8ffac_row3_col2\" class=\"data row3 col2\" >4133</td>\n",
       "                        <td id=\"T_8ffac_row3_col3\" class=\"data row3 col3\" >9.32%</td>\n",
       "            </tr>\n",
       "            <tr>\n",
       "                        <th id=\"T_8ffac_level0_row4\" class=\"row_heading level0 row4\" >0</th>\n",
       "                        <td id=\"T_8ffac_row4_col0\" class=\"data row4 col0\" >Не женат / не замужем</td>\n",
       "                        <td id=\"T_8ffac_row4_col1\" class=\"data row4 col1\" >273</td>\n",
       "                        <td id=\"T_8ffac_row4_col2\" class=\"data row4 col2\" >2796</td>\n",
       "                        <td id=\"T_8ffac_row4_col3\" class=\"data row4 col3\" >9.76%</td>\n",
       "            </tr>\n",
       "    </tbody></table>"
      ],
      "text/plain": [
       "<pandas.io.formats.style.Styler at 0x7ff0f0307f70>"
      ]
     },
     "execution_count": 37,
     "metadata": {},
     "output_type": "execute_result"
    }
   ],
   "source": [
    "# Напишем функцию для расчета зависимости между семейным положением и возвратом кредита в срок\n",
    "def task_analysis(data, index):\n",
    "    \n",
    "    # построим сводную таблицу\n",
    "    data_task_pivot = data.pivot_table(index=index, values='debt', aggfunc=['sum', 'count', 'mean']).reset_index()\n",
    "    \n",
    "    # Для удобства переименуем колонки сводной таблицы.\n",
    "    data_task_pivot = data_task_pivot.set_axis([index, 'sum_debt', 'count_family', 'result'], axis='columns')\n",
    "    \n",
    "    # Возвращаем результат, сортируем по возрастанию и выделяем цветом доли задолженности\n",
    "    return data_task_pivot.sort_values('result').style.format({'result': '{:.2%}'}) \\\n",
    "    .background_gradient(cmap='Reds',subset='result')\n",
    "\n",
    "# найдем среднее количество задолженностей по каждому семейному статусу\n",
    "family_status_debt = task_analysis(data, 'family_status')\n",
    "\n",
    "# Выведем таблицу на экран \n",
    "family_status_debt"
   ]
  },
  {
   "cell_type": "markdown",
   "id": "c389ca63",
   "metadata": {
    "deletable": false,
    "id": "c389ca63"
   },
   "source": [
    "**Вывод:** Зависимость между семейным положением и возвратом кредита в срок есть. \n",
    "Меньше всего просрочек по кредитам людей, которые уже не состоят в официальном браке - у вдовцов и людей в разводе.\n",
    "Больше всего задолженностей по кредитам допускают не женатые люди и живущие гражданским браком. \n"
   ]
  },
  {
   "cell_type": "markdown",
   "id": "9529de68",
   "metadata": {
    "deletable": false,
    "editable": false,
    "id": "9529de68"
   },
   "source": [
    "#### 3.3 Есть ли зависимость между уровнем дохода и возвратом кредита в срок?"
   ]
  },
  {
   "cell_type": "code",
   "execution_count": 38,
   "id": "8787f44a",
   "metadata": {
    "deletable": false,
    "id": "8787f44a"
   },
   "outputs": [
    {
     "data": {
      "text/html": [
       "<style  type=\"text/css\" >\n",
       "#T_29fa0_row0_col3{\n",
       "            background-color:  #fff5f0;\n",
       "            color:  #000000;\n",
       "        }#T_29fa0_row1_col3{\n",
       "            background-color:  #fc9e80;\n",
       "            color:  #000000;\n",
       "        }#T_29fa0_row2_col3{\n",
       "            background-color:  #e93529;\n",
       "            color:  #f1f1f1;\n",
       "        }#T_29fa0_row3_col3{\n",
       "            background-color:  #b91419;\n",
       "            color:  #f1f1f1;\n",
       "        }#T_29fa0_row4_col3{\n",
       "            background-color:  #67000d;\n",
       "            color:  #f1f1f1;\n",
       "        }</style><table id=\"T_29fa0_\" ><thead>    <tr>        <th class=\"blank level0\" ></th>        <th class=\"col_heading level0 col0\" >total_income_category</th>        <th class=\"col_heading level0 col1\" >sum_debt</th>        <th class=\"col_heading level0 col2\" >count_family</th>        <th class=\"col_heading level0 col3\" >result</th>    </tr></thead><tbody>\n",
       "                <tr>\n",
       "                        <th id=\"T_29fa0_level0_row0\" class=\"row_heading level0 row0\" >3</th>\n",
       "                        <td id=\"T_29fa0_row0_col0\" class=\"data row0 col0\" >D</td>\n",
       "                        <td id=\"T_29fa0_row0_col1\" class=\"data row0 col1\" >21</td>\n",
       "                        <td id=\"T_29fa0_row0_col2\" class=\"data row0 col2\" >349</td>\n",
       "                        <td id=\"T_29fa0_row0_col3\" class=\"data row0 col3\" >6.02%</td>\n",
       "            </tr>\n",
       "            <tr>\n",
       "                        <th id=\"T_29fa0_level0_row1\" class=\"row_heading level0 row1\" >1</th>\n",
       "                        <td id=\"T_29fa0_row1_col0\" class=\"data row1 col0\" >B</td>\n",
       "                        <td id=\"T_29fa0_row1_col1\" class=\"data row1 col1\" >354</td>\n",
       "                        <td id=\"T_29fa0_row1_col2\" class=\"data row1 col2\" >5013</td>\n",
       "                        <td id=\"T_29fa0_row1_col3\" class=\"data row1 col3\" >7.06%</td>\n",
       "            </tr>\n",
       "            <tr>\n",
       "                        <th id=\"T_29fa0_level0_row2\" class=\"row_heading level0 row2\" >0</th>\n",
       "                        <td id=\"T_29fa0_row2_col0\" class=\"data row2 col0\" >A</td>\n",
       "                        <td id=\"T_29fa0_row2_col1\" class=\"data row2 col1\" >2</td>\n",
       "                        <td id=\"T_29fa0_row2_col2\" class=\"data row2 col2\" >25</td>\n",
       "                        <td id=\"T_29fa0_row2_col3\" class=\"data row2 col3\" >8.00%</td>\n",
       "            </tr>\n",
       "            <tr>\n",
       "                        <th id=\"T_29fa0_level0_row3\" class=\"row_heading level0 row3\" >2</th>\n",
       "                        <td id=\"T_29fa0_row3_col0\" class=\"data row3 col0\" >C</td>\n",
       "                        <td id=\"T_29fa0_row3_col1\" class=\"data row3 col1\" >1353</td>\n",
       "                        <td id=\"T_29fa0_row3_col2\" class=\"data row3 col2\" >15921</td>\n",
       "                        <td id=\"T_29fa0_row3_col3\" class=\"data row3 col3\" >8.50%</td>\n",
       "            </tr>\n",
       "            <tr>\n",
       "                        <th id=\"T_29fa0_level0_row4\" class=\"row_heading level0 row4\" >4</th>\n",
       "                        <td id=\"T_29fa0_row4_col0\" class=\"data row4 col0\" >E</td>\n",
       "                        <td id=\"T_29fa0_row4_col1\" class=\"data row4 col1\" >2</td>\n",
       "                        <td id=\"T_29fa0_row4_col2\" class=\"data row4 col2\" >22</td>\n",
       "                        <td id=\"T_29fa0_row4_col3\" class=\"data row4 col3\" >9.09%</td>\n",
       "            </tr>\n",
       "    </tbody></table>"
      ],
      "text/plain": [
       "<pandas.io.formats.style.Styler at 0x7ff0f03249d0>"
      ]
     },
     "execution_count": 38,
     "metadata": {},
     "output_type": "execute_result"
    }
   ],
   "source": [
    "# найдем среднее количество задолженностей по каждому уровню дохода \n",
    "# 0–30_000 — 'E';\n",
    "# 30_001–50_000 — 'D';\n",
    "# 50_001–200_000 — 'C';\n",
    "# 200_001–1000000 — 'B';\n",
    "# 1_000_001 и выше — 'A'.\n",
    "\n",
    "total_income_debt = task_analysis(data, 'total_income_category')\n",
    "total_income_debt"
   ]
  },
  {
   "cell_type": "markdown",
   "id": "59fd2732",
   "metadata": {},
   "source": [
    "Наименьшая доля задержек по кредитам у категогии \"D\" (30-50 тыс). Это интересный факт. Медианная зарплата в РФ по даным Росстата на 2022г - 40 368 рублей. Получается самыми добросовестными заемщиками явлются люди со средним, медианным доходом.  \n",
    "Самая рискованная группа \"Е\" (доход до 30 000 руб) - доля задолженностей 9,09%. Однако для более точного ответа нужно исследовать более широкую выборку по этой группе (не 22 заемщика, а хотя бы несколько сотен). \n",
    "Я бы рекомендовал обратить внимание на группу \"С\" в ней самое большое количество заемщиков и вторая по величине доля неплатежей. Эта группа охватывает доход от 50 до 200 тыс руб - довольно большой разброс дохода, который может объединять очень разных заемщиков. Возможно внутри категории \"С\" есть подгруппы с разной долей невозврата кредитов.\n",
    "Предлагаем сделать подкатегории дохода в группе \"С\" с шагом 50 тыс руб. В группе \"В\" до дохода 500 тыс руб также предлагаем сделать подкатегории, но с шагом 100 тыс руб.   \n"
   ]
  },
  {
   "cell_type": "code",
   "execution_count": 39,
   "id": "f317dc89",
   "metadata": {},
   "outputs": [],
   "source": [
    "def categorize_total_income_red(income):\n",
    "    try:\n",
    "        if 0 <= income <= 30_000:\n",
    "            return '0-30 тыс'\n",
    "        elif 30_001 <= income <= 50_000:\n",
    "            return '30-50 тыс'\n",
    "        elif 50_001 <= income <= 100_000:\n",
    "            return '50-100 тыс'\n",
    "        elif 100_001 <= income <= 150_000:\n",
    "            return '100-150 тыс'\n",
    "        elif 150_001 <= income <= 200_000:\n",
    "            return '150-200 тыс'\n",
    "        elif 200_001 <= income <= 300_000:\n",
    "            return '200-300 тыс'\n",
    "        elif 300_001 <= income <= 400_000:\n",
    "            return '300-400 тыс'\n",
    "        elif 400_001 <= income <= 500_000:\n",
    "            return '400-500 тыс'\n",
    "        elif 500_001 <= income <= 1_000_000:\n",
    "            return '500-1_000 тыс'\n",
    "        elif 500_001 <= income <= 1_000_000:\n",
    "            return '500-1_000 тыс'\n",
    "        elif income >= 1000001:\n",
    "            return 'Более 1_000 тыс '\n",
    "    except:\n",
    "        pass\n"
   ]
  },
  {
   "cell_type": "code",
   "execution_count": 40,
   "id": "045c155c",
   "metadata": {},
   "outputs": [
    {
     "data": {
      "text/html": [
       "<div>\n",
       "<style scoped>\n",
       "    .dataframe tbody tr th:only-of-type {\n",
       "        vertical-align: middle;\n",
       "    }\n",
       "\n",
       "    .dataframe tbody tr th {\n",
       "        vertical-align: top;\n",
       "    }\n",
       "\n",
       "    .dataframe thead th {\n",
       "        text-align: right;\n",
       "    }\n",
       "</style>\n",
       "<table border=\"1\" class=\"dataframe\">\n",
       "  <thead>\n",
       "    <tr style=\"text-align: right;\">\n",
       "      <th></th>\n",
       "      <th>children</th>\n",
       "      <th>days_employed</th>\n",
       "      <th>dob_years</th>\n",
       "      <th>education</th>\n",
       "      <th>education_id</th>\n",
       "      <th>family_status</th>\n",
       "      <th>family_status_id</th>\n",
       "      <th>gender</th>\n",
       "      <th>income_type</th>\n",
       "      <th>debt</th>\n",
       "      <th>total_income</th>\n",
       "      <th>purpose</th>\n",
       "      <th>total_income_category</th>\n",
       "      <th>purpose_category</th>\n",
       "      <th>total_income_category_red</th>\n",
       "    </tr>\n",
       "  </thead>\n",
       "  <tbody>\n",
       "    <tr>\n",
       "      <th>0</th>\n",
       "      <td>1</td>\n",
       "      <td>8437.673028</td>\n",
       "      <td>42</td>\n",
       "      <td>высшее</td>\n",
       "      <td>0</td>\n",
       "      <td>женат / замужем</td>\n",
       "      <td>0</td>\n",
       "      <td>F</td>\n",
       "      <td>сотрудник</td>\n",
       "      <td>0</td>\n",
       "      <td>253875</td>\n",
       "      <td>покупка жилья</td>\n",
       "      <td>B</td>\n",
       "      <td>операции с недвижимостью</td>\n",
       "      <td>200-300 тыс</td>\n",
       "    </tr>\n",
       "    <tr>\n",
       "      <th>1</th>\n",
       "      <td>1</td>\n",
       "      <td>4024.803754</td>\n",
       "      <td>36</td>\n",
       "      <td>среднее</td>\n",
       "      <td>1</td>\n",
       "      <td>женат / замужем</td>\n",
       "      <td>0</td>\n",
       "      <td>F</td>\n",
       "      <td>сотрудник</td>\n",
       "      <td>0</td>\n",
       "      <td>112080</td>\n",
       "      <td>приобретение автомобиля</td>\n",
       "      <td>C</td>\n",
       "      <td>операции с автомобилем</td>\n",
       "      <td>100-150 тыс</td>\n",
       "    </tr>\n",
       "    <tr>\n",
       "      <th>2</th>\n",
       "      <td>0</td>\n",
       "      <td>5623.422610</td>\n",
       "      <td>33</td>\n",
       "      <td>среднее</td>\n",
       "      <td>1</td>\n",
       "      <td>женат / замужем</td>\n",
       "      <td>0</td>\n",
       "      <td>M</td>\n",
       "      <td>сотрудник</td>\n",
       "      <td>0</td>\n",
       "      <td>145885</td>\n",
       "      <td>покупка жилья</td>\n",
       "      <td>C</td>\n",
       "      <td>операции с недвижимостью</td>\n",
       "      <td>100-150 тыс</td>\n",
       "    </tr>\n",
       "    <tr>\n",
       "      <th>3</th>\n",
       "      <td>3</td>\n",
       "      <td>4124.747207</td>\n",
       "      <td>32</td>\n",
       "      <td>среднее</td>\n",
       "      <td>1</td>\n",
       "      <td>женат / замужем</td>\n",
       "      <td>0</td>\n",
       "      <td>M</td>\n",
       "      <td>сотрудник</td>\n",
       "      <td>0</td>\n",
       "      <td>267628</td>\n",
       "      <td>дополнительное образование</td>\n",
       "      <td>B</td>\n",
       "      <td>получение образования</td>\n",
       "      <td>200-300 тыс</td>\n",
       "    </tr>\n",
       "    <tr>\n",
       "      <th>4</th>\n",
       "      <td>0</td>\n",
       "      <td>340266.072047</td>\n",
       "      <td>53</td>\n",
       "      <td>среднее</td>\n",
       "      <td>1</td>\n",
       "      <td>гражданский брак</td>\n",
       "      <td>1</td>\n",
       "      <td>F</td>\n",
       "      <td>пенсионер</td>\n",
       "      <td>0</td>\n",
       "      <td>158616</td>\n",
       "      <td>сыграть свадьбу</td>\n",
       "      <td>C</td>\n",
       "      <td>проведение свадьбы</td>\n",
       "      <td>150-200 тыс</td>\n",
       "    </tr>\n",
       "  </tbody>\n",
       "</table>\n",
       "</div>"
      ],
      "text/plain": [
       "   children  days_employed  dob_years education  education_id  \\\n",
       "0         1    8437.673028         42    высшее             0   \n",
       "1         1    4024.803754         36   среднее             1   \n",
       "2         0    5623.422610         33   среднее             1   \n",
       "3         3    4124.747207         32   среднее             1   \n",
       "4         0  340266.072047         53   среднее             1   \n",
       "\n",
       "      family_status  family_status_id gender income_type  debt  total_income  \\\n",
       "0   женат / замужем                 0      F   сотрудник     0        253875   \n",
       "1   женат / замужем                 0      F   сотрудник     0        112080   \n",
       "2   женат / замужем                 0      M   сотрудник     0        145885   \n",
       "3   женат / замужем                 0      M   сотрудник     0        267628   \n",
       "4  гражданский брак                 1      F   пенсионер     0        158616   \n",
       "\n",
       "                      purpose total_income_category          purpose_category  \\\n",
       "0               покупка жилья                     B  операции с недвижимостью   \n",
       "1     приобретение автомобиля                     C    операции с автомобилем   \n",
       "2               покупка жилья                     C  операции с недвижимостью   \n",
       "3  дополнительное образование                     B     получение образования   \n",
       "4             сыграть свадьбу                     C        проведение свадьбы   \n",
       "\n",
       "  total_income_category_red  \n",
       "0               200-300 тыс  \n",
       "1               100-150 тыс  \n",
       "2               100-150 тыс  \n",
       "3               200-300 тыс  \n",
       "4               150-200 тыс  "
      ]
     },
     "execution_count": 40,
     "metadata": {},
     "output_type": "execute_result"
    }
   ],
   "source": [
    "# добавим в исходную таблицу колонку с новыми категориями дохода\n",
    "# выведем на экран первые 5 строк для проверки добавления категорий\n",
    "\n",
    "data['total_income_category_red'] = data['total_income'].apply(categorize_total_income_red)\n",
    "data.head(5)"
   ]
  },
  {
   "cell_type": "code",
   "execution_count": 41,
   "id": "6f44c0fd",
   "metadata": {},
   "outputs": [
    {
     "data": {
      "text/html": [
       "<style  type=\"text/css\" >\n",
       "#T_c494b_row0_col3{\n",
       "            background-color:  #fff5f0;\n",
       "            color:  #000000;\n",
       "        }#T_c494b_row1_col3{\n",
       "            background-color:  #fedfd0;\n",
       "            color:  #000000;\n",
       "        }#T_c494b_row2_col3{\n",
       "            background-color:  #fed9c9;\n",
       "            color:  #000000;\n",
       "        }#T_c494b_row3_col3{\n",
       "            background-color:  #fc8666;\n",
       "            color:  #000000;\n",
       "        }#T_c494b_row4_col3{\n",
       "            background-color:  #e22e27;\n",
       "            color:  #f1f1f1;\n",
       "        }#T_c494b_row5_col3{\n",
       "            background-color:  #db2824;\n",
       "            color:  #f1f1f1;\n",
       "        }#T_c494b_row6_col3{\n",
       "            background-color:  #d11e1f;\n",
       "            color:  #f1f1f1;\n",
       "        }#T_c494b_row7_col3{\n",
       "            background-color:  #b11218;\n",
       "            color:  #f1f1f1;\n",
       "        }#T_c494b_row8_col3{\n",
       "            background-color:  #9c0d14;\n",
       "            color:  #f1f1f1;\n",
       "        }#T_c494b_row9_col3{\n",
       "            background-color:  #67000d;\n",
       "            color:  #f1f1f1;\n",
       "        }</style><table id=\"T_c494b_\" ><thead>    <tr>        <th class=\"blank level0\" ></th>        <th class=\"col_heading level0 col0\" >total_income_category_red</th>        <th class=\"col_heading level0 col1\" >sum_debt</th>        <th class=\"col_heading level0 col2\" >count_family</th>        <th class=\"col_heading level0 col3\" >result</th>    </tr></thead><tbody>\n",
       "                <tr>\n",
       "                        <th id=\"T_c494b_level0_row0\" class=\"row_heading level0 row0\" >6</th>\n",
       "                        <td id=\"T_c494b_row0_col0\" class=\"data row0 col0\" >400-500 тыс</td>\n",
       "                        <td id=\"T_c494b_row0_col1\" class=\"data row0 col1\" >17</td>\n",
       "                        <td id=\"T_c494b_row0_col2\" class=\"data row0 col2\" >306</td>\n",
       "                        <td id=\"T_c494b_row0_col3\" class=\"data row0 col3\" >5.56%</td>\n",
       "            </tr>\n",
       "            <tr>\n",
       "                        <th id=\"T_c494b_level0_row1\" class=\"row_heading level0 row1\" >4</th>\n",
       "                        <td id=\"T_c494b_row1_col0\" class=\"data row1 col0\" >30-50 тыс</td>\n",
       "                        <td id=\"T_c494b_row1_col1\" class=\"data row1 col1\" >21</td>\n",
       "                        <td id=\"T_c494b_row1_col2\" class=\"data row1 col2\" >349</td>\n",
       "                        <td id=\"T_c494b_row1_col3\" class=\"data row1 col3\" >6.02%</td>\n",
       "            </tr>\n",
       "            <tr>\n",
       "                        <th id=\"T_c494b_level0_row2\" class=\"row_heading level0 row2\" >8</th>\n",
       "                        <td id=\"T_c494b_row2_col0\" class=\"data row2 col0\" >500-1_000 тыс</td>\n",
       "                        <td id=\"T_c494b_row2_col1\" class=\"data row2 col1\" >12</td>\n",
       "                        <td id=\"T_c494b_row2_col2\" class=\"data row2 col2\" >197</td>\n",
       "                        <td id=\"T_c494b_row2_col3\" class=\"data row2 col3\" >6.09%</td>\n",
       "            </tr>\n",
       "            <tr>\n",
       "                        <th id=\"T_c494b_level0_row3\" class=\"row_heading level0 row3\" >3</th>\n",
       "                        <td id=\"T_c494b_row3_col0\" class=\"data row3 col0\" >200-300 тыс</td>\n",
       "                        <td id=\"T_c494b_row3_col1\" class=\"data row3 col1\" >250</td>\n",
       "                        <td id=\"T_c494b_row3_col2\" class=\"data row3 col2\" >3564</td>\n",
       "                        <td id=\"T_c494b_row3_col3\" class=\"data row3 col3\" >7.01%</td>\n",
       "            </tr>\n",
       "            <tr>\n",
       "                        <th id=\"T_c494b_level0_row4\" class=\"row_heading level0 row4\" >5</th>\n",
       "                        <td id=\"T_c494b_row4_col0\" class=\"data row4 col0\" >300-400 тыс</td>\n",
       "                        <td id=\"T_c494b_row4_col1\" class=\"data row4 col1\" >75</td>\n",
       "                        <td id=\"T_c494b_row4_col2\" class=\"data row4 col2\" >946</td>\n",
       "                        <td id=\"T_c494b_row4_col3\" class=\"data row4 col3\" >7.93%</td>\n",
       "            </tr>\n",
       "            <tr>\n",
       "                        <th id=\"T_c494b_level0_row5\" class=\"row_heading level0 row5\" >9</th>\n",
       "                        <td id=\"T_c494b_row5_col0\" class=\"data row5 col0\" >Более 1_000 тыс </td>\n",
       "                        <td id=\"T_c494b_row5_col1\" class=\"data row5 col1\" >2</td>\n",
       "                        <td id=\"T_c494b_row5_col2\" class=\"data row5 col2\" >25</td>\n",
       "                        <td id=\"T_c494b_row5_col3\" class=\"data row5 col3\" >8.00%</td>\n",
       "            </tr>\n",
       "            <tr>\n",
       "                        <th id=\"T_c494b_level0_row6\" class=\"row_heading level0 row6\" >7</th>\n",
       "                        <td id=\"T_c494b_row6_col0\" class=\"data row6 col0\" >50-100 тыс</td>\n",
       "                        <td id=\"T_c494b_row6_col1\" class=\"data row6 col1\" >331</td>\n",
       "                        <td id=\"T_c494b_row6_col2\" class=\"data row6 col2\" >4073</td>\n",
       "                        <td id=\"T_c494b_row6_col3\" class=\"data row6 col3\" >8.13%</td>\n",
       "            </tr>\n",
       "            <tr>\n",
       "                        <th id=\"T_c494b_level0_row7\" class=\"row_heading level0 row7\" >2</th>\n",
       "                        <td id=\"T_c494b_row7_col0\" class=\"data row7 col0\" >150-200 тыс</td>\n",
       "                        <td id=\"T_c494b_row7_col1\" class=\"data row7 col1\" >403</td>\n",
       "                        <td id=\"T_c494b_row7_col2\" class=\"data row7 col2\" >4738</td>\n",
       "                        <td id=\"T_c494b_row7_col3\" class=\"data row7 col3\" >8.51%</td>\n",
       "            </tr>\n",
       "            <tr>\n",
       "                        <th id=\"T_c494b_level0_row8\" class=\"row_heading level0 row8\" >1</th>\n",
       "                        <td id=\"T_c494b_row8_col0\" class=\"data row8 col0\" >100-150 тыс</td>\n",
       "                        <td id=\"T_c494b_row8_col1\" class=\"data row8 col1\" >619</td>\n",
       "                        <td id=\"T_c494b_row8_col2\" class=\"data row8 col2\" >7110</td>\n",
       "                        <td id=\"T_c494b_row8_col3\" class=\"data row8 col3\" >8.71%</td>\n",
       "            </tr>\n",
       "            <tr>\n",
       "                        <th id=\"T_c494b_level0_row9\" class=\"row_heading level0 row9\" >0</th>\n",
       "                        <td id=\"T_c494b_row9_col0\" class=\"data row9 col0\" >0-30 тыс</td>\n",
       "                        <td id=\"T_c494b_row9_col1\" class=\"data row9 col1\" >2</td>\n",
       "                        <td id=\"T_c494b_row9_col2\" class=\"data row9 col2\" >22</td>\n",
       "                        <td id=\"T_c494b_row9_col3\" class=\"data row9 col3\" >9.09%</td>\n",
       "            </tr>\n",
       "    </tbody></table>"
      ],
      "text/plain": [
       "<pandas.io.formats.style.Styler at 0x7ff0f8488a60>"
      ]
     },
     "execution_count": 41,
     "metadata": {},
     "output_type": "execute_result"
    }
   ],
   "source": [
    "# сформируем новую сводную таблицу по доходу\n",
    "total_income_debt = task_analysis(data, 'total_income_category_red')\n",
    "total_income_debt"
   ]
  },
  {
   "cell_type": "markdown",
   "id": "6dd14b57",
   "metadata": {
    "deletable": false,
    "id": "6dd14b57"
   },
   "source": [
    "**Вывод:** Наша гипотеза про категорию \"С\" не подтвердилась. Мы не выявили в ней подгрупп, которые показывают себя сильно лучше других подкатегорий группы. Подгруппы \"50-100 тыс\", \"100-150 тыс\" и 150-200 тыс\" крутятся вокруг 8% доли заложенности по кредитам. \n",
    "Выделяется подгрупа с доходом 400-500 тыс, как самая финансово дисциплинированная. Вероятно их доход позволяет им гасить кредиты вовремя и это не сказывается на их уровне жизни.\n",
    "Связь дохода с невозвратом кредита есть. Чем меньше доход, тем выше доля задолженности (доход от 0 до 30 тыс руб - 9,9% задолженности)."
   ]
  },
  {
   "cell_type": "markdown",
   "id": "1dcc9b12",
   "metadata": {
    "deletable": false,
    "editable": false,
    "id": "1dcc9b12"
   },
   "source": [
    "#### 3.4 Как разные цели кредита влияют на его возврат в срок?"
   ]
  },
  {
   "cell_type": "code",
   "execution_count": 42,
   "id": "c602bc8b",
   "metadata": {
    "deletable": false,
    "id": "c602bc8b"
   },
   "outputs": [
    {
     "data": {
      "text/html": [
       "<style  type=\"text/css\" >\n",
       "#T_2151b_row0_col3{\n",
       "            background-color:  #fff5f0;\n",
       "            color:  #000000;\n",
       "        }#T_2151b_row1_col3{\n",
       "            background-color:  #fca689;\n",
       "            color:  #000000;\n",
       "        }#T_2151b_row2_col3{\n",
       "            background-color:  #7c0510;\n",
       "            color:  #f1f1f1;\n",
       "        }#T_2151b_row3_col3{\n",
       "            background-color:  #67000d;\n",
       "            color:  #f1f1f1;\n",
       "        }</style><table id=\"T_2151b_\" ><thead>    <tr>        <th class=\"blank level0\" ></th>        <th class=\"col_heading level0 col0\" >purpose_category</th>        <th class=\"col_heading level0 col1\" >sum_debt</th>        <th class=\"col_heading level0 col2\" >count_family</th>        <th class=\"col_heading level0 col3\" >result</th>    </tr></thead><tbody>\n",
       "                <tr>\n",
       "                        <th id=\"T_2151b_level0_row0\" class=\"row_heading level0 row0\" >1</th>\n",
       "                        <td id=\"T_2151b_row0_col0\" class=\"data row0 col0\" >операции с недвижимостью</td>\n",
       "                        <td id=\"T_2151b_row0_col1\" class=\"data row0 col1\" >780</td>\n",
       "                        <td id=\"T_2151b_row0_col2\" class=\"data row0 col2\" >10750</td>\n",
       "                        <td id=\"T_2151b_row0_col3\" class=\"data row0 col3\" >7.26%</td>\n",
       "            </tr>\n",
       "            <tr>\n",
       "                        <th id=\"T_2151b_level0_row1\" class=\"row_heading level0 row1\" >3</th>\n",
       "                        <td id=\"T_2151b_row1_col0\" class=\"data row1 col0\" >проведение свадьбы</td>\n",
       "                        <td id=\"T_2151b_row1_col1\" class=\"data row1 col1\" >183</td>\n",
       "                        <td id=\"T_2151b_row1_col2\" class=\"data row1 col2\" >2313</td>\n",
       "                        <td id=\"T_2151b_row1_col3\" class=\"data row1 col3\" >7.91%</td>\n",
       "            </tr>\n",
       "            <tr>\n",
       "                        <th id=\"T_2151b_level0_row2\" class=\"row_heading level0 row2\" >2</th>\n",
       "                        <td id=\"T_2151b_row2_col0\" class=\"data row2 col0\" >получение образования</td>\n",
       "                        <td id=\"T_2151b_row2_col1\" class=\"data row2 col1\" >369</td>\n",
       "                        <td id=\"T_2151b_row2_col2\" class=\"data row2 col2\" >3988</td>\n",
       "                        <td id=\"T_2151b_row2_col3\" class=\"data row2 col3\" >9.25%</td>\n",
       "            </tr>\n",
       "            <tr>\n",
       "                        <th id=\"T_2151b_level0_row3\" class=\"row_heading level0 row3\" >0</th>\n",
       "                        <td id=\"T_2151b_row3_col0\" class=\"data row3 col0\" >операции с автомобилем</td>\n",
       "                        <td id=\"T_2151b_row3_col1\" class=\"data row3 col1\" >400</td>\n",
       "                        <td id=\"T_2151b_row3_col2\" class=\"data row3 col2\" >4279</td>\n",
       "                        <td id=\"T_2151b_row3_col3\" class=\"data row3 col3\" >9.35%</td>\n",
       "            </tr>\n",
       "    </tbody></table>"
      ],
      "text/plain": [
       "<pandas.io.formats.style.Styler at 0x7ff14bff5580>"
      ]
     },
     "execution_count": 42,
     "metadata": {},
     "output_type": "execute_result"
    }
   ],
   "source": [
    "# найдем среднее количество задолженностей по каждой цели кредита \n",
    "\n",
    "purpose_category_debt = task_analysis(data, 'purpose_category')\n",
    "purpose_category_debt"
   ]
  },
  {
   "cell_type": "markdown",
   "id": "cf05ed63",
   "metadata": {
    "deletable": false,
    "id": "cf05ed63"
   },
   "source": [
    "**Вывод:** Связь между целью кредита и его возвратом вижу следующую.\n",
    "Чем менее капитальные (\"жизненноважные\") цели, такие как покупка недвижимости, вызывают наибольшую ответственность заемщика. Доля задолженностей при \"операциях с недвижимостью\" наименьшая.\n",
    "\n",
    "Наибольшая и примерно равная доля задолженности видна в автокредитах и кредитах на образование. \n",
    "Можно предположить, что при покупке автомобиля заемщики плохо оценивают расходы на владение им (бензин, обсдуживание, ремонт), поэтому ощущают нехватку денег и не могут гасить кредит вовремя. \n",
    "В образовательных кредитах причиной задолженностей может быть низкий доход молодых людей, если они брали займ на обучение."
   ]
  },
  {
   "cell_type": "markdown",
   "id": "46c1f10b",
   "metadata": {
    "deletable": false,
    "editable": false,
    "id": "46c1f10b"
   },
   "source": [
    "#### 3.5 Приведите возможные причины появления пропусков в исходных данных."
   ]
  },
  {
   "cell_type": "markdown",
   "id": "3697d2a9",
   "metadata": {
    "deletable": false,
    "id": "3697d2a9"
   },
   "source": [
    "*Ответ:* Причин две:\n",
    "\n",
    "а) Технологические. Возникают при копировании, считывании или записи данных, либо при изменении формата файла.\n",
    "\n",
    "б) Человеческий фактор: опечатки при заполнении форм или баз данных, намеренные пропуски, случайные искажения данных (например, человек не переключил раскладку клавиатуры)."
   ]
  },
  {
   "cell_type": "markdown",
   "id": "3137d257",
   "metadata": {
    "deletable": false,
    "editable": false,
    "id": "3137d257"
   },
   "source": [
    "#### 3.6 Объясните, почему заполнить пропуски медианным значением — лучшее решение для количественных переменных."
   ]
  },
  {
   "cell_type": "markdown",
   "id": "cf40012a",
   "metadata": {
    "deletable": false,
    "id": "cf40012a"
   },
   "source": [
    "*Ответ:* Пропуски в количественных переменных нужно заполнять типичными значениями, которые характеризуют состояние выборки. Характерными значениями являются среднее арифметическое и медиана. Медиана хороша тем, что она ближе к истинному среднему, позоляет нивелировать сильные числовые всплески в выборке."
   ]
  },
  {
   "cell_type": "markdown",
   "id": "57bc304e",
   "metadata": {
    "deletable": false,
    "editable": false,
    "id": "57bc304e"
   },
   "source": [
    "### Шаг 4: общий вывод."
   ]
  },
  {
   "cell_type": "markdown",
   "id": "1ab75d1c",
   "metadata": {
    "deletable": false,
    "id": "1ab75d1c"
   },
   "source": [
    "На возвращаемость кредита в той или иной степени влияют все четыре показателя: цель кредита, уровень дохода заемщика, семейное положение и количество детей.\n",
    "Рекомендую обратить внимание на: \n",
    "1) Количество детей у заемщиков, особенно мужчин - чем больше детей в семье, тем выше риск просрочки платежей. \n",
    "2) Земейное положение клиента - неженатые заемщики илисостоящие в гражданском браке, чаще других допускают задолженности.\n",
    "3) Заемщиков с низким доходом. Меньше денег на жизнь - больше доля просрочек.\n",
    "4) Авто- и образовательные кредиты. У них наибольшая доля задолженностей среди исследованных целей кредита."
   ]
  },
  {
   "cell_type": "markdown",
   "id": "ffe86f65",
   "metadata": {
    "deletable": false,
    "editable": false,
    "id": "ffe86f65"
   },
   "source": [
    "Во второй части проекта вы выполните шаги 3 и 4. Их вручную проверит ревьюер.\n",
    "Чтобы вам не пришлось писать код заново для шагов 1 и 2, мы добавили авторские решения в ячейки с кодом. \n",
    "\n"
   ]
  }
 ],
 "metadata": {
  "ExecuteTimeLog": [
   {
    "duration": 454,
    "start_time": "2023-12-14T23:26:10.094Z"
   },
   {
    "duration": 20,
    "start_time": "2023-12-14T23:26:10.550Z"
   },
   {
    "duration": 14,
    "start_time": "2023-12-14T23:26:10.571Z"
   },
   {
    "duration": 9,
    "start_time": "2023-12-14T23:26:10.586Z"
   },
   {
    "duration": 32,
    "start_time": "2023-12-14T23:26:10.596Z"
   },
   {
    "duration": 3,
    "start_time": "2023-12-14T23:26:10.629Z"
   },
   {
    "duration": 32,
    "start_time": "2023-12-14T23:26:10.633Z"
   },
   {
    "duration": 4,
    "start_time": "2023-12-14T23:26:10.667Z"
   },
   {
    "duration": 7,
    "start_time": "2023-12-14T23:26:10.672Z"
   },
   {
    "duration": 6,
    "start_time": "2023-12-14T23:26:10.682Z"
   },
   {
    "duration": 34,
    "start_time": "2023-12-14T23:26:10.689Z"
   },
   {
    "duration": 9,
    "start_time": "2023-12-14T23:26:10.725Z"
   },
   {
    "duration": 4,
    "start_time": "2023-12-14T23:26:10.735Z"
   },
   {
    "duration": 31,
    "start_time": "2023-12-14T23:26:10.740Z"
   },
   {
    "duration": 18,
    "start_time": "2023-12-14T23:26:10.772Z"
   },
   {
    "duration": 16,
    "start_time": "2023-12-14T23:26:10.791Z"
   },
   {
    "duration": 3,
    "start_time": "2023-12-14T23:26:10.808Z"
   },
   {
    "duration": 13,
    "start_time": "2023-12-14T23:26:10.812Z"
   },
   {
    "duration": 18,
    "start_time": "2023-12-14T23:26:10.826Z"
   },
   {
    "duration": 21,
    "start_time": "2023-12-14T23:26:10.845Z"
   },
   {
    "duration": 11,
    "start_time": "2023-12-14T23:26:10.867Z"
   },
   {
    "duration": 7,
    "start_time": "2023-12-14T23:26:10.880Z"
   },
   {
    "duration": 8,
    "start_time": "2023-12-14T23:26:10.888Z"
   },
   {
    "duration": 17,
    "start_time": "2023-12-14T23:26:10.897Z"
   },
   {
    "duration": 50,
    "start_time": "2023-12-14T23:26:10.915Z"
   },
   {
    "duration": 8,
    "start_time": "2023-12-14T23:26:10.967Z"
   },
   {
    "duration": 15,
    "start_time": "2023-12-14T23:26:10.976Z"
   },
   {
    "duration": 13,
    "start_time": "2023-12-14T23:26:10.995Z"
   },
   {
    "duration": 5,
    "start_time": "2023-12-14T23:26:11.010Z"
   },
   {
    "duration": 5,
    "start_time": "2023-12-14T23:26:11.016Z"
   },
   {
    "duration": 7,
    "start_time": "2023-12-14T23:26:11.022Z"
   },
   {
    "duration": 375,
    "start_time": "2023-12-14T23:26:11.030Z"
   },
   {
    "duration": 11,
    "start_time": "2023-12-14T23:26:11.406Z"
   },
   {
    "duration": 65,
    "start_time": "2023-12-14T23:26:11.419Z"
   },
   {
    "duration": 168,
    "start_time": "2023-12-14T23:26:11.485Z"
   },
   {
    "duration": 37,
    "start_time": "2023-12-14T23:26:11.655Z"
   },
   {
    "duration": 27,
    "start_time": "2023-12-14T23:26:11.694Z"
   },
   {
    "duration": 4,
    "start_time": "2023-12-14T23:26:11.722Z"
   },
   {
    "duration": 67,
    "start_time": "2023-12-14T23:26:11.727Z"
   },
   {
    "duration": 39,
    "start_time": "2023-12-14T23:26:11.795Z"
   },
   {
    "duration": 28,
    "start_time": "2023-12-14T23:26:11.836Z"
   },
   {
    "duration": 700,
    "start_time": "2023-12-15T08:26:56.627Z"
   },
   {
    "duration": 20,
    "start_time": "2023-12-15T08:26:57.329Z"
   },
   {
    "duration": 23,
    "start_time": "2023-12-15T08:26:57.351Z"
   },
   {
    "duration": 10,
    "start_time": "2023-12-15T08:26:57.376Z"
   },
   {
    "duration": 45,
    "start_time": "2023-12-15T08:26:57.387Z"
   },
   {
    "duration": 3,
    "start_time": "2023-12-15T08:26:57.434Z"
   },
   {
    "duration": 13,
    "start_time": "2023-12-15T08:26:57.442Z"
   },
   {
    "duration": 6,
    "start_time": "2023-12-15T08:26:57.457Z"
   },
   {
    "duration": 8,
    "start_time": "2023-12-15T08:26:57.464Z"
   },
   {
    "duration": 4,
    "start_time": "2023-12-15T08:26:57.474Z"
   },
   {
    "duration": 52,
    "start_time": "2023-12-15T08:26:57.479Z"
   },
   {
    "duration": 11,
    "start_time": "2023-12-15T08:26:57.532Z"
   },
   {
    "duration": 23,
    "start_time": "2023-12-15T08:26:57.544Z"
   },
   {
    "duration": 13,
    "start_time": "2023-12-15T08:26:57.568Z"
   },
   {
    "duration": 32,
    "start_time": "2023-12-15T08:26:57.582Z"
   },
   {
    "duration": 17,
    "start_time": "2023-12-15T08:26:57.616Z"
   },
   {
    "duration": 4,
    "start_time": "2023-12-15T08:26:57.634Z"
   },
   {
    "duration": 19,
    "start_time": "2023-12-15T08:26:57.639Z"
   },
   {
    "duration": 9,
    "start_time": "2023-12-15T08:26:57.659Z"
   },
   {
    "duration": 7,
    "start_time": "2023-12-15T08:26:57.669Z"
   },
   {
    "duration": 15,
    "start_time": "2023-12-15T08:26:57.678Z"
   },
   {
    "duration": 6,
    "start_time": "2023-12-15T08:26:57.694Z"
   },
   {
    "duration": 22,
    "start_time": "2023-12-15T08:26:57.702Z"
   },
   {
    "duration": 18,
    "start_time": "2023-12-15T08:26:57.726Z"
   },
   {
    "duration": 21,
    "start_time": "2023-12-15T08:26:57.746Z"
   },
   {
    "duration": 8,
    "start_time": "2023-12-15T08:26:57.768Z"
   },
   {
    "duration": 21,
    "start_time": "2023-12-15T08:26:57.777Z"
   },
   {
    "duration": 7,
    "start_time": "2023-12-15T08:26:57.801Z"
   },
   {
    "duration": 28,
    "start_time": "2023-12-15T08:26:57.810Z"
   },
   {
    "duration": 12,
    "start_time": "2023-12-15T08:26:57.840Z"
   },
   {
    "duration": 13,
    "start_time": "2023-12-15T08:26:57.854Z"
   },
   {
    "duration": 532,
    "start_time": "2023-12-15T08:26:57.869Z"
   },
   {
    "duration": 12,
    "start_time": "2023-12-15T08:26:58.403Z"
   },
   {
    "duration": 80,
    "start_time": "2023-12-15T08:26:58.417Z"
   },
   {
    "duration": 179,
    "start_time": "2023-12-15T08:26:58.499Z"
   },
   {
    "duration": 96,
    "start_time": "2023-12-15T08:26:58.681Z"
   },
   {
    "duration": 31,
    "start_time": "2023-12-15T08:26:58.779Z"
   },
   {
    "duration": 5,
    "start_time": "2023-12-15T08:26:58.812Z"
   },
   {
    "duration": 40,
    "start_time": "2023-12-15T08:26:58.819Z"
   },
   {
    "duration": 38,
    "start_time": "2023-12-15T08:26:58.861Z"
   },
   {
    "duration": 62,
    "start_time": "2023-12-15T08:26:58.901Z"
   },
   {
    "duration": 50,
    "start_time": "2023-12-15T20:49:09.693Z"
   },
   {
    "duration": 522,
    "start_time": "2023-12-15T20:49:15.784Z"
   },
   {
    "duration": 23,
    "start_time": "2023-12-15T20:49:16.308Z"
   },
   {
    "duration": 21,
    "start_time": "2023-12-15T20:49:16.333Z"
   },
   {
    "duration": 37,
    "start_time": "2023-12-15T20:49:16.357Z"
   },
   {
    "duration": 41,
    "start_time": "2023-12-15T20:49:16.396Z"
   },
   {
    "duration": 3,
    "start_time": "2023-12-15T20:49:16.439Z"
   },
   {
    "duration": 38,
    "start_time": "2023-12-15T20:49:16.444Z"
   },
   {
    "duration": 13,
    "start_time": "2023-12-15T20:49:16.484Z"
   },
   {
    "duration": 29,
    "start_time": "2023-12-15T20:49:16.499Z"
   },
   {
    "duration": 10,
    "start_time": "2023-12-15T20:49:16.531Z"
   },
   {
    "duration": 62,
    "start_time": "2023-12-15T20:49:16.543Z"
   },
   {
    "duration": 10,
    "start_time": "2023-12-15T20:49:16.606Z"
   },
   {
    "duration": 9,
    "start_time": "2023-12-15T20:49:16.618Z"
   },
   {
    "duration": 48,
    "start_time": "2023-12-15T20:49:16.628Z"
   },
   {
    "duration": 61,
    "start_time": "2023-12-15T20:49:16.678Z"
   },
   {
    "duration": 16,
    "start_time": "2023-12-15T20:49:16.741Z"
   },
   {
    "duration": 17,
    "start_time": "2023-12-15T20:49:16.759Z"
   },
   {
    "duration": 25,
    "start_time": "2023-12-15T20:49:16.778Z"
   },
   {
    "duration": 5,
    "start_time": "2023-12-15T20:49:16.805Z"
   },
   {
    "duration": 24,
    "start_time": "2023-12-15T20:49:16.812Z"
   },
   {
    "duration": 15,
    "start_time": "2023-12-15T20:49:16.837Z"
   },
   {
    "duration": 9,
    "start_time": "2023-12-15T20:49:16.853Z"
   },
   {
    "duration": 16,
    "start_time": "2023-12-15T20:49:16.864Z"
   },
   {
    "duration": 25,
    "start_time": "2023-12-15T20:49:16.881Z"
   },
   {
    "duration": 20,
    "start_time": "2023-12-15T20:49:16.908Z"
   },
   {
    "duration": 7,
    "start_time": "2023-12-15T20:49:16.929Z"
   },
   {
    "duration": 10,
    "start_time": "2023-12-15T20:49:16.938Z"
   },
   {
    "duration": 17,
    "start_time": "2023-12-15T20:49:16.952Z"
   },
   {
    "duration": 18,
    "start_time": "2023-12-15T20:49:16.970Z"
   },
   {
    "duration": 294,
    "start_time": "2023-12-15T20:49:16.989Z"
   },
   {
    "duration": 2,
    "start_time": "2023-12-15T20:49:17.285Z"
   },
   {
    "duration": 21,
    "start_time": "2023-12-15T20:49:17.289Z"
   },
   {
    "duration": 181,
    "start_time": "2023-12-15T20:49:17.312Z"
   },
   {
    "duration": 14,
    "start_time": "2023-12-15T20:49:17.495Z"
   },
   {
    "duration": 34,
    "start_time": "2023-12-15T20:49:17.510Z"
   },
   {
    "duration": 201,
    "start_time": "2023-12-15T20:49:17.545Z"
   },
   {
    "duration": 34,
    "start_time": "2023-12-15T20:49:17.748Z"
   },
   {
    "duration": 85,
    "start_time": "2023-12-15T20:49:17.783Z"
   },
   {
    "duration": 0,
    "start_time": "2023-12-15T20:49:17.869Z"
   },
   {
    "duration": 0,
    "start_time": "2023-12-15T20:49:17.870Z"
   },
   {
    "duration": 0,
    "start_time": "2023-12-15T20:49:17.871Z"
   },
   {
    "duration": 0,
    "start_time": "2023-12-15T20:49:17.872Z"
   },
   {
    "duration": 0,
    "start_time": "2023-12-15T20:49:17.873Z"
   },
   {
    "duration": 9,
    "start_time": "2023-12-15T20:49:59.674Z"
   },
   {
    "duration": 9,
    "start_time": "2023-12-15T20:50:42.798Z"
   },
   {
    "duration": 9,
    "start_time": "2023-12-15T20:50:56.008Z"
   },
   {
    "duration": 8,
    "start_time": "2023-12-15T20:51:07.388Z"
   },
   {
    "duration": 8,
    "start_time": "2023-12-15T20:51:17.539Z"
   },
   {
    "duration": 8,
    "start_time": "2023-12-15T20:51:29.430Z"
   },
   {
    "duration": 10,
    "start_time": "2023-12-15T20:51:40.729Z"
   },
   {
    "duration": 7,
    "start_time": "2023-12-15T20:51:45.818Z"
   },
   {
    "duration": 8,
    "start_time": "2023-12-15T20:52:08.815Z"
   },
   {
    "duration": 44,
    "start_time": "2023-12-15T20:52:55.023Z"
   },
   {
    "duration": 8,
    "start_time": "2023-12-15T20:52:57.912Z"
   },
   {
    "duration": 41,
    "start_time": "2023-12-15T20:54:01.233Z"
   },
   {
    "duration": 7,
    "start_time": "2023-12-15T20:54:03.514Z"
   },
   {
    "duration": 4,
    "start_time": "2023-12-15T20:54:20.915Z"
   },
   {
    "duration": 3,
    "start_time": "2023-12-15T20:54:28.799Z"
   },
   {
    "duration": 32,
    "start_time": "2023-12-15T20:55:05.184Z"
   },
   {
    "duration": 2,
    "start_time": "2023-12-15T20:55:06.979Z"
   },
   {
    "duration": 3,
    "start_time": "2023-12-15T20:55:18.430Z"
   },
   {
    "duration": 38,
    "start_time": "2023-12-15T20:55:40.673Z"
   },
   {
    "duration": 32,
    "start_time": "2023-12-15T20:56:23.226Z"
   },
   {
    "duration": 11,
    "start_time": "2023-12-15T20:56:46.038Z"
   },
   {
    "duration": 120,
    "start_time": "2023-12-15T20:56:52.106Z"
   },
   {
    "duration": 617,
    "start_time": "2024-06-25T16:11:33.940Z"
   },
   {
    "duration": 20,
    "start_time": "2024-06-25T16:11:34.559Z"
   },
   {
    "duration": 90,
    "start_time": "2024-06-25T16:11:34.580Z"
   },
   {
    "duration": 8,
    "start_time": "2024-06-25T16:11:34.672Z"
   },
   {
    "duration": 42,
    "start_time": "2024-06-25T16:11:34.682Z"
   },
   {
    "duration": 3,
    "start_time": "2024-06-25T16:11:34.726Z"
   },
   {
    "duration": 12,
    "start_time": "2024-06-25T16:11:34.730Z"
   },
   {
    "duration": 4,
    "start_time": "2024-06-25T16:11:34.743Z"
   },
   {
    "duration": 14,
    "start_time": "2024-06-25T16:11:34.748Z"
   },
   {
    "duration": 6,
    "start_time": "2024-06-25T16:11:34.763Z"
   },
   {
    "duration": 36,
    "start_time": "2024-06-25T16:11:34.770Z"
   },
   {
    "duration": 14,
    "start_time": "2024-06-25T16:11:34.807Z"
   },
   {
    "duration": 8,
    "start_time": "2024-06-25T16:11:34.823Z"
   },
   {
    "duration": 12,
    "start_time": "2024-06-25T16:11:34.834Z"
   },
   {
    "duration": 18,
    "start_time": "2024-06-25T16:11:34.847Z"
   },
   {
    "duration": 15,
    "start_time": "2024-06-25T16:11:34.866Z"
   },
   {
    "duration": 2,
    "start_time": "2024-06-25T16:11:34.883Z"
   },
   {
    "duration": 36,
    "start_time": "2024-06-25T16:11:34.887Z"
   },
   {
    "duration": 6,
    "start_time": "2024-06-25T16:11:34.924Z"
   },
   {
    "duration": 3,
    "start_time": "2024-06-25T16:11:34.932Z"
   },
   {
    "duration": 9,
    "start_time": "2024-06-25T16:11:34.936Z"
   },
   {
    "duration": 5,
    "start_time": "2024-06-25T16:11:34.947Z"
   },
   {
    "duration": 7,
    "start_time": "2024-06-25T16:11:34.953Z"
   },
   {
    "duration": 13,
    "start_time": "2024-06-25T16:11:34.961Z"
   },
   {
    "duration": 55,
    "start_time": "2024-06-25T16:11:34.976Z"
   },
   {
    "duration": 5,
    "start_time": "2024-06-25T16:11:35.033Z"
   },
   {
    "duration": 6,
    "start_time": "2024-06-25T16:11:35.040Z"
   },
   {
    "duration": 10,
    "start_time": "2024-06-25T16:11:35.047Z"
   },
   {
    "duration": 5,
    "start_time": "2024-06-25T16:11:35.058Z"
   },
   {
    "duration": 475,
    "start_time": "2024-06-25T16:11:35.065Z"
   },
   {
    "duration": 2,
    "start_time": "2024-06-25T16:11:35.542Z"
   },
   {
    "duration": 21,
    "start_time": "2024-06-25T16:11:35.545Z"
   },
   {
    "duration": 163,
    "start_time": "2024-06-25T16:11:35.567Z"
   },
   {
    "duration": 20,
    "start_time": "2024-06-25T16:11:35.734Z"
   },
   {
    "duration": 27,
    "start_time": "2024-06-25T16:11:35.756Z"
   },
   {
    "duration": 174,
    "start_time": "2024-06-25T16:11:35.785Z"
   },
   {
    "duration": 79,
    "start_time": "2024-06-25T16:11:35.960Z"
   },
   {
    "duration": 25,
    "start_time": "2024-06-25T16:11:36.040Z"
   },
   {
    "duration": 14,
    "start_time": "2024-06-25T16:11:36.066Z"
   },
   {
    "duration": 22,
    "start_time": "2024-06-25T16:11:36.081Z"
   },
   {
    "duration": 45,
    "start_time": "2024-06-25T16:11:36.110Z"
   },
   {
    "duration": 29,
    "start_time": "2024-06-25T16:11:36.156Z"
   },
   {
    "duration": 487,
    "start_time": "2024-06-25T16:55:17.879Z"
   },
   {
    "duration": 28,
    "start_time": "2024-06-25T16:55:18.367Z"
   },
   {
    "duration": 20,
    "start_time": "2024-06-25T16:55:18.397Z"
   },
   {
    "duration": 15,
    "start_time": "2024-06-25T16:55:18.418Z"
   },
   {
    "duration": 32,
    "start_time": "2024-06-25T16:55:18.434Z"
   },
   {
    "duration": 3,
    "start_time": "2024-06-25T16:55:18.467Z"
   },
   {
    "duration": 14,
    "start_time": "2024-06-25T16:55:18.472Z"
   },
   {
    "duration": 4,
    "start_time": "2024-06-25T16:55:18.487Z"
   },
   {
    "duration": 22,
    "start_time": "2024-06-25T16:55:18.492Z"
   },
   {
    "duration": 38,
    "start_time": "2024-06-25T16:55:18.516Z"
   },
   {
    "duration": 31,
    "start_time": "2024-06-25T16:55:18.555Z"
   },
   {
    "duration": 8,
    "start_time": "2024-06-25T16:55:18.587Z"
   },
   {
    "duration": 4,
    "start_time": "2024-06-25T16:55:18.596Z"
   },
   {
    "duration": 10,
    "start_time": "2024-06-25T16:55:18.602Z"
   },
   {
    "duration": 30,
    "start_time": "2024-06-25T16:55:18.613Z"
   },
   {
    "duration": 16,
    "start_time": "2024-06-25T16:55:18.644Z"
   },
   {
    "duration": 5,
    "start_time": "2024-06-25T16:55:18.661Z"
   },
   {
    "duration": 12,
    "start_time": "2024-06-25T16:55:18.668Z"
   },
   {
    "duration": 5,
    "start_time": "2024-06-25T16:55:18.682Z"
   },
   {
    "duration": 56,
    "start_time": "2024-06-25T16:55:18.688Z"
   },
   {
    "duration": 64,
    "start_time": "2024-06-25T16:55:18.745Z"
   },
   {
    "duration": 11,
    "start_time": "2024-06-25T16:55:18.810Z"
   },
   {
    "duration": 8,
    "start_time": "2024-06-25T16:55:18.822Z"
   },
   {
    "duration": 27,
    "start_time": "2024-06-25T16:55:18.832Z"
   },
   {
    "duration": 26,
    "start_time": "2024-06-25T16:55:18.860Z"
   },
   {
    "duration": 7,
    "start_time": "2024-06-25T16:55:18.887Z"
   },
   {
    "duration": 32,
    "start_time": "2024-06-25T16:55:18.896Z"
   },
   {
    "duration": 32,
    "start_time": "2024-06-25T16:55:18.929Z"
   },
   {
    "duration": 11,
    "start_time": "2024-06-25T16:55:18.962Z"
   },
   {
    "duration": 266,
    "start_time": "2024-06-25T16:55:18.974Z"
   },
   {
    "duration": 2,
    "start_time": "2024-06-25T16:55:19.241Z"
   },
   {
    "duration": 5,
    "start_time": "2024-06-25T16:55:19.244Z"
   },
   {
    "duration": 150,
    "start_time": "2024-06-25T16:55:19.250Z"
   },
   {
    "duration": 17,
    "start_time": "2024-06-25T16:55:19.402Z"
   },
   {
    "duration": 47,
    "start_time": "2024-06-25T16:55:19.420Z"
   },
   {
    "duration": 178,
    "start_time": "2024-06-25T16:55:19.468Z"
   },
   {
    "duration": 44,
    "start_time": "2024-06-25T16:55:19.648Z"
   },
   {
    "duration": 29,
    "start_time": "2024-06-25T16:55:19.709Z"
   },
   {
    "duration": 5,
    "start_time": "2024-06-25T16:55:19.739Z"
   },
   {
    "duration": 40,
    "start_time": "2024-06-25T16:55:19.746Z"
   },
   {
    "duration": 36,
    "start_time": "2024-06-25T16:55:19.789Z"
   },
   {
    "duration": 28,
    "start_time": "2024-06-25T16:55:19.827Z"
   }
  ],
  "colab": {
   "provenance": []
  },
  "kernelspec": {
   "display_name": "Python 3 (ipykernel)",
   "language": "python",
   "name": "python3"
  },
  "language_info": {
   "codemirror_mode": {
    "name": "ipython",
    "version": 3
   },
   "file_extension": ".py",
   "mimetype": "text/x-python",
   "name": "python",
   "nbconvert_exporter": "python",
   "pygments_lexer": "ipython3",
   "version": "3.9.18"
  },
  "toc": {
   "base_numbering": 1,
   "nav_menu": {},
   "number_sections": true,
   "sideBar": true,
   "skip_h1_title": true,
   "title_cell": "Table of Contents",
   "title_sidebar": "Contents",
   "toc_cell": false,
   "toc_position": {
    "height": "calc(100% - 180px)",
    "left": "10px",
    "top": "150px",
    "width": "346.194px"
   },
   "toc_section_display": true,
   "toc_window_display": true
  }
 },
 "nbformat": 4,
 "nbformat_minor": 5
}
